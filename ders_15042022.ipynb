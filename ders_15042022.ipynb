{
  "nbformat": 4,
  "nbformat_minor": 0,
  "metadata": {
    "colab": {
      "name": "ders_15042022.ipynb",
      "provenance": []
    },
    "kernelspec": {
      "name": "python3",
      "display_name": "Python 3"
    },
    "language_info": {
      "name": "python"
    }
  },
  "cells": [
    {
      "cell_type": "markdown",
      "source": [
        "# **En Sık Kullanılan String İşlemleri**"
      ],
      "metadata": {
        "id": "wn3b7xEKQFki"
      }
    },
    {
      "cell_type": "markdown",
      "source": [
        "\\t bir tab boşluk\n",
        "\\n bir alt satıra geçirir"
      ],
      "metadata": {
        "id": "CS9bXvqsxkMQ"
      }
    },
    {
      "cell_type": "code",
      "execution_count": null,
      "metadata": {
        "colab": {
          "base_uri": "https://localhost:8080/"
        },
        "id": "DPta5_CMxfl7",
        "outputId": "f6a00477-fe75-48dc-d13c-eedafc4b811c"
      },
      "outputs": [
        {
          "output_type": "stream",
          "name": "stdout",
          "text": [
            "Bu bir \t örnektir  \n",
            " ikinci örnek\n"
          ]
        }
      ],
      "source": [
        "metin = \"Bu bir \\t örnektir  \\n ikinci örnek\"\n",
        "print(metin)"
      ]
    },
    {
      "cell_type": "code",
      "source": [
        "adSoyad = 'Salih\\tDemir\\n5489634785'\n",
        "print(adSoyad)   #özel bir fonksiyon varsa print ile yazdırılmalı"
      ],
      "metadata": {
        "colab": {
          "base_uri": "https://localhost:8080/"
        },
        "id": "gMccqwytx--n",
        "outputId": "56879c8d-aaf5-4a51-c6ce-a927ac4a0207"
      },
      "execution_count": null,
      "outputs": [
        {
          "output_type": "stream",
          "name": "stdout",
          "text": [
            "Salih\tDemir\n",
            "5489634785\n"
          ]
        }
      ]
    },
    {
      "cell_type": "markdown",
      "source": [
        "lover(),casefold() kullanımları:string.lower(),string.casefold()"
      ],
      "metadata": {
        "id": "kgcj_SQpyWx-"
      }
    },
    {
      "cell_type": "code",
      "source": [
        "metin='Bu bir örnekTIR'\n",
        "x=metin.lower()\n",
        "print(x)\n",
        "\n",
        "metin='Bu bir örnekTİR'   #Türkçe karakter çevirirken sorun çıkabilir tam anlamıyla çevirmeyebilir\n",
        "x=metin.casefold()\n",
        "print(x)"
      ],
      "metadata": {
        "colab": {
          "base_uri": "https://localhost:8080/"
        },
        "id": "xCqOQsRKyUIO",
        "outputId": "3dcfc7f9-82dd-4bad-93ae-9ff129a43d8f"
      },
      "execution_count": null,
      "outputs": [
        {
          "output_type": "stream",
          "name": "stdout",
          "text": [
            "bu bir örnektir\n",
            "bu bir örnekti̇r\n"
          ]
        }
      ]
    },
    {
      "cell_type": "markdown",
      "source": [
        "islower() geriye true, false değer döndürür"
      ],
      "metadata": {
        "id": "u1r4zGFDzDrn"
      }
    },
    {
      "cell_type": "code",
      "source": [
        "metin2 = 'hepsi küçük'\n",
        "print(metin2.islower())\n",
        "\n",
        "metin3 = 'Hepsi küçük'\n",
        "print(metin3.islower())"
      ],
      "metadata": {
        "colab": {
          "base_uri": "https://localhost:8080/"
        },
        "id": "oEjseVrozBlH",
        "outputId": "f9009a91-8fa9-41d4-8db7-9335670c370c"
      },
      "execution_count": null,
      "outputs": [
        {
          "output_type": "stream",
          "name": "stdout",
          "text": [
            "True\n",
            "False\n"
          ]
        }
      ]
    },
    {
      "cell_type": "markdown",
      "source": [
        "upper() fonsiyonu lower ve casefold un tam tersi"
      ],
      "metadata": {
        "id": "K5hhEWqWzeW5"
      }
    },
    {
      "cell_type": "code",
      "source": [
        "x=metin2.upper()\n",
        "print(x)"
      ],
      "metadata": {
        "colab": {
          "base_uri": "https://localhost:8080/"
        },
        "id": "4lx_g4oOzega",
        "outputId": "6483b588-086a-49a2-a18b-f227ae98b177"
      },
      "execution_count": null,
      "outputs": [
        {
          "output_type": "stream",
          "name": "stdout",
          "text": [
            "HEPSI KÜÇÜK\n"
          ]
        }
      ]
    },
    {
      "cell_type": "markdown",
      "source": [
        "capitalize() fonsiyonu  kullanımı :string.capitalize() ilk harfi büyük harfe çevirir"
      ],
      "metadata": {
        "id": "0tLaR2e_ztPl"
      }
    },
    {
      "cell_type": "code",
      "source": [
        "x=metin2.capitalize()\n",
        "print(x)"
      ],
      "metadata": {
        "colab": {
          "base_uri": "https://localhost:8080/"
        },
        "id": "PojLlI4tztXG",
        "outputId": "cef9d384-edf8-42e2-b273-8ce03d34c831"
      },
      "execution_count": null,
      "outputs": [
        {
          "output_type": "stream",
          "name": "stdout",
          "text": [
            "Hepsi küçük\n"
          ]
        }
      ]
    },
    {
      "cell_type": "markdown",
      "source": [
        "title() fonksiyonunun kullanımı :string.title() cümledeki her kelimenin ilk harfini büyük yazar\n",
        "istitle() title kontrolünü sağlar true false değer döndürür"
      ],
      "metadata": {
        "id": "vU2K9lsG0C49"
      }
    },
    {
      "cell_type": "code",
      "source": [
        "metin4='Bu bir başlıktır'\n",
        "metin4=metin4.title()\n",
        "print(metin4)"
      ],
      "metadata": {
        "colab": {
          "base_uri": "https://localhost:8080/"
        },
        "id": "RUkpSRbA0DEO",
        "outputId": "4094d373-c7e8-4f8f-8690-940cd9c56c7a"
      },
      "execution_count": null,
      "outputs": [
        {
          "output_type": "stream",
          "name": "stdout",
          "text": [
            "Bu Bir Başlıktır\n"
          ]
        }
      ]
    },
    {
      "cell_type": "code",
      "source": [
        "haber=\"Galatasaray'da başkan adayı Eşref Hamamcıoğlu seçilmesi durumunda sportif direktörlüğe Cenk Ergün'ü getireceğini açıkladı.\\n Sarı-kırmızılılarda şampiyon kadroları kuran ve transfer sihirbazı olarak adlandırılan\\n Cenk Ergün, Gomis, Maicon, Mariano, Fernando, Ndiaye, Belhanda ve Feghouli gibi yıldızları Galatasaray'a kazandırmıştı.\"\n",
        "print(haber)"
      ],
      "metadata": {
        "colab": {
          "base_uri": "https://localhost:8080/"
        },
        "id": "fAyc2B5u0k5e",
        "outputId": "2b7d15e7-9f78-4391-e8f0-bfd8ac4e1d63"
      },
      "execution_count": null,
      "outputs": [
        {
          "output_type": "stream",
          "name": "stdout",
          "text": [
            "Galatasaray'da başkan adayı Eşref Hamamcıoğlu seçilmesi durumunda sportif direktörlüğe Cenk Ergün'ü getireceğini açıkladı.\n",
            " Sarı-kırmızılılarda şampiyon kadroları kuran ve transfer sihirbazı olarak adlandırılan\n",
            " Cenk Ergün, Gomis, Maicon, Mariano, Fernando, Ndiaye, Belhanda ve Feghouli gibi yıldızları Galatasaray'a kazandırmıştı.\n"
          ]
        }
      ]
    },
    {
      "cell_type": "code",
      "source": [
        "x=haber.lower()\n",
        "print(x)"
      ],
      "metadata": {
        "colab": {
          "base_uri": "https://localhost:8080/"
        },
        "id": "NSHXKjxI1PG8",
        "outputId": "38f9c259-d8a2-4239-dbec-721c1cc13534"
      },
      "execution_count": null,
      "outputs": [
        {
          "output_type": "stream",
          "name": "stdout",
          "text": [
            "galatasaray'da başkan adayı eşref hamamcıoğlu seçilmesi durumunda sportif direktörlüğe cenk ergün'ü getireceğini açıkladı.\n",
            " sarı-kırmızılılarda şampiyon kadroları kuran ve transfer sihirbazı olarak adlandırılan\n",
            " cenk ergün, gomis, maicon, mariano, fernando, ndiaye, belhanda ve feghouli gibi yıldızları galatasaray'a kazandırmıştı.\n"
          ]
        }
      ]
    },
    {
      "cell_type": "code",
      "source": [
        "y=haber.upper()\n",
        "print(y)"
      ],
      "metadata": {
        "colab": {
          "base_uri": "https://localhost:8080/"
        },
        "id": "21YfAdaG1W47",
        "outputId": "418a8480-eac0-4b6f-b94a-197fbc9cbb27"
      },
      "execution_count": null,
      "outputs": [
        {
          "output_type": "stream",
          "name": "stdout",
          "text": [
            "GALATASARAY'DA BAŞKAN ADAYI EŞREF HAMAMCIOĞLU SEÇILMESI DURUMUNDA SPORTIF DIREKTÖRLÜĞE CENK ERGÜN'Ü GETIRECEĞINI AÇIKLADI.\n",
            " SARI-KIRMIZILILARDA ŞAMPIYON KADROLARI KURAN VE TRANSFER SIHIRBAZI OLARAK ADLANDIRILAN\n",
            " CENK ERGÜN, GOMIS, MAICON, MARIANO, FERNANDO, NDIAYE, BELHANDA VE FEGHOULI GIBI YILDIZLARI GALATASARAY'A KAZANDIRMIŞTI.\n"
          ]
        }
      ]
    },
    {
      "cell_type": "code",
      "source": [
        "z=haber.title()\n",
        "print(z)"
      ],
      "metadata": {
        "colab": {
          "base_uri": "https://localhost:8080/"
        },
        "id": "LY-bW4bg1igm",
        "outputId": "74e747c0-aab2-4388-fbad-5aabe1d159dd"
      },
      "execution_count": null,
      "outputs": [
        {
          "output_type": "stream",
          "name": "stdout",
          "text": [
            "Galatasaray'Da Başkan Adayı Eşref Hamamcıoğlu Seçilmesi Durumunda Sportif Direktörlüğe Cenk Ergün'Ü Getireceğini Açıkladı.\n",
            " Sarı-Kırmızılılarda Şampiyon Kadroları Kuran Ve Transfer Sihirbazı Olarak Adlandırılan\n",
            " Cenk Ergün, Gomis, Maicon, Mariano, Fernando, Ndiaye, Belhanda Ve Feghouli Gibi Yıldızları Galatasaray'A Kazandırmıştı.\n"
          ]
        }
      ]
    },
    {
      "cell_type": "code",
      "source": [
        "a=z.istitle()\n",
        "print(a)"
      ],
      "metadata": {
        "colab": {
          "base_uri": "https://localhost:8080/"
        },
        "id": "5HjEFl4x16rW",
        "outputId": "a53431b3-c122-4cd2-8b51-9bf842c8ee79"
      },
      "execution_count": null,
      "outputs": [
        {
          "output_type": "stream",
          "name": "stdout",
          "text": [
            "True\n"
          ]
        }
      ]
    },
    {
      "cell_type": "code",
      "source": [
        "q=haber.capitalize()\n",
        "print(q)"
      ],
      "metadata": {
        "colab": {
          "base_uri": "https://localhost:8080/"
        },
        "id": "2noQ5McF1pIO",
        "outputId": "6dbe5714-4380-4112-9544-8f2c86c6a488"
      },
      "execution_count": null,
      "outputs": [
        {
          "output_type": "stream",
          "name": "stdout",
          "text": [
            "Galatasaray'da başkan adayı eşref hamamcıoğlu seçilmesi durumunda sportif direktörlüğe cenk ergün'ü getireceğini açıkladı.\n",
            " sarı-kırmızılılarda şampiyon kadroları kuran ve transfer sihirbazı olarak adlandırılan\n",
            " cenk ergün, gomis, maicon, mariano, fernando, ndiaye, belhanda ve feghouli gibi yıldızları galatasaray'a kazandırmıştı.\n"
          ]
        }
      ]
    },
    {
      "cell_type": "markdown",
      "source": [
        "strip() fonksiyonu kullanımı:string.strip(string=\"\") metnin başında boşluk varsa onu siler veya içerisine yazdığınız değeri siler."
      ],
      "metadata": {
        "id": "-9KzMj6s2aWP"
      }
    },
    {
      "cell_type": "code",
      "source": [
        "metin5=\" Cemre \"\n",
        "e=metin5.strip()\n",
        "print(metin5)\n",
        "print(e)\n",
        "\n",
        "metin5=\"a Cemre \"\n",
        "e=metin5.strip('a')\n",
        "print(metin5)\n",
        "print(e)"
      ],
      "metadata": {
        "colab": {
          "base_uri": "https://localhost:8080/"
        },
        "id": "JWVi1sJ32ai2",
        "outputId": "7c3f4a20-5f41-4d75-ca38-d2e473d8c4e4"
      },
      "execution_count": null,
      "outputs": [
        {
          "output_type": "stream",
          "name": "stdout",
          "text": [
            " Cemre \n",
            "Cemre\n",
            "a Cemre \n",
            " Cemre \n"
          ]
        }
      ]
    },
    {
      "cell_type": "code",
      "source": [
        "print(haber)"
      ],
      "metadata": {
        "colab": {
          "base_uri": "https://localhost:8080/"
        },
        "id": "3B8Pu4EG3TJN",
        "outputId": "e48ac066-8dd0-4024-8991-7d1e35220e13"
      },
      "execution_count": null,
      "outputs": [
        {
          "output_type": "stream",
          "name": "stdout",
          "text": [
            "Galatasaray'da başkan adayı Eşref Hamamcıoğlu seçilmesi durumunda sportif direktörlüğe Cenk Ergün'ü getireceğini açıkladı.\n",
            " Sarı-kırmızılılarda şampiyon kadroları kuran ve transfer sihirbazı olarak adlandırılan\n",
            " Cenk Ergün, Gomis, Maicon, Mariano, Fernando, Ndiaye, Belhanda ve Feghouli gibi yıldızları Galatasaray'a kazandırmıştı.\n"
          ]
        }
      ]
    },
    {
      "cell_type": "code",
      "source": [
        "kucukHarf=haber.lower()\n",
        "print(kucukHarf)"
      ],
      "metadata": {
        "colab": {
          "base_uri": "https://localhost:8080/"
        },
        "id": "qeCjZY-43XzN",
        "outputId": "b357e992-25e3-4bdd-e034-070a79f6c1be"
      },
      "execution_count": null,
      "outputs": [
        {
          "output_type": "stream",
          "name": "stdout",
          "text": [
            "galatasaray'da başkan adayı eşref hamamcıoğlu seçilmesi durumunda sportif direktörlüğe cenk ergün'ü getireceğini açıkladı.\n",
            " sarı-kırmızılılarda şampiyon kadroları kuran ve transfer sihirbazı olarak adlandırılan\n",
            " cenk ergün, gomis, maicon, mariano, fernando, ndiaye, belhanda ve feghouli gibi yıldızları galatasaray'a kazandırmıştı.\n"
          ]
        }
      ]
    },
    {
      "cell_type": "markdown",
      "source": [
        "replace istediğiniz metin içerisindeki değiştirilmesi gereken kelimeleri değişimi için kullanılır replace(metin içindeki değer,metindeki değer yerine geçmesini istediğiniz değer) //Tüm değerler aynı boyutta değilse hepsi değil yazdığınız formdakiler değişir.İstenen tüm değerler değişebilir noktalama işaretleride dahil."
      ],
      "metadata": {
        "id": "X34y9MZy31kV"
      }
    },
    {
      "cell_type": "code",
      "source": [
        "mText=kucukHarf.replace(\"cenk\",\"melih\")\n",
        "print(mText)"
      ],
      "metadata": {
        "colab": {
          "base_uri": "https://localhost:8080/"
        },
        "id": "UfhFMR3Q3hfe",
        "outputId": "30d94440-963c-4be0-c6a0-906b8b254948"
      },
      "execution_count": null,
      "outputs": [
        {
          "output_type": "stream",
          "name": "stdout",
          "text": [
            "galatasaray'da başkan adayı eşref hamamcıoğlu seçilmesi durumunda sportif direktörlüğe melih ergün'ü getireceğini açıkladı.\n",
            " sarı-kırmızılılarda şampiyon kadroları kuran ve transfer sihirbazı olarak adlandırılan\n",
            " melih ergün, gomis, maicon, mariano, fernando, ndiaye, belhanda ve feghouli gibi yıldızları galatasaray'a kazandırmıştı.\n"
          ]
        }
      ]
    },
    {
      "cell_type": "code",
      "source": [
        "mGuncel=mText.replace(\"melih\",\" \")\n",
        "print(mGuncel)"
      ],
      "metadata": {
        "colab": {
          "base_uri": "https://localhost:8080/"
        },
        "id": "QY2IK3KN4Ro9",
        "outputId": "d81e0f09-da5d-4201-bfba-f7157c40e2ad"
      },
      "execution_count": null,
      "outputs": [
        {
          "output_type": "stream",
          "name": "stdout",
          "text": [
            "galatasaray'da başkan adayı eşref hamamcıoğlu seçilmesi durumunda sportif direktörlüğe   ergün'ü getireceğini açıkladı.\n",
            " sarı-kırmızılılarda şampiyon kadroları kuran ve transfer sihirbazı olarak adlandırılan\n",
            "   ergün, gomis, maicon, mariano, fernando, ndiaye, belhanda ve feghouli gibi yıldızları galatasaray'a kazandırmıştı.\n"
          ]
        }
      ]
    },
    {
      "cell_type": "markdown",
      "source": [
        "split() fonksiyonu kullanımı:string.split(separator=\"\",maxsplit=-1)\n",
        "splitlines fonksiyonu kullanımı :string.splitlines()\n",
        "veriyi belirlenen bir düzene göre parçalara ayırır.Belirlenen bir ayarlama yoksa boşluklara göre böler."
      ],
      "metadata": {
        "id": "7m6TFMFd4wWf"
      }
    },
    {
      "cell_type": "code",
      "source": [
        "print(haber.split())"
      ],
      "metadata": {
        "colab": {
          "base_uri": "https://localhost:8080/"
        },
        "id": "01C4-b7f4wJN",
        "outputId": "201428c9-8468-4dc5-be7a-06fd6d0b4842"
      },
      "execution_count": null,
      "outputs": [
        {
          "output_type": "stream",
          "name": "stdout",
          "text": [
            "[\"Galatasaray'da\", 'başkan', 'adayı', 'Eşref', 'Hamamcıoğlu', 'seçilmesi', 'durumunda', 'sportif', 'direktörlüğe', 'Cenk', \"Ergün'ü\", 'getireceğini', 'açıkladı.', 'Sarı-kırmızılılarda', 'şampiyon', 'kadroları', 'kuran', 've', 'transfer', 'sihirbazı', 'olarak', 'adlandırılan', 'Cenk', 'Ergün,', 'Gomis,', 'Maicon,', 'Mariano,', 'Fernando,', 'Ndiaye,', 'Belhanda', 've', 'Feghouli', 'gibi', 'yıldızları', \"Galatasaray'a\", 'kazandırmıştı.']\n"
          ]
        }
      ]
    },
    {
      "cell_type": "code",
      "source": [
        "print(haber.split('.'))"
      ],
      "metadata": {
        "colab": {
          "base_uri": "https://localhost:8080/"
        },
        "id": "gVJuE-hg5lUu",
        "outputId": "201a1d74-24b5-416f-a587-6632e2f97d25"
      },
      "execution_count": null,
      "outputs": [
        {
          "output_type": "stream",
          "name": "stdout",
          "text": [
            "[\"Galatasaray'da başkan adayı Eşref Hamamcıoğlu seçilmesi durumunda sportif direktörlüğe Cenk Ergün'ü getireceğini açıkladı\", \"\\n Sarı-kırmızılılarda şampiyon kadroları kuran ve transfer sihirbazı olarak adlandırılan\\n Cenk Ergün, Gomis, Maicon, Mariano, Fernando, Ndiaye, Belhanda ve Feghouli gibi yıldızları Galatasaray'a kazandırmıştı\", '']\n"
          ]
        }
      ]
    },
    {
      "cell_type": "code",
      "source": [
        "print(haber.lower().split('cenk'))"
      ],
      "metadata": {
        "colab": {
          "base_uri": "https://localhost:8080/"
        },
        "id": "vwaXVw3E5p8V",
        "outputId": "6be8c8d2-0ef9-43dd-96eb-1b801d9c70ef"
      },
      "execution_count": null,
      "outputs": [
        {
          "output_type": "stream",
          "name": "stdout",
          "text": [
            "[\"galatasaray'da başkan adayı eşref hamamcıoğlu seçilmesi durumunda sportif direktörlüğe \", \" ergün'ü getireceğini açıkladı.\\n sarı-kırmızılılarda şampiyon kadroları kuran ve transfer sihirbazı olarak adlandırılan\\n \", \" ergün, gomis, maicon, mariano, fernando, ndiaye, belhanda ve feghouli gibi yıldızları galatasaray'a kazandırmıştı.\"]\n"
          ]
        }
      ]
    },
    {
      "cell_type": "markdown",
      "source": [
        "len() fonsiyonu dizinin boyutunu verir.String de bir char dizisidir."
      ],
      "metadata": {
        "id": "vu7yEGRx6iic"
      }
    },
    {
      "cell_type": "code",
      "source": [
        "len(\"metin123\")"
      ],
      "metadata": {
        "colab": {
          "base_uri": "https://localhost:8080/"
        },
        "id": "-WNNHP0u5wQU",
        "outputId": "5ab87ece-efe7-4186-c50c-f299b565b707"
      },
      "execution_count": null,
      "outputs": [
        {
          "output_type": "execute_result",
          "data": {
            "text/plain": [
              "8"
            ]
          },
          "metadata": {},
          "execution_count": 35
        }
      ]
    },
    {
      "cell_type": "code",
      "source": [
        "len(haber.lower().split('cenk'))"
      ],
      "metadata": {
        "colab": {
          "base_uri": "https://localhost:8080/"
        },
        "id": "TsmzWyGC5zEt",
        "outputId": "340a9376-994c-4f45-83b0-8e6c1371b77f"
      },
      "execution_count": null,
      "outputs": [
        {
          "output_type": "execute_result",
          "data": {
            "text/plain": [
              "3"
            ]
          },
          "metadata": {},
          "execution_count": 36
        }
      ]
    },
    {
      "cell_type": "code",
      "source": [
        "print(haber.title().islower())      #Fonksiyonlar art arda yazılabilir fakat true/false sonucu veren fonksiyondan sonra fonksiyon yazmaya devam edilemez."
      ],
      "metadata": {
        "colab": {
          "base_uri": "https://localhost:8080/"
        },
        "id": "MggD1zt06EBm",
        "outputId": "d72ee41d-049d-4361-a5bd-8a63b4c6bd06"
      },
      "execution_count": null,
      "outputs": [
        {
          "output_type": "stream",
          "name": "stdout",
          "text": [
            "False\n"
          ]
        }
      ]
    },
    {
      "cell_type": "code",
      "source": [
        "print(len(haber.upper().split('A')))"
      ],
      "metadata": {
        "colab": {
          "base_uri": "https://localhost:8080/"
        },
        "id": "RO2_u6B96Y_0",
        "outputId": "bbd26c1b-d849-4822-8fb5-dcee8075028c"
      },
      "execution_count": null,
      "outputs": [
        {
          "output_type": "stream",
          "name": "stdout",
          "text": [
            "46\n"
          ]
        }
      ]
    },
    {
      "cell_type": "code",
      "source": [
        "isimSoyisim=\"Salih Can Demir\"\n",
        "print(isimSoyisim.split())\n",
        "print(len(isimSoyisim.split()))"
      ],
      "metadata": {
        "colab": {
          "base_uri": "https://localhost:8080/"
        },
        "id": "ZXk51yUb6pM8",
        "outputId": "8352df41-c2b8-45fc-9805-af255dc7bc33"
      },
      "execution_count": null,
      "outputs": [
        {
          "output_type": "stream",
          "name": "stdout",
          "text": [
            "['Salih', 'Can', 'Demir']\n",
            "3\n"
          ]
        }
      ]
    },
    {
      "cell_type": "code",
      "source": [
        "print(isimSoyisim.split()[2])"
      ],
      "metadata": {
        "colab": {
          "base_uri": "https://localhost:8080/"
        },
        "id": "FOpBipwc7WkU",
        "outputId": "8a7c9d70-cd53-4dff-b4c1-1a9e8338c5e3"
      },
      "execution_count": null,
      "outputs": [
        {
          "output_type": "stream",
          "name": "stdout",
          "text": [
            "Demir\n"
          ]
        }
      ]
    },
    {
      "cell_type": "code",
      "source": [
        "print(isimSoyisim.split()[len(isimSoyisim.split())-1].upper())"
      ],
      "metadata": {
        "colab": {
          "base_uri": "https://localhost:8080/"
        },
        "id": "6Zg_HQC67q-k",
        "outputId": "a4564da9-c5ed-4f64-ac2d-54390ef0b428"
      },
      "execution_count": null,
      "outputs": [
        {
          "output_type": "stream",
          "name": "stdout",
          "text": [
            "DEMIR\n"
          ]
        }
      ]
    },
    {
      "cell_type": "code",
      "source": [
        "def soyIsmiYaz(isim):\n",
        "  parcala=isim.split()     #parcala=['Salih', 'Can', 'Demir']\n",
        "  sonIndeks=len(parcala)-1\n",
        "  soyisim=parcala[sonIndeks]\n",
        "  soyisim=soyisim.upper()\n",
        "  return soyisim\n"
      ],
      "metadata": {
        "id": "GTfGmucY8Ax0"
      },
      "execution_count": null,
      "outputs": []
    },
    {
      "cell_type": "code",
      "source": [
        "soyad = soyIsmiYaz(\"Salih Can Demir\")\n",
        "print(soyad)"
      ],
      "metadata": {
        "colab": {
          "base_uri": "https://localhost:8080/"
        },
        "id": "O7SyAQaU86hd",
        "outputId": "7b59f7ce-5789-4b5a-e32a-c51113c10b9b"
      },
      "execution_count": null,
      "outputs": [
        {
          "output_type": "stream",
          "name": "stdout",
          "text": [
            "DEMIR\n"
          ]
        }
      ]
    },
    {
      "cell_type": "markdown",
      "source": [
        "count() fonsiyonu kullanımı : string.count(value,start=0,end=len(string))//Parametre olarak metin, kaçıncı kelime,o kelimede aranacak ifade\n",
        "o aranan ifadenin kelimede kaç tane olduğunu döndürür."
      ],
      "metadata": {
        "id": "PqhzZpJP9bE0"
      }
    },
    {
      "cell_type": "code",
      "source": [
        "print(haber)"
      ],
      "metadata": {
        "colab": {
          "base_uri": "https://localhost:8080/"
        },
        "id": "TiP-UFoQ-Ckz",
        "outputId": "d1e0f664-5525-4b68-fc49-c1283d3d1b1e"
      },
      "execution_count": null,
      "outputs": [
        {
          "output_type": "stream",
          "name": "stdout",
          "text": [
            "Galatasaray'da başkan adayı Eşref Hamamcıoğlu seçilmesi durumunda sportif direktörlüğe Cenk Ergün'ü getireceğini açıkladı.\n",
            " Sarı-kırmızılılarda şampiyon kadroları kuran ve transfer sihirbazı olarak adlandırılan\n",
            " Cenk Ergün, Gomis, Maicon, Mariano, Fernando, Ndiaye, Belhanda ve Feghouli gibi yıldızları Galatasaray'a kazandırmıştı.\n"
          ]
        }
      ]
    },
    {
      "cell_type": "code",
      "source": [
        "print(haber.count('Cenk'))\n",
        "print(haber.count('a',0,50))\n",
        "print(len(haber))\n",
        "print(haber.count('a',len(haber)-50,len(haber)))"
      ],
      "metadata": {
        "colab": {
          "base_uri": "https://localhost:8080/"
        },
        "id": "Q-_igtaY9tjs",
        "outputId": "c748933b-dc73-407a-ad37-9e9a818ba884"
      },
      "execution_count": null,
      "outputs": [
        {
          "output_type": "stream",
          "name": "stdout",
          "text": [
            "2\n",
            "12\n",
            "331\n",
            "9\n"
          ]
        }
      ]
    },
    {
      "cell_type": "code",
      "source": [
        "x=haber.split()\n",
        "y=len(x)-1\n",
        "print(x[y].count('ı'))"
      ],
      "metadata": {
        "colab": {
          "base_uri": "https://localhost:8080/"
        },
        "id": "ySIcbm5r_EgE",
        "outputId": "83d78483-820e-4757-acb1-4441668fa7d0"
      },
      "execution_count": null,
      "outputs": [
        {
          "output_type": "stream",
          "name": "stdout",
          "text": [
            "3\n"
          ]
        }
      ]
    },
    {
      "cell_type": "code",
      "source": [
        "def kelimeBul(yazi,indeks,harf):\n",
        "  parcala=yazi.split()\n",
        "  kIndeks = indeks\n",
        "  aranan = parcala[indeks].count(harf)  \n",
        "  return aranan"
      ],
      "metadata": {
        "id": "5bAxVvjw_m9u"
      },
      "execution_count": null,
      "outputs": []
    },
    {
      "cell_type": "code",
      "source": [
        "yazilan=input('Metin giriniz: ')\n",
        "indeksKelime = int(input('İstenilen indeksi giriniz: '))\n",
        "harf=input('İstenen harfi giriniz: ')\n",
        "sonuc=kelimeBul(yazilan,indeksKelime,harf)\n",
        "print(sonuc)"
      ],
      "metadata": {
        "colab": {
          "base_uri": "https://localhost:8080/"
        },
        "id": "kJFOWiKaAdiN",
        "outputId": "a7051cdc-416e-4e9d-de37-a411ff48b8fd"
      },
      "execution_count": null,
      "outputs": [
        {
          "output_type": "stream",
          "name": "stdout",
          "text": [
            "Metin giriniz: Galatasaray'da başkan adayı Eşref Hamamcıoğlu seçilmesi durumunda sportif direktörlüğe Cenk Ergün'ü getireceğini açıkladı.  Sarı-kırmızılılarda şampiyon kadroları kuran ve transfer sihirbazı olarak adlandırılan  Cenk Ergün, Gomis, Maicon, Mariano, Fernando, Ndiaye, Belhanda ve Feghouli gibi yıldızları Galatasaray'a kazandırmıştı.\n",
            "İstenilen indeksi giriniz: 5\n",
            "İstenen harfi giriniz: e\n",
            "2\n"
          ]
        }
      ]
    },
    {
      "cell_type": "markdown",
      "source": [
        "Center fonsiyonu kullanımı:string.center(length,character=\"\")"
      ],
      "metadata": {
        "id": "KsZT3l-lCCK6"
      }
    },
    {
      "cell_type": "code",
      "source": [
        "yazi=\"Deneme\"\n",
        "print(yazi)\n",
        "print(yazi.center(20))\n",
        "print(yazi.center(30,'*'))"
      ],
      "metadata": {
        "colab": {
          "base_uri": "https://localhost:8080/"
        },
        "id": "ERIu24cSCA77",
        "outputId": "59aae6f0-2037-49ef-a479-f9a366bb6da4"
      },
      "execution_count": null,
      "outputs": [
        {
          "output_type": "stream",
          "name": "stdout",
          "text": [
            "Deneme\n",
            "       Deneme       \n",
            "************Deneme************\n"
          ]
        }
      ]
    },
    {
      "cell_type": "code",
      "source": [
        "def ortala(metin,indeks,uzunluk,karakter):\n",
        "  sonuc=metin.split()[indeks].center(uzunluk,str(karakter))\n",
        "  return sonuc\n",
        "\n",
        "metin=input('Metni giriniz: ')\n",
        "indeks=int(input('İndeks değerini giriniz: '))\n",
        "uzunluk=int(input('Uzunluğu giriniz: '))\n",
        "karakter=input('Karakteri giriniz: ')\n",
        "cikti=ortala(metin,indeks,uzunluk,karakter)\n",
        "print(cikti)"
      ],
      "metadata": {
        "colab": {
          "base_uri": "https://localhost:8080/"
        },
        "id": "_tZz2D0PCqAL",
        "outputId": "789ace68-df28-4087-dcfe-ff7748630916"
      },
      "execution_count": null,
      "outputs": [
        {
          "output_type": "stream",
          "name": "stdout",
          "text": [
            "Metni giriniz: Galatasaray'da başkan adayı Eşref Hamamcıoğlu seçilmesi durumunda sportif direktörlüğe Cenk Ergün'ü getireceğini açıkladı.  Sarı-kırmızılılarda şampiyon kadroları kuran ve transfer sihirbazı olarak adlandırılan  Cenk Ergün, Gomis, Maicon, Mariano, Fernando, Ndiaye, Belhanda ve Feghouli gibi yıldızları Galatasaray'a kazandırmıştı.\n",
            "İndeks değerini giriniz: 5\n",
            "Uzunluğu giriniz: 50\n",
            "Karakteri giriniz: *\n",
            "********************seçilmesi*********************\n"
          ]
        }
      ]
    },
    {
      "cell_type": "markdown",
      "source": [
        "String karakter dizisi,liste[5,4,7,9][\"veri1\",\"veri2\",...]"
      ],
      "metadata": {
        "id": "5dyEFPdJRB4Y"
      }
    },
    {
      "cell_type": "code",
      "source": [
        "print(haber[300])"
      ],
      "metadata": {
        "colab": {
          "base_uri": "https://localhost:8080/"
        },
        "id": "Z52P7JTZRStP",
        "outputId": "8909db03-e64f-43ec-d0b1-ff08e7ae43d6"
      },
      "execution_count": null,
      "outputs": [
        {
          "output_type": "stream",
          "name": "stdout",
          "text": [
            "r\n"
          ]
        }
      ]
    },
    {
      "cell_type": "code",
      "source": [
        "#count fonksiyonu biz oluşturalım:\n",
        "\n",
        "def myCountFon(metin,aranacakHarf):\n",
        "  karakterSayisi=len(metin)\n",
        "  print(karakterSayisi)\n",
        "  sayac=0\n",
        "  for i in range(0,karakterSayisi):\n",
        "    if metin[i]==aranacakHarf:\n",
        "      sayac+=1\n",
        "  print(sayac,\" tane \",aranacakHarf,\" bulundu.\")"
      ],
      "metadata": {
        "id": "jIsQ384qRhxq"
      },
      "execution_count": null,
      "outputs": []
    },
    {
      "cell_type": "code",
      "source": [
        "myCountFon(haber,\"e\")"
      ],
      "metadata": {
        "colab": {
          "base_uri": "https://localhost:8080/"
        },
        "id": "9--8ixODSaHV",
        "outputId": "a5d02cd6-9d0f-4dc0-aef5-152536086b73"
      },
      "execution_count": null,
      "outputs": [
        {
          "output_type": "stream",
          "name": "stdout",
          "text": [
            "331\n",
            "17  tane  e  bulundu.\n"
          ]
        }
      ]
    },
    {
      "cell_type": "code",
      "source": [
        "def myCountFon(metin,aranacakHarf,basIndeks=0,sonIndeks=0):\n",
        "  if sonIndeks==0:\n",
        "    sonIndeks=len(metin)  \n",
        "  sayac=0\n",
        "  for i in range(basIndeks,sonIndeks):\n",
        "    if metin[i]==aranacakHarf:\n",
        "      sayac+=1\n",
        "  print(sayac,\" tane \",aranacakHarf,\" bulundu.\")\n",
        "  return sayac"
      ],
      "metadata": {
        "id": "TrofK0t6S9pm"
      },
      "execution_count": null,
      "outputs": []
    },
    {
      "cell_type": "code",
      "source": [
        "myCountFon(haber,\"e\",3,40)"
      ],
      "metadata": {
        "colab": {
          "base_uri": "https://localhost:8080/"
        },
        "id": "Hy-p3cMUTbbP",
        "outputId": "624d48a4-3de5-4261-98c2-985b38af96fd"
      },
      "execution_count": null,
      "outputs": [
        {
          "output_type": "stream",
          "name": "stdout",
          "text": [
            "1  tane  e  bulundu.\n"
          ]
        }
      ]
    },
    {
      "cell_type": "code",
      "source": [
        "harfler=\"aeıioöuü\"\n",
        "sayac=0\n",
        "for i in range(0,len(harfler)):\n",
        "  sayac += myCountFon(haber,harfler[i])\n",
        "\n",
        "print(\"Toplam \",sayac, \"sesli harf vardır.\")"
      ],
      "metadata": {
        "colab": {
          "base_uri": "https://localhost:8080/"
        },
        "id": "-WkOKbXMTrYH",
        "outputId": "de1236fe-081e-44e3-d891-4272dda61bf2"
      },
      "execution_count": null,
      "outputs": [
        {
          "output_type": "stream",
          "name": "stdout",
          "text": [
            "45  tane  a  bulundu.\n",
            "17  tane  e  bulundu.\n",
            "19  tane  ı  bulundu.\n",
            "17  tane  i  bulundu.\n",
            "10  tane  o  bulundu.\n",
            "1  tane  ö  bulundu.\n",
            "6  tane  u  bulundu.\n",
            "4  tane  ü  bulundu.\n",
            "Toplam  119 sesli harf vardır.\n"
          ]
        }
      ]
    },
    {
      "cell_type": "markdown",
      "source": [
        "endswith fonksiyonun kullanımı:string.endswith(value,start=0,end=len(string))  verilen değerle biten değeri bulup true false değer çıktısı verir"
      ],
      "metadata": {
        "id": "5-pPavqfU4Mu"
      }
    },
    {
      "cell_type": "code",
      "source": [
        "print(haber)\n"
      ],
      "metadata": {
        "colab": {
          "base_uri": "https://localhost:8080/"
        },
        "id": "ThiT2QNDU24u",
        "outputId": "edac08a3-5d75-4e06-9e79-037c33ef4dd3"
      },
      "execution_count": null,
      "outputs": [
        {
          "output_type": "stream",
          "name": "stdout",
          "text": [
            "Galatasaray'da başkan adayı Eşref Hamamcıoğlu seçilmesi durumunda sportif direktörlüğe Cenk Ergün'ü getireceğini açıkladı.\n",
            " Sarı-kırmızılılarda şampiyon kadroları kuran ve transfer sihirbazı olarak adlandırılan\n",
            " Cenk Ergün, Gomis, Maicon, Mariano, Fernando, Ndiaye, Belhanda ve Feghouli gibi yıldızları Galatasaray'a kazandırmıştı.\n"
          ]
        }
      ]
    },
    {
      "cell_type": "code",
      "source": [
        "print(haber.endswith(\"Mc\"))\n",
        "print(haber.endswith(\"kazandırmıştı.\"))\n",
        "print(haber[len(haber)-1])\n",
        "if haber[len(haber)-1] == \".\":\n",
        "  print(\"True\")\n",
        "else:\n",
        "  print(\"False\")"
      ],
      "metadata": {
        "colab": {
          "base_uri": "https://localhost:8080/"
        },
        "id": "7hk7NYmYVaKA",
        "outputId": "d8e417df-b35b-4f26-8813-b928b778508b"
      },
      "execution_count": null,
      "outputs": [
        {
          "output_type": "stream",
          "name": "stdout",
          "text": [
            "False\n",
            "True\n",
            ".\n",
            "True\n"
          ]
        }
      ]
    },
    {
      "cell_type": "code",
      "source": [
        "#endswith fonk. oluşturma\n",
        "\n",
        "def myEndswith(metin,kontrolmetni):\n",
        "  karakterSayisi = len(metin)\n",
        "  indeks=0 \n",
        "  for i in range(karakterSayisi-len(kontrolmetni),karakterSayisi):\n",
        "    if metin[i] != kontrolmetni[indeks]:     \n",
        "      return False\n",
        "    indeks += 1\n",
        "\n",
        "  return True\n"
      ],
      "metadata": {
        "id": "lLfXf2tDWKVl"
      },
      "execution_count": null,
      "outputs": []
    },
    {
      "cell_type": "code",
      "source": [
        "myEndswith(haber,\"kazandırmıştı.\")"
      ],
      "metadata": {
        "colab": {
          "base_uri": "https://localhost:8080/"
        },
        "id": "v0rymrKLXisG",
        "outputId": "7fbe742c-d1f6-4d2a-e342-ee3ed6a5a0a5"
      },
      "execution_count": null,
      "outputs": [
        {
          "output_type": "execute_result",
          "data": {
            "text/plain": [
              "True"
            ]
          },
          "metadata": {},
          "execution_count": 28
        }
      ]
    }
  ]
}