{
  "nbformat": 4,
  "nbformat_minor": 0,
  "metadata": {
    "colab": {
      "name": "ders_20042022.ipynb",
      "provenance": [],
      "collapsed_sections": []
    },
    "kernelspec": {
      "name": "python3",
      "display_name": "Python 3"
    },
    "language_info": {
      "name": "python"
    }
  },
  "cells": [
    {
      "cell_type": "markdown",
      "source": [
        "expandtabs fonksiyonu kullanımı: string.expandtabs(tabsize=8)"
      ],
      "metadata": {
        "id": "FhY8v1t4TlaJ"
      }
    },
    {
      "cell_type": "code",
      "source": [
        "metin=\"Merve\\tGüllü\\t248575\\thfa\"\n",
        "\n",
        "print(metin.expandtabs())\n",
        "print(metin.expandtabs(12))\n",
        "print(metin.expandtabs(2))"
      ],
      "metadata": {
        "colab": {
          "base_uri": "https://localhost:8080/"
        },
        "id": "BWLe3o5eTmZK",
        "outputId": "d0e23b47-9c94-4407-be8d-870b4d129373"
      },
      "execution_count": 1,
      "outputs": [
        {
          "output_type": "stream",
          "name": "stdout",
          "text": [
            "Merve   Güllü   248575  hfa\n",
            "Merve       Güllü       248575      hfa\n",
            "Merve Güllü 248575  hfa\n"
          ]
        }
      ]
    },
    {
      "cell_type": "markdown",
      "source": [
        "find fonksiyonu kullanımı: string.find(value, start=0, end=len(string))\n",
        "\n",
        "rfind fonksiyonu kullanımı: string.rfind(value, start=0, end=len(string))"
      ],
      "metadata": {
        "id": "57_kZHGaTtf8"
      }
    },
    {
      "cell_type": "code",
      "source": [
        "print(metin.find('e'))\n",
        "print(metin.rfind('e'))\n",
        "print(metin.find('5', len(metin)-10,len(metin)))"
      ],
      "metadata": {
        "colab": {
          "base_uri": "https://localhost:8080/"
        },
        "id": "dp0FlB8UTuQH",
        "outputId": "8fcad0a3-3717-46f7-ff23-51fee9e929ff"
      },
      "execution_count": 2,
      "outputs": [
        {
          "output_type": "stream",
          "name": "stdout",
          "text": [
            "1\n",
            "4\n",
            "15\n"
          ]
        }
      ]
    },
    {
      "cell_type": "markdown",
      "source": [
        "index fonksiyonu kullanımı: string.index(value, start=0, end=len(string))"
      ],
      "metadata": {
        "id": "nkM5bd4XT0mt"
      }
    },
    {
      "cell_type": "code",
      "source": [
        "print(metin.index('e'))\n",
        "#print(metin.index('q'))\n",
        "print(metin.find('q'))"
      ],
      "metadata": {
        "colab": {
          "base_uri": "https://localhost:8080/"
        },
        "id": "TJ_Zrv_lT1iw",
        "outputId": "595d25a2-d75a-487e-d123-9bddfe766506"
      },
      "execution_count": 3,
      "outputs": [
        {
          "output_type": "stream",
          "name": "stdout",
          "text": [
            "1\n",
            "-1\n"
          ]
        }
      ]
    },
    {
      "cell_type": "code",
      "source": [
        "txt='Merhaba'\n",
        "print(txt.find('k'))\n",
        "print(txt.index('e'))"
      ],
      "metadata": {
        "colab": {
          "base_uri": "https://localhost:8080/"
        },
        "id": "ehOQewQET57e",
        "outputId": "01a2edc6-e07b-4408-e857-390dc56d4aad"
      },
      "execution_count": 4,
      "outputs": [
        {
          "output_type": "stream",
          "name": "stdout",
          "text": [
            "-1\n",
            "1\n"
          ]
        }
      ]
    },
    {
      "cell_type": "markdown",
      "source": [
        "isalnum() metnin tamamen alfanümerik karakterlerden oluşup oluşmadığını kontrol eder"
      ],
      "metadata": {
        "id": "NZatKIi1nMzr"
      }
    },
    {
      "cell_type": "code",
      "execution_count": null,
      "metadata": {
        "colab": {
          "base_uri": "https://localhost:8080/"
        },
        "id": "beHynhCVlp2k",
        "outputId": "ffc4d366-e780-41b5-dd4b-5db293f5e831"
      },
      "outputs": [
        {
          "output_type": "stream",
          "name": "stdout",
          "text": [
            "True\n",
            "False\n"
          ]
        }
      ],
      "source": [
        "a=\"2154\"\n",
        "b=\"dfhk!\"\n",
        "print(a.isalnum())  #özel karakter yoksa harf veya sayılarda true döndürür\n",
        "print(b.isalnum())  #özel karakter var ise false döndürür \n"
      ]
    },
    {
      "cell_type": "markdown",
      "source": [
        "isalpha() metnin tamamen alfabede bulunan karakterlerden oluşup oluşmadığını kontrol eder"
      ],
      "metadata": {
        "id": "V3-q5mfNnZEB"
      }
    },
    {
      "cell_type": "code",
      "source": [
        "a=\"2154\"\n",
        "b=\"dfhkjkhg\"\n",
        "print(a.isalpha())\n",
        "print(b.isalpha())   #sadece alfabeden oluşursa true çevririr"
      ],
      "metadata": {
        "colab": {
          "base_uri": "https://localhost:8080/"
        },
        "id": "_zzEK9VUmxKc",
        "outputId": "f0e561cb-52d9-44e4-e90f-2b300706b3d4"
      },
      "execution_count": null,
      "outputs": [
        {
          "output_type": "stream",
          "name": "stdout",
          "text": [
            "False\n",
            "True\n"
          ]
        }
      ]
    },
    {
      "cell_type": "code",
      "source": [
        "print(b.zfill(10))"
      ],
      "metadata": {
        "colab": {
          "base_uri": "https://localhost:8080/"
        },
        "id": "zXiy9CBwnfZs",
        "outputId": "74cc02c6-0965-4fd3-b9a4-80d030f25e6d"
      },
      "execution_count": null,
      "outputs": [
        {
          "output_type": "stream",
          "name": "stdout",
          "text": [
            "00dfhkjkhg\n"
          ]
        }
      ]
    },
    {
      "cell_type": "markdown",
      "source": [
        "# **The PlaceHolder**"
      ],
      "metadata": {
        "id": "6odMIKLWoMnM"
      }
    },
    {
      "cell_type": "code",
      "source": [
        "txt1 = \"Sisteme Hoşgeldiniz {fname}, I'm {age}\".format(fname= \"John\" , age=36)\n",
        "\n",
        "txt3 = \"My name is {}, I'm {}\".format(\"John\",36)\n",
        "\n",
        "print(txt1)\n",
        "print(\"My name is {0}, I'm {1}\".format(\"John\",36))\n",
        "print(txt3)\n",
        "print(\"My name is {}{} Hanım {}\".format(\"Merve\",3,3))"
      ],
      "metadata": {
        "colab": {
          "base_uri": "https://localhost:8080/"
        },
        "id": "-fr7v3gKoLsc",
        "outputId": "d1a29eb7-ebd9-47e4-89b3-7d7f31734731"
      },
      "execution_count": null,
      "outputs": [
        {
          "output_type": "stream",
          "name": "stdout",
          "text": [
            "Sisteme Hoşgeldiniz John, I'm 36\n",
            "My name is John, I'm 36\n",
            "My name is John, I'm 36\n",
            "My name is Merve3 Hanım 3\n"
          ]
        }
      ]
    },
    {
      "cell_type": "markdown",
      "source": [
        " Girilen cümlenin kaç kelimeden oluştuğunu ekrana yazan fonk."
      ],
      "metadata": {
        "id": "oStEBMnkUMGN"
      }
    },
    {
      "cell_type": "code",
      "source": [
        "def hesapla(cumle):\n",
        "  parcalanmis = cumle.split()\n",
        "  print(parcalanmis)\n",
        "  return len(parcalanmis)\n"
      ],
      "metadata": {
        "id": "tYKqDtRVpVFF"
      },
      "execution_count": null,
      "outputs": []
    },
    {
      "cell_type": "code",
      "source": [
        "cumle=input(\"Cumle gieiniz: \")\n",
        "x=hesapla(cumle)\n",
        "print(x)"
      ],
      "metadata": {
        "colab": {
          "base_uri": "https://localhost:8080/"
        },
        "id": "bcykGM6EpzmE",
        "outputId": "404d3f77-426a-4720-e5dc-d07f32b18985"
      },
      "execution_count": null,
      "outputs": [
        {
          "output_type": "stream",
          "name": "stdout",
          "text": [
            "Cumle gieiniz: Hello my friends\n",
            "['Hello', 'my', 'friends']\n",
            "3\n"
          ]
        }
      ]
    },
    {
      "cell_type": "markdown",
      "source": [
        "# **Sık Kullanılan Fonsiyonlar**"
      ],
      "metadata": {
        "id": "St2V5O2sqWrs"
      }
    },
    {
      "cell_type": "markdown",
      "source": [
        "len()"
      ],
      "metadata": {
        "id": "Sa-NWm6Vqcpz"
      }
    },
    {
      "cell_type": "code",
      "source": [
        "len(\"Bu bir cumledir\")\n"
      ],
      "metadata": {
        "colab": {
          "base_uri": "https://localhost:8080/"
        },
        "id": "yLcr994_qbx7",
        "outputId": "d53ce471-aa67-4ca0-b84f-fd0b5789173b"
      },
      "execution_count": null,
      "outputs": [
        {
          "output_type": "execute_result",
          "data": {
            "text/plain": [
              "15"
            ]
          },
          "metadata": {},
          "execution_count": 19
        }
      ]
    },
    {
      "cell_type": "code",
      "source": [
        "parcalanmis=\"Bu bir cumledir\".split()\n",
        "len(parcalanmis)"
      ],
      "metadata": {
        "colab": {
          "base_uri": "https://localhost:8080/"
        },
        "id": "bOtg4ejaqiyE",
        "outputId": "103bb611-8928-49f9-c176-183b74c2cc03"
      },
      "execution_count": null,
      "outputs": [
        {
          "output_type": "execute_result",
          "data": {
            "text/plain": [
              "3"
            ]
          },
          "metadata": {},
          "execution_count": 20
        }
      ]
    },
    {
      "cell_type": "markdown",
      "source": [
        "range()"
      ],
      "metadata": {
        "id": "X6Nm5SR8q0ec"
      }
    },
    {
      "cell_type": "code",
      "source": [
        "for i in range(1,10,3):\n",
        "  print(i)\n"
      ],
      "metadata": {
        "colab": {
          "base_uri": "https://localhost:8080/"
        },
        "id": "czy-3FYHqzz8",
        "outputId": "f920515b-0c14-4bfb-c9e8-08c17758cbfb"
      },
      "execution_count": null,
      "outputs": [
        {
          "output_type": "stream",
          "name": "stdout",
          "text": [
            "1\n",
            "4\n",
            "7\n"
          ]
        }
      ]
    },
    {
      "cell_type": "markdown",
      "source": [
        "str(),int(),float() değişken tipi değiştirme foksiyonları"
      ],
      "metadata": {
        "id": "f-5ghe-2rO-m"
      }
    },
    {
      "cell_type": "code",
      "source": [
        "int(\"254\")"
      ],
      "metadata": {
        "colab": {
          "base_uri": "https://localhost:8080/"
        },
        "id": "7dZKtHpJrW0b",
        "outputId": "1907aee1-d690-4e23-89cc-a5a7d92eb4c7"
      },
      "execution_count": null,
      "outputs": [
        {
          "output_type": "execute_result",
          "data": {
            "text/plain": [
              "254"
            ]
          },
          "metadata": {},
          "execution_count": 23
        }
      ]
    },
    {
      "cell_type": "code",
      "source": [
        "sayi=45.25\n",
        "x=str(sayi)\n",
        "x += \"10\"\n",
        "print(x)"
      ],
      "metadata": {
        "colab": {
          "base_uri": "https://localhost:8080/"
        },
        "id": "X-lrQfM9rbHs",
        "outputId": "94723c5c-9dac-4348-ef73-fd7a19aaddd6"
      },
      "execution_count": null,
      "outputs": [
        {
          "output_type": "stream",
          "name": "stdout",
          "text": [
            "45.2510\n"
          ]
        }
      ]
    },
    {
      "cell_type": "markdown",
      "source": [
        "type() önceden tanımlanan bir değişenin tipini öğrenebilmeyi sağlar"
      ],
      "metadata": {
        "id": "OdEiCIibroue"
      }
    },
    {
      "cell_type": "code",
      "source": [
        "type(x)"
      ],
      "metadata": {
        "colab": {
          "base_uri": "https://localhost:8080/"
        },
        "id": "nhvjFz6-ruYD",
        "outputId": "54e84d12-6cfb-49d9-8f46-7391385bf84c"
      },
      "execution_count": null,
      "outputs": [
        {
          "output_type": "execute_result",
          "data": {
            "text/plain": [
              "str"
            ]
          },
          "metadata": {},
          "execution_count": 25
        }
      ]
    },
    {
      "cell_type": "markdown",
      "source": [
        "round(number,digits=0) digits kısmına 1 yazarsak vrgülden sonra kaç basamak alacağı belirlenir"
      ],
      "metadata": {
        "id": "52QsJbf4r7Bt"
      }
    },
    {
      "cell_type": "code",
      "source": [
        "sayi=45.25896374\n",
        "print(sayi)\n",
        "print(round(sayi,5))\n",
        "print(round(sayi))"
      ],
      "metadata": {
        "colab": {
          "base_uri": "https://localhost:8080/"
        },
        "id": "nCmTKZctr_rc",
        "outputId": "320e3e77-1cbb-49d0-933c-45f737f0d761"
      },
      "execution_count": null,
      "outputs": [
        {
          "output_type": "stream",
          "name": "stdout",
          "text": [
            "45.25896374\n",
            "45.25896\n",
            "45\n"
          ]
        }
      ]
    },
    {
      "cell_type": "markdown",
      "source": [
        "Girilen kelimenin büyük sesli uyumuna uyup uymadığını kontrol eden fonksiyonu oluşturunuz. (Büyük sesli uyumunda tüm sesli harfler ya kalın sesli  (a,ı,o,u) ya da ince sesli (e,i,ö,ü)  harflerden oluşmalıdır."
      ],
      "metadata": {
        "id": "72grVMhlTe3a"
      }
    },
    {
      "cell_type": "code",
      "source": [
        "def buyukSesliUyumu(kelime):\n",
        "  kalin=\"aıou\"\n",
        "  ince=\"eiöü\"\n",
        "\n",
        "  kalinSayisi=0\n",
        "  for i in range(0,len(kalin)):\n",
        "    kalinSayisi += kelime.count(kalin[i])\n",
        "\n",
        "  if kalinSayisi == 0:\n",
        "    print(\"İnce sesli harflerden oluşur.Büyük sesli uyumuna uyar.\")\n",
        "  else:\n",
        "    inceSayisi = 0\n",
        "    for i in range(0,len(inceSayisi)):\n",
        "      inceSayisi += kelime.count(ince[i])\n",
        "    if inceSayisi !=0:\n",
        "      print(\"Büyük sesli uyumuna uymaz.\")\n",
        "    else:\n",
        "      print(\"Kalın sesli harflerden oluşur.Büyük sesli uyumuna uyar.\")\n"
      ],
      "metadata": {
        "id": "WAgA1dvttnMv"
      },
      "execution_count": null,
      "outputs": []
    },
    {
      "cell_type": "code",
      "source": [
        "kelime=input(\"Kelime giriniz: \")\n",
        "buyukSesliUyumu(kelime)"
      ],
      "metadata": {
        "colab": {
          "base_uri": "https://localhost:8080/"
        },
        "id": "t_uaax7Jxjxo",
        "outputId": "d3297811-ad99-4ba2-e6bb-0c5632a9c235"
      },
      "execution_count": null,
      "outputs": [
        {
          "output_type": "stream",
          "name": "stdout",
          "text": [
            "Kelime giriniz: Kelime\n",
            "İnce sesli harflerden oluşur.Büyük sesli uyumuna uyar.\n"
          ]
        }
      ]
    }
  ]
}