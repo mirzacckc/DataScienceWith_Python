{
  "nbformat": 4,
  "nbformat_minor": 0,
  "metadata": {
    "colab": {
      "name": "ders_25042022.ipynb",
      "provenance": [],
      "collapsed_sections": []
    },
    "kernelspec": {
      "name": "python3",
      "display_name": "Python 3"
    },
    "language_info": {
      "name": "python"
    }
  },
  "cells": [
    {
      "cell_type": "markdown",
      "source": [
        "# **TUPLE**"
      ],
      "metadata": {
        "id": "h8KSbtHnSU_3"
      }
    },
    {
      "cell_type": "markdown",
      "source": [
        "tanımlama,değer atama(tuple da tanımlanan değer değiştirilmez.) (Tanımlanır tanımlanmaz değer atamak gerekir)"
      ],
      "metadata": {
        "id": "Cm6iffoZSYVW"
      }
    },
    {
      "cell_type": "code",
      "execution_count": null,
      "metadata": {
        "id": "MNdE4l1yST9a"
      },
      "outputs": [],
      "source": [
        "liste=[\"a\",\"b\",54,True] #liste\n",
        "tuple1=(\"a\",\"b\",54,True)  #tuple"
      ]
    },
    {
      "cell_type": "code",
      "source": [
        "mytuple=3.2,4,\"Hello\"\n",
        "print(mytuple)"
      ],
      "metadata": {
        "colab": {
          "base_uri": "https://localhost:8080/"
        },
        "id": "Q4yoCc26S3Cn",
        "outputId": "4459a2e5-f56c-4d66-dcc8-aa948447ae0b"
      },
      "execution_count": null,
      "outputs": [
        {
          "output_type": "stream",
          "name": "stdout",
          "text": [
            "(3.2, 4, 'Hello')\n"
          ]
        }
      ]
    },
    {
      "cell_type": "code",
      "source": [
        "type(tuple1)"
      ],
      "metadata": {
        "colab": {
          "base_uri": "https://localhost:8080/"
        },
        "id": "XfKbE7M_TDP_",
        "outputId": "37b23247-057a-4c58-8bb7-c8afa86b5aaf"
      },
      "execution_count": null,
      "outputs": [
        {
          "output_type": "execute_result",
          "data": {
            "text/plain": [
              "tuple"
            ]
          },
          "metadata": {},
          "execution_count": 4
        }
      ]
    },
    {
      "cell_type": "markdown",
      "source": [
        "Değerlere erişim, indexler"
      ],
      "metadata": {
        "id": "ZJPqyxL1GoUB"
      }
    },
    {
      "cell_type": "code",
      "source": [
        "print(mytuple[-1])   #son deger\n",
        "print(mytuple[1:2])  #Çıkan sonuc 1 değerli tuple döndürür,son deger"
      ],
      "metadata": {
        "colab": {
          "base_uri": "https://localhost:8080/"
        },
        "id": "lg3niTj9TSmI",
        "outputId": "cca0ea9e-e09f-4ff7-b16d-901fd7fe6c25"
      },
      "execution_count": null,
      "outputs": [
        {
          "output_type": "stream",
          "name": "stdout",
          "text": [
            "Hello\n",
            "(4,)\n"
          ]
        }
      ]
    },
    {
      "cell_type": "markdown",
      "source": [
        "Değer değişimi(tuple iken değer değişimi olmaz bunu liste türüne çevirip değeri değiştirip tekrar değer değiştirmek gerek)"
      ],
      "metadata": {
        "id": "mxdM_DVgTxKI"
      }
    },
    {
      "cell_type": "code",
      "source": [
        "liste1=list(mytuple)\n",
        "liste1[0]=5.3\n",
        "liste1"
      ],
      "metadata": {
        "colab": {
          "base_uri": "https://localhost:8080/"
        },
        "id": "-9G8JQe6Tzcf",
        "outputId": "91963fdf-72fb-4484-af42-1f900547466d"
      },
      "execution_count": null,
      "outputs": [
        {
          "output_type": "execute_result",
          "data": {
            "text/plain": [
              "[5.3, 4, 'Hello']"
            ]
          },
          "metadata": {},
          "execution_count": 9
        }
      ]
    },
    {
      "cell_type": "code",
      "source": [
        "tuple2=tuple(liste)\n",
        "tuple2"
      ],
      "metadata": {
        "colab": {
          "base_uri": "https://localhost:8080/"
        },
        "id": "c9W3KGcGUcMP",
        "outputId": "04ef70f1-4242-4b7c-ff6a-f80477a2426b"
      },
      "execution_count": null,
      "outputs": [
        {
          "output_type": "execute_result",
          "data": {
            "text/plain": [
              "(5.3, 4, 'Hello')"
            ]
          },
          "metadata": {},
          "execution_count": 8
        }
      ]
    },
    {
      "cell_type": "code",
      "source": [
        "y=(1,2,3) + (4,5,6)\n",
        "print(y)"
      ],
      "metadata": {
        "colab": {
          "base_uri": "https://localhost:8080/"
        },
        "id": "cnoe7y-uU-iX",
        "outputId": "c311c760-3e5a-48ae-f1b5-011ff7bfcf33"
      },
      "execution_count": null,
      "outputs": [
        {
          "output_type": "stream",
          "name": "stdout",
          "text": [
            "(1, 2, 3, 4, 5, 6)\n"
          ]
        }
      ]
    },
    {
      "cell_type": "markdown",
      "source": [
        "Tuple yapısında + ve * \n",
        "\n",
        "y=(1, 2, 3) + (4, 5, 6)\n",
        "\n",
        "x=(\"Hello\",) * 3\n",
        "\n",
        "print(type(x))\n",
        "\n",
        "print(x)"
      ],
      "metadata": {
        "id": "tuypFhymG1_5"
      }
    },
    {
      "cell_type": "code",
      "source": [
        "x=(\"Hello\",) * 3\n",
        "print(type(x))\n",
        "print(x)"
      ],
      "metadata": {
        "colab": {
          "base_uri": "https://localhost:8080/"
        },
        "id": "11SMHIcMVEz-",
        "outputId": "f201cf30-be39-410b-b78b-5c995e35487d"
      },
      "execution_count": null,
      "outputs": [
        {
          "output_type": "stream",
          "name": "stdout",
          "text": [
            "<class 'tuple'>\n",
            "('Hello', 'Hello', 'Hello')\n"
          ]
        }
      ]
    },
    {
      "cell_type": "markdown",
      "source": [
        "Silme işlemi index olarak değil tümden tuple'ı silerek olur"
      ],
      "metadata": {
        "id": "tNGEBAxzVRkd"
      }
    },
    {
      "cell_type": "code",
      "source": [
        "del(x) #buradaki gibi\n",
        "del(x[0]) #buna izin vermez"
      ],
      "metadata": {
        "id": "fmL29lFCVQi-"
      },
      "execution_count": null,
      "outputs": []
    },
    {
      "cell_type": "markdown",
      "source": [
        "*   count\n",
        "\n",
        "*   index\n",
        "\n",
        "*   len\n",
        "\n",
        "*   membership\n",
        "\n",
        "*   sorted()\n"
      ],
      "metadata": {
        "id": "C9pjim2BG6Gz"
      }
    },
    {
      "cell_type": "code",
      "source": [
        "tuple1=(\"a\",\"b\",54,True)\n",
        "\n",
        "if 54 in tuple1:   #listede de yapıldığını üzere üyesi olduğu sorgulanır\n",
        "  print(\"var\")\n",
        "if 64 not in tuple1:  #listede de yapıldığını üzere üyesi olmaduğu sorgulanır\n",
        "  print('yok')"
      ],
      "metadata": {
        "colab": {
          "base_uri": "https://localhost:8080/"
        },
        "id": "novslydjVpMF",
        "outputId": "3afbde91-2846-46a7-8d7a-15cf49d9b5dd"
      },
      "execution_count": null,
      "outputs": [
        {
          "output_type": "stream",
          "name": "stdout",
          "text": [
            "var\n",
            "yok\n"
          ]
        }
      ]
    },
    {
      "cell_type": "code",
      "source": [
        "tuple3=('a',45,7,1.2,True,False,50,50,50)\n",
        "print(len(tuple3))\n",
        "print(tuple3.count(50))\n",
        "print(tuple3.index(True))"
      ],
      "metadata": {
        "colab": {
          "base_uri": "https://localhost:8080/"
        },
        "id": "VBx9iOFMWXS2",
        "outputId": "4b2dffd5-2fb1-424e-d53f-8f1d5bf23118"
      },
      "execution_count": null,
      "outputs": [
        {
          "output_type": "stream",
          "name": "stdout",
          "text": [
            "9\n",
            "3\n",
            "4\n"
          ]
        }
      ]
    },
    {
      "cell_type": "code",
      "source": [
        "tuple4=(5,7,8,9,1,2,4)\n",
        "tuple5=tuple(sorted(tuple4))\n",
        "print(tuple5)"
      ],
      "metadata": {
        "colab": {
          "base_uri": "https://localhost:8080/"
        },
        "id": "t3jPOzf7W2hn",
        "outputId": "cc3c88e1-0bb7-49c6-e785-de77eb0c54ad"
      },
      "execution_count": null,
      "outputs": [
        {
          "output_type": "stream",
          "name": "stdout",
          "text": [
            "(1, 2, 4, 5, 7, 8, 9)\n"
          ]
        }
      ]
    },
    {
      "cell_type": "markdown",
      "source": [
        "fruits = (\"apple\", \"banana\", \"cherry\")\n",
        "\n",
        "(green, yellow, red) = fruits\n",
        "\n",
        "print(green)\n",
        "print(yellow)\n",
        "print(red)"
      ],
      "metadata": {
        "id": "0DnFpw_AHE1X"
      }
    },
    {
      "cell_type": "code",
      "source": [
        "fruits=(\"apple\",\"banana\",\"cherry\")\n",
        "(green,yellow,red)=fruits\n",
        "print(green)\n",
        "print(yellow)\n",
        "print(red)"
      ],
      "metadata": {
        "colab": {
          "base_uri": "https://localhost:8080/"
        },
        "id": "SHoL18SrXSBe",
        "outputId": "acfcf033-6ac6-4b6e-afb0-7f5077ac935d"
      },
      "execution_count": null,
      "outputs": [
        {
          "output_type": "stream",
          "name": "stdout",
          "text": [
            "apple\n",
            "banana\n",
            "cherry\n"
          ]
        }
      ]
    },
    {
      "cell_type": "code",
      "source": [
        "green, *yellow = fruits  #ilk değer green diğer değerler yellowa atamayı sağlar\n",
        "print(green)\n",
        "print(yellow)"
      ],
      "metadata": {
        "colab": {
          "base_uri": "https://localhost:8080/"
        },
        "id": "x8m1IAskX35G",
        "outputId": "c4095f36-0bbe-4632-c736-c5f862b12a41"
      },
      "execution_count": null,
      "outputs": [
        {
          "output_type": "stream",
          "name": "stdout",
          "text": [
            "apple\n",
            "['banana', 'cherry']\n"
          ]
        }
      ]
    },
    {
      "cell_type": "code",
      "source": [
        "aTuplex = (100,(200,300),400,500)\n",
        "print(aTuplex)\n",
        "print(aTuplex[1][0])\n",
        "print(aTuplex[2])"
      ],
      "metadata": {
        "colab": {
          "base_uri": "https://localhost:8080/"
        },
        "id": "7AuOfsFKYg08",
        "outputId": "160866c0-91eb-4170-e9d0-4dfcfeb932d0"
      },
      "execution_count": null,
      "outputs": [
        {
          "output_type": "stream",
          "name": "stdout",
          "text": [
            "(100, (200, 300), 400, 500)\n",
            "200\n",
            "400\n"
          ]
        }
      ]
    },
    {
      "cell_type": "code",
      "source": [
        "for i in aTuplex:\n",
        "  print(i)"
      ],
      "metadata": {
        "colab": {
          "base_uri": "https://localhost:8080/"
        },
        "id": "U8as2a83ZZMl",
        "outputId": "35ab6f76-4f9b-433d-8927-06be98e153dc"
      },
      "execution_count": null,
      "outputs": [
        {
          "output_type": "stream",
          "name": "stdout",
          "text": [
            "100\n",
            "(200, 300)\n",
            "400\n",
            "500\n"
          ]
        }
      ]
    },
    {
      "cell_type": "markdown",
      "source": [
        "Rastgele bir metinde küçük harfleri büyüten , büyük harfleri küçülterek daha sonrasında bu harflerin her birini bir dictionary oluşturarak ona aktaran program"
      ],
      "metadata": {
        "id": "eQlm32zpH_iC"
      }
    },
    {
      "cell_type": "code",
      "source": [
        "metin=\"kjdgagğÖGRBLDAFSMALDSömskfmdlskfm\"\n",
        "metin1 =\"\"\n",
        "for i in metin:\n",
        "  if i.islower():\n",
        "    metin1 += i.upper()\n",
        "  else:\n",
        "    metin1 += i.lower()\n",
        "dict9={(i+1):str(metin1[i]) for i in range(0, len(metin1))}\n",
        "print(dict9)"
      ],
      "metadata": {
        "colab": {
          "base_uri": "https://localhost:8080/"
        },
        "id": "yE-RX5vAH9HR",
        "outputId": "709e2e3c-daf9-4086-a06f-3af2bcaf1e30"
      },
      "execution_count": null,
      "outputs": [
        {
          "output_type": "stream",
          "name": "stdout",
          "text": [
            "{1: 'K', 2: 'J', 3: 'D', 4: 'G', 5: 'A', 6: 'G', 7: 'Ğ', 8: 'ö', 9: 'g', 10: 'r', 11: 'b', 12: 'l', 13: 'd', 14: 'a', 15: 'f', 16: 's', 17: 'm', 18: 'a', 19: 'l', 20: 'd', 21: 's', 22: 'Ö', 23: 'M', 24: 'S', 25: 'K', 26: 'F', 27: 'M', 28: 'D', 29: 'L', 30: 'S', 31: 'K', 32: 'F', 33: 'M'}\n"
          ]
        }
      ]
    },
    {
      "cell_type": "markdown",
      "source": [
        "Belirlenen aralıktan sayıları seçerek ve teklerin karşısına 1, çiflerin karşısına 2 yazması koşuluyla bir dictionary oluşturan program"
      ],
      "metadata": {
        "id": "O4bwdfcFHLu0"
      }
    },
    {
      "cell_type": "code",
      "source": [
        "# Dictionary Comprehension\n",
        "squares = {x:i for x in range(1,16) }\n",
        "for i in squares:\n",
        "  if i % 2 == 0: \n",
        "    squares.update({i: 2})\n",
        "  else:\n",
        "    squares.update({i: 1})\n",
        "\n",
        "print(squares)"
      ],
      "metadata": {
        "colab": {
          "base_uri": "https://localhost:8080/"
        },
        "id": "HUc2bJE4HMZU",
        "outputId": "557a0d7b-f61f-47f2-806c-d4d8d0a6c7f8"
      },
      "execution_count": null,
      "outputs": [
        {
          "output_type": "stream",
          "name": "stdout",
          "text": [
            "{1: 1, 2: 2, 3: 1, 4: 2, 5: 1, 6: 2, 7: 1, 8: 2, 9: 1, 10: 2, 11: 1, 12: 2, 13: 1, 14: 2, 15: 1}\n"
          ]
        }
      ]
    },
    {
      "cell_type": "markdown",
      "source": [
        "# **SET**"
      ],
      "metadata": {
        "id": "PFYjsh1PZkj0"
      }
    },
    {
      "cell_type": "markdown",
      "source": [
        "Tanımlama, değer atama"
      ],
      "metadata": {
        "id": "5rGkUfOPHKSL"
      }
    },
    {
      "cell_type": "code",
      "source": [
        "a={5,4,3}\n",
        "b={}\n",
        "print(a)"
      ],
      "metadata": {
        "colab": {
          "base_uri": "https://localhost:8080/"
        },
        "id": "lQI3cWWiZmdD",
        "outputId": "6d3d1e5e-9d9b-44ea-d1f9-6da8b6e38f1b"
      },
      "execution_count": null,
      "outputs": [
        {
          "output_type": "stream",
          "name": "stdout",
          "text": [
            "{3, 4, 5}\n"
          ]
        }
      ]
    },
    {
      "cell_type": "code",
      "source": [
        "a={5,4,3,5}  #küme olarak aynı değeri tekrar eklemek etkilemez.\n",
        "print(a)     #Görüldüğü üzere 5 tekrar eklediğimizde gözükmemekte\n",
        "print(len(a))"
      ],
      "metadata": {
        "colab": {
          "base_uri": "https://localhost:8080/"
        },
        "id": "3JF-FBxXZuBE",
        "outputId": "9b30f60c-380f-4a99-ca7e-3f94807b2732"
      },
      "execution_count": null,
      "outputs": [
        {
          "output_type": "stream",
          "name": "stdout",
          "text": [
            "{3, 4, 5}\n",
            "3\n"
          ]
        }
      ]
    },
    {
      "cell_type": "markdown",
      "source": [
        "add(), update(), remove(), discard(), clear(), del() "
      ],
      "metadata": {
        "id": "koNTCb3uHOUT"
      }
    },
    {
      "cell_type": "code",
      "source": [
        "a.add('a')\n",
        "print(a)"
      ],
      "metadata": {
        "colab": {
          "base_uri": "https://localhost:8080/"
        },
        "id": "ZdjsZYy_Z2w8",
        "outputId": "56a52b84-0a0e-4490-d3c1-48cf0628e225"
      },
      "execution_count": null,
      "outputs": [
        {
          "output_type": "stream",
          "name": "stdout",
          "text": [
            "{3, 4, 5, 'a'}\n"
          ]
        }
      ]
    },
    {
      "cell_type": "code",
      "source": [
        "#Birden çok veri gönderilecekse liste türünde istenmekte\n",
        "a.update(['abc']) #bu şekilde dersek tek bir değer olarak ekler\n",
        "a.update('abc')   #içindeki değeri liste olarak kabul edip tek tek ekler\n",
        "print(a)"
      ],
      "metadata": {
        "colab": {
          "base_uri": "https://localhost:8080/"
        },
        "id": "4ls4DElIaPvd",
        "outputId": "377ee15b-533e-4e1f-95cd-c9aa58fd280f"
      },
      "execution_count": null,
      "outputs": [
        {
          "output_type": "stream",
          "name": "stdout",
          "text": [
            "{'c', 3, 4, 5, 'b', 'abc', 'a'}\n"
          ]
        }
      ]
    },
    {
      "cell_type": "code",
      "source": [
        "a.update(['dbs']) #bu şekilde dersek tek bir değer olarak ekler\n",
        "a.update('dbs')   #içindeki değeri liste olarak kabul edip tek tek ekler\n",
        "print(a)"
      ],
      "metadata": {
        "colab": {
          "base_uri": "https://localhost:8080/"
        },
        "id": "-lSGnF9BbCcj",
        "outputId": "f96963e2-a609-4202-9e5b-4c349df8079d"
      },
      "execution_count": null,
      "outputs": [
        {
          "output_type": "stream",
          "name": "stdout",
          "text": [
            "{'d', 'c', 3, 4, 5, 'b', 'dbs', 'abc', 'a', 's'}\n"
          ]
        }
      ]
    },
    {
      "cell_type": "code",
      "source": [
        "a.remove(\"abc\")\n",
        "print(a)\n",
        "\n",
        "a.discard(\"a\")\n",
        "print(a)"
      ],
      "metadata": {
        "colab": {
          "base_uri": "https://localhost:8080/"
        },
        "id": "QBKFC-QNbNpM",
        "outputId": "d6b19bda-a4c0-4c3e-bda0-9eb2f0bed178"
      },
      "execution_count": null,
      "outputs": [
        {
          "output_type": "stream",
          "name": "stdout",
          "text": [
            "{'d', 'c', 3, 4, 5, 'b', 'dbs', 'a', 's'}\n",
            "{'d', 'c', 3, 4, 5, 'b', 'dbs', 's'}\n"
          ]
        }
      ]
    },
    {
      "cell_type": "markdown",
      "source": [
        "copy(), id()"
      ],
      "metadata": {
        "id": "waj7DwM2HU4z"
      }
    },
    {
      "cell_type": "code",
      "source": [
        "c={\"b\",\"r\"}\n",
        "c.clear()\n",
        "print(c)"
      ],
      "metadata": {
        "colab": {
          "base_uri": "https://localhost:8080/"
        },
        "id": "aVf7OMwybhRs",
        "outputId": "6e3597e3-93d1-4f50-ebcd-2d8a61c7dff9"
      },
      "execution_count": null,
      "outputs": [
        {
          "output_type": "stream",
          "name": "stdout",
          "text": [
            "set()\n"
          ]
        }
      ]
    },
    {
      "cell_type": "markdown",
      "source": [
        "sum, min, max, len"
      ],
      "metadata": {
        "id": "XucyzOYuHabr"
      }
    },
    {
      "cell_type": "code",
      "source": [
        "d={5,4,3,5}\n",
        "print(sum(d))\n",
        "print(min(d))\n",
        "print(max(d))"
      ],
      "metadata": {
        "colab": {
          "base_uri": "https://localhost:8080/"
        },
        "id": "vD37zo3ubpzr",
        "outputId": "25e639ff-7c66-455b-dc6a-02290e683049"
      },
      "execution_count": null,
      "outputs": [
        {
          "output_type": "stream",
          "name": "stdout",
          "text": [
            "12\n",
            "3\n",
            "5\n"
          ]
        }
      ]
    },
    {
      "cell_type": "code",
      "source": [
        "kume={('a',3,4),5,'c',('s','d','b')} #küme içerisine liste tanımlayamıyoruz küme içerisine tekrar eden bir yapı kabul etmediği için tuple ile tanımlayabiliyoruz."
      ],
      "metadata": {
        "id": "pndFoSGocBG9"
      },
      "execution_count": null,
      "outputs": []
    },
    {
      "cell_type": "markdown",
      "source": [
        "Birleşim (union) |, Kesişim (intersection) & , difference -, issubset, issuperset, isdisjoint()"
      ],
      "metadata": {
        "id": "MwBrdmhoHgW_"
      }
    },
    {
      "cell_type": "code",
      "source": [
        "A={1,2,3,4,5}\n",
        "B={4,5,6,7,8}\n",
        "print(A.union(B))  #sadece birleştir değerleri yazdır.İlk değerleri değiştirmez. A birleşim B = A | B \n",
        "print(A.intersection(B))  #Kesişim kümesini verir. A kesişim B = A & B\n",
        "print(A.difference(B))    # Fark kümesini verir. A fark B = A - B\n",
        "print(A.symmetric_difference(B))  # Ortak olanları çıkarıp birleştirir. A ^ B"
      ],
      "metadata": {
        "colab": {
          "base_uri": "https://localhost:8080/"
        },
        "id": "kwlrPguoeBb0",
        "outputId": "f2a1c668-d8f4-4237-ceb3-21a5b100e0ee"
      },
      "execution_count": null,
      "outputs": [
        {
          "output_type": "stream",
          "name": "stdout",
          "text": [
            "{1, 2, 3, 4, 5, 6, 7, 8}\n",
            "{4, 5}\n",
            "{1, 2, 3}\n",
            "{1, 2, 3, 6, 7, 8}\n"
          ]
        }
      ]
    },
    {
      "cell_type": "code",
      "source": [
        "C = {6,7,8}\n",
        "print(C.issubset(A))  # C kümesi A nın alt kümesi mi?\n",
        "print(C.issubset(B))  # C kümesi B nın alt kümesi mi?\n",
        "print(A.issuperset(C))  # A kümesi C yi kapsar mı? \n",
        "print(B.issuperset(C))  # B kümesi C yi kapsar mı? \n",
        "print(A.isdisjoint(C)) #Ortakları var mı? Yoksa True Varsa False\n",
        "print(B.isdisjoint(C)) #Ortakları var mı? Yoksa True Varsa False"
      ],
      "metadata": {
        "colab": {
          "base_uri": "https://localhost:8080/"
        },
        "id": "H3TCVPPceZ6U",
        "outputId": "d16fb71b-4164-4b4e-edbb-e33fa54291c1"
      },
      "execution_count": null,
      "outputs": [
        {
          "output_type": "stream",
          "name": "stdout",
          "text": [
            "False\n",
            "True\n",
            "False\n",
            "True\n",
            "True\n",
            "False\n"
          ]
        }
      ]
    },
    {
      "cell_type": "markdown",
      "source": [
        "# **Dictionary**"
      ],
      "metadata": {
        "id": "s7KP3G18hZ1C"
      }
    },
    {
      "cell_type": "markdown",
      "source": [
        "Tanımlama\n",
        "## empty dictionary\n",
        "my_dict = {}\n",
        "\n",
        "## dictionary with integer keys\n",
        "my_dict = {1: 'apple', 2: 'ball'}\n",
        "\n",
        "## dictionary with mixed keys\n",
        "my_dict = {'name': 'John', 'not': [2, 4, 3]}\n",
        "\n",
        "## using dict()\n",
        "my_dict = dict({1:'apple', 2:'ball'})\n",
        "\n",
        "## from sequence having each item as a pair\n",
        "my_dict = dict([(1,'apple'), (2,'ball')])"
      ],
      "metadata": {
        "id": "lZRIQhsWHwF5"
      }
    },
    {
      "cell_type": "code",
      "source": [
        "dict1={'key1': 'value', 'key2':'value2'}"
      ],
      "metadata": {
        "id": "hMOW2H19hdri"
      },
      "execution_count": null,
      "outputs": []
    },
    {
      "cell_type": "markdown",
      "source": [
        "**Elemanlara erişim** \n",
        "\n",
        "print(my_dict['name'])\n",
        "\n",
        "\n",
        "print(my_dict.get('age'))"
      ],
      "metadata": {
        "id": "Zjvp3LKLIGar"
      }
    },
    {
      "cell_type": "code",
      "source": [
        "print(dict1['key1'])\n",
        "print(dict1.get('key2'))\n",
        "print(len(dict1))"
      ],
      "metadata": {
        "colab": {
          "base_uri": "https://localhost:8080/"
        },
        "id": "9T5qvGcRIIui",
        "outputId": "f87fe084-c3ad-4c06-f801-8f9df5caa690"
      },
      "execution_count": null,
      "outputs": [
        {
          "output_type": "stream",
          "name": "stdout",
          "text": [
            "value\n",
            "value2\n",
            "2\n"
          ]
        }
      ]
    },
    {
      "cell_type": "code",
      "source": [
        "dicOgr={'ad':'Elif','soyad':'Yılmaz','No':'4521','Vize':45,'Final':78}  #veri indexleri listedeki gibi 0 dan başlar\n",
        "dicOgr={'ogrenciBilgileri':{'ad':'Elif','soyad':'Yılmaz','No':'4521','Vize':45,'Final':78}}  #iç içe bu şekilde tanımlama yapılmaktadır.\n",
        "\n",
        "print(dict1['key1'])  #index şeklinde çağıralabilir\n",
        "print(dict1.get('key2'))   #Veya get komutuylada çağırabilir\n",
        "\n",
        "print(dicOgr['ogrenciBilgileri'])\n",
        "print(dicOgr['ogrenciBilgileri']['soyad'])"
      ],
      "metadata": {
        "colab": {
          "base_uri": "https://localhost:8080/"
        },
        "id": "PnWAkTNwiSNx",
        "outputId": "924ee77a-311f-4680-c0f7-455f13508f88"
      },
      "execution_count": null,
      "outputs": [
        {
          "output_type": "stream",
          "name": "stdout",
          "text": [
            "value\n",
            "value2\n",
            "{'ad': 'Elif', 'soyad': 'Yılmaz', 'No': '4521', 'Vize': 45, 'Final': 78}\n",
            "Yılmaz\n"
          ]
        }
      ]
    },
    {
      "cell_type": "code",
      "source": [
        "print(len(dict1))\n",
        "print(len(dicOgr))\n",
        "print(len(dicOgr['ogrenciBilgileri']))\n",
        "print(dicOgr['ogrenciBilgileri'])"
      ],
      "metadata": {
        "colab": {
          "base_uri": "https://localhost:8080/"
        },
        "id": "_HcE7hoIj5xI",
        "outputId": "a87064ac-3e17-42c2-8e1d-954528d6cd47"
      },
      "execution_count": null,
      "outputs": [
        {
          "output_type": "stream",
          "name": "stdout",
          "text": [
            "2\n",
            "1\n",
            "5\n",
            "{'ad': 'Elif', 'soyad': 'Yılmaz', 'No': '4521', 'Vize': 45, 'Final': 78}\n"
          ]
        }
      ]
    },
    {
      "cell_type": "code",
      "source": [
        "dicOgr1={'ogrenciBilgileri':{'ad':'Elif','soyad':'Yılmaz','No':'4521','Sınav':[45,78]}} \n",
        "print(dicOgr1['ogrenciBilgileri'])\n",
        "print(len(dicOgr1['ogrenciBilgileri']))\n",
        "print(dicOgr1['ogrenciBilgileri']['Sınav'][1])"
      ],
      "metadata": {
        "colab": {
          "base_uri": "https://localhost:8080/"
        },
        "id": "kuZDDFfIkxjp",
        "outputId": "18ffb2fb-fb45-4234-f834-8aad769843e0"
      },
      "execution_count": null,
      "outputs": [
        {
          "output_type": "stream",
          "name": "stdout",
          "text": [
            "{'ad': 'Elif', 'soyad': 'Yılmaz', 'No': '4521', 'Sınav': [45, 78]}\n",
            "4\n",
            "78\n"
          ]
        }
      ]
    },
    {
      "cell_type": "code",
      "source": [
        "dict2={'ad':'Samet'}\n",
        "dict3=dict2"
      ],
      "metadata": {
        "id": "X-OAW-NowrMX"
      },
      "execution_count": null,
      "outputs": []
    },
    {
      "cell_type": "code",
      "source": [
        "dict4=dict2.copy()"
      ],
      "metadata": {
        "id": "r4e_Yn-sw1re"
      },
      "execution_count": null,
      "outputs": []
    },
    {
      "cell_type": "code",
      "source": [
        "print(id(dict2))\n",
        "print(id(dict3))\n",
        "print(id(dict4))"
      ],
      "metadata": {
        "colab": {
          "base_uri": "https://localhost:8080/"
        },
        "id": "tKVnGJTDw9tG",
        "outputId": "d272d402-515b-48c1-afc5-59bc32eb60d2"
      },
      "execution_count": null,
      "outputs": [
        {
          "output_type": "stream",
          "name": "stdout",
          "text": [
            "139928491771776\n",
            "139928491771776\n",
            "139928466359872\n"
          ]
        }
      ]
    },
    {
      "cell_type": "code",
      "source": [
        "dict3['ad']='Seda'\n",
        "print(dict2)\n",
        "print(dict3)\n",
        "print(dict4)"
      ],
      "metadata": {
        "colab": {
          "base_uri": "https://localhost:8080/"
        },
        "id": "QsAU0Mv7xIcO",
        "outputId": "38078952-9197-4b7e-d0ed-99ef25a08b0e"
      },
      "execution_count": null,
      "outputs": [
        {
          "output_type": "stream",
          "name": "stdout",
          "text": [
            "{'ad': 'Seda'}\n",
            "{'ad': 'Seda'}\n",
            "{'ad': 'Samet'}\n"
          ]
        }
      ]
    },
    {
      "cell_type": "code",
      "source": [
        "dict5={'ad':'Elif','soyad':'Yılmaz','No':'4521','Vize':45,'Final':78}\n",
        "\n",
        "for i in dict5:  # key,value döndürür\n",
        "  print(i, \" \",dict5[i]) "
      ],
      "metadata": {
        "colab": {
          "base_uri": "https://localhost:8080/"
        },
        "id": "n4AkGyaDxrl3",
        "outputId": "fa542636-7837-4f1e-fb50-0d72185c54ee"
      },
      "execution_count": null,
      "outputs": [
        {
          "output_type": "stream",
          "name": "stdout",
          "text": [
            "ad   Elif\n",
            "soyad   Yılmaz\n",
            "No   4521\n",
            "Vize   45\n",
            "Final   78\n"
          ]
        }
      ]
    },
    {
      "cell_type": "code",
      "source": [
        "dict5.pop('Final') # dictionary de pop içine mutlaka değer yazılmalı yazılmadığında son değişkeni silme işlemini yapmamakta\n",
        "dict5"
      ],
      "metadata": {
        "colab": {
          "base_uri": "https://localhost:8080/"
        },
        "id": "1LinicWnyT7h",
        "outputId": "3f886c02-b117-42a3-d427-0f2bd71030d7"
      },
      "execution_count": null,
      "outputs": [
        {
          "output_type": "execute_result",
          "data": {
            "text/plain": [
              "{'No': '4521', 'Vize': 45, 'ad': 'Elif', 'soyad': 'Yılmaz'}"
            ]
          },
          "metadata": {},
          "execution_count": 11
        }
      ]
    },
    {
      "cell_type": "markdown",
      "source": [
        "items, keys, len, pop, popitem, clear, del"
      ],
      "metadata": {
        "id": "UEZWfF7qI_wy"
      }
    },
    {
      "cell_type": "code",
      "source": [
        "del(dict5['No'])\n",
        "dict5"
      ],
      "metadata": {
        "colab": {
          "base_uri": "https://localhost:8080/"
        },
        "id": "cLXfFgqnyuVU",
        "outputId": "cf31a90f-0e4c-4651-b009-24bbd20b60d3"
      },
      "execution_count": null,
      "outputs": [
        {
          "output_type": "execute_result",
          "data": {
            "text/plain": [
              "{'Vize': 45, 'ad': 'Elif', 'soyad': 'Yılmaz'}"
            ]
          },
          "metadata": {},
          "execution_count": 12
        }
      ]
    },
    {
      "cell_type": "code",
      "source": [
        "print(dict3)\n",
        "dict3.clear()\n",
        "print(dict3)\n",
        "#del(dict2) komtuyla tüm dic silinir"
      ],
      "metadata": {
        "colab": {
          "base_uri": "https://localhost:8080/"
        },
        "id": "F_nlFXiCy1Zc",
        "outputId": "b317330d-296e-45fc-c99b-73d52b115841"
      },
      "execution_count": null,
      "outputs": [
        {
          "output_type": "stream",
          "name": "stdout",
          "text": [
            "{'ad': 'Seda'}\n",
            "{}\n"
          ]
        }
      ]
    },
    {
      "cell_type": "code",
      "source": [
        "liste1=[i for i in range(1,11)] #tek satırda liste için for döngüsü"
      ],
      "metadata": {
        "id": "MJEg2OyHzC5-"
      },
      "execution_count": null,
      "outputs": []
    },
    {
      "cell_type": "code",
      "source": [
        "dict6 = {i:str(i) for i in range(1,11)}\n",
        "\n",
        "print(dict6)\n",
        "print(type(dict6))"
      ],
      "metadata": {
        "colab": {
          "base_uri": "https://localhost:8080/"
        },
        "id": "UobhLWaQziq_",
        "outputId": "6535e2cf-529c-431c-dc63-14677be58a38"
      },
      "execution_count": null,
      "outputs": [
        {
          "output_type": "stream",
          "name": "stdout",
          "text": [
            "{1: '1', 2: '2', 3: '3', 4: '4', 5: '5', 6: '6', 7: '7', 8: '8', 9: '9', 10: '10'}\n",
            "<class 'dict'>\n"
          ]
        }
      ]
    },
    {
      "cell_type": "code",
      "source": [
        "metin=\"kjsdjksjdsjdDJBFDJBFDBFJDFBJÖĞÜÇsdsdsa\"\n",
        "\n",
        "dict7={i+1:str(metin[i]) for i in range(0,len(metin))}\n",
        "print(dict7)"
      ],
      "metadata": {
        "colab": {
          "base_uri": "https://localhost:8080/"
        },
        "id": "MtWyoH_Z0j05",
        "outputId": "b3b03ff5-cb37-4153-bca7-566eb5bee333"
      },
      "execution_count": null,
      "outputs": [
        {
          "output_type": "stream",
          "name": "stdout",
          "text": [
            "{1: 'k', 2: 'j', 3: 's', 4: 'd', 5: 'j', 6: 'k', 7: 's', 8: 'j', 9: 'd', 10: 's', 11: 'j', 12: 'd', 13: 'D', 14: 'J', 15: 'B', 16: 'F', 17: 'D', 18: 'J', 19: 'B', 20: 'F', 21: 'D', 22: 'B', 23: 'F', 24: 'J', 25: 'D', 26: 'F', 27: 'B', 28: 'J', 29: 'Ö', 30: 'Ğ', 31: 'Ü', 32: 'Ç', 33: 's', 34: 'd', 35: 's', 36: 'd', 37: 's', 38: 'a'}\n"
          ]
        }
      ]
    },
    {
      "cell_type": "code",
      "source": [
        "dict8={i+1:str(metin[i]) for i in range(0,len(metin))}\n",
        "print(dict8)"
      ],
      "metadata": {
        "id": "vHLKQiZo1gbV"
      },
      "execution_count": null,
      "outputs": []
    },
    {
      "cell_type": "code",
      "source": [
        "squares = {}\n",
        "for x in range(6):\n",
        "  squares[x] = x*x\n",
        "print(squares)\n",
        "\n",
        "squares['yeni']='deger'\n",
        "squares[10]='deger10'\n",
        "squares[0] = 'deger0'\n",
        "print(squares)"
      ],
      "metadata": {
        "colab": {
          "base_uri": "https://localhost:8080/"
        },
        "id": "r7Ef7q7k2pM0",
        "outputId": "be8217ac-fbf0-4037-eb09-7d2ecc4d60e7"
      },
      "execution_count": null,
      "outputs": [
        {
          "output_type": "stream",
          "name": "stdout",
          "text": [
            "{0: 0, 1: 1, 2: 4, 3: 9, 4: 16, 5: 25}\n",
            "{0: 'deger0', 1: 1, 2: 4, 3: 9, 4: 16, 5: 25, 'yeni': 'deger', 10: 'deger10'}\n"
          ]
        }
      ]
    },
    {
      "cell_type": "code",
      "source": [
        "#Dictionary Comprehension\n",
        "\n",
        "squares1 = {x: x*x for x in range(16)}\n",
        "\n",
        "print(squares1)"
      ],
      "metadata": {
        "colab": {
          "base_uri": "https://localhost:8080/"
        },
        "id": "WOU69gxW3x6G",
        "outputId": "90be4918-19c5-4ede-8516-5d5760254913"
      },
      "execution_count": null,
      "outputs": [
        {
          "output_type": "stream",
          "name": "stdout",
          "text": [
            "{0: 0, 1: 1, 2: 4, 3: 9, 4: 16, 5: 25, 6: 36, 7: 49, 8: 64, 9: 81, 10: 100, 11: 121, 12: 144, 13: 169, 14: 196, 15: 225}\n"
          ]
        }
      ]
    }
  ]
}