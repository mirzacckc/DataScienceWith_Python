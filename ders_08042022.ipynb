{
  "nbformat": 4,
  "nbformat_minor": 0,
  "metadata": {
    "colab": {
      "name": "ders_08042022.ipynb",
      "provenance": [],
      "collapsed_sections": []
    },
    "kernelspec": {
      "name": "python3",
      "display_name": "Python 3"
    },
    "language_info": {
      "name": "python"
    }
  },
  "cells": [
    {
      "cell_type": "markdown",
      "source": [
        "For Döngüsü"
      ],
      "metadata": {
        "id": "iQF72h-twazh"
      }
    },
    {
      "cell_type": "code",
      "execution_count": null,
      "metadata": {
        "colab": {
          "base_uri": "https://localhost:8080/"
        },
        "id": "fFnmSPS0u7kg",
        "outputId": "6c0b9509-35b6-4ea1-8f9e-05b65bbc1dec"
      },
      "outputs": [
        {
          "output_type": "stream",
          "name": "stdout",
          "text": [
            "Hoşgeldiniz 0\n",
            "Hoşgeldiniz 1\n",
            "Hoşgeldiniz 2\n",
            "Hoşgeldiniz 3\n",
            "Hoşgeldiniz 4\n",
            "Hoşgeldiniz 5\n",
            "Hoşgeldiniz 6\n",
            "Hoşgeldiniz 7\n",
            "Hoşgeldiniz 8\n",
            "Hoşgeldiniz 9\n",
            "Hoşbulduk\n"
          ]
        }
      ],
      "source": [
        "for indeks in range(0,10):\n",
        "  print('Hoşgeldiniz ' + str(indeks)),\n",
        "print(\"Hoşbulduk\")"
      ]
    },
    {
      "cell_type": "markdown",
      "source": [
        "![image.png](data:image/png;base64,iVBORw0KGgoAAAANSUhEUgAAADAAAABHCAIAAADOR1OpAAAEPElEQVRoge2ZTWwTRxTHHxWXzSGXRYLLymvWN3KyckCkK0UREqwaUgQiB0dO0lNJGtulTRu7arCTIBK+7HxUCZUwheaEUXsw1m57tesoqWJLpVK7K2EbORcqecuBaPfoHoaujCH7MV4rEdq/fPCM38z8NG/mvZnxoXq9DgdJH+w3QLMcICO9L0CSJD1OpexFea06lnieZ1x0KBBkXDTjok/39YmiiNdVk1p12Z9///XseeXEia6J8XFbJqgloC+/miQIAgDOcGcrpfL+A3V0dNgC0aj3ZZe1TwcO6JCTXA104IAO6/ymqmpkKpxJp/G6/mH9R5ZlrbbSmyGCIKajV93McTyg3d1djFZ6MwQAJEneuHVr8MJFrSb1809er3cve0EQfhV+QZO6++oVBpCp5Jp69AglUZRHa7Wavn0iHmdcdPLevXYl1/5z5072nELfK6Xy3Mysvv2nly+7meM7OzsYE2QKiCCI+YUFrZhJpwVB0Lf/YnLy5b8v2wUEABRFraytasXA2Lj+BHR1ddXkWhuBAIDjOP/oiFaMhMOqqu5lTFHUEfJIU6Wqqh7avZhI2AMEABOBgBYFNvMb39+9q2O8uLxkqXMcIBQFtOJ3S8u5XA5jVNuAAMDr9c7fvKEVZ2MxWZaxhy8Wi49TqcYtgpPLrEYBHZrBCxfzv+V7e3tbAno7CmBciRCNf3RkcXkJHcxfCyOYIqGbkPYpFAqGTRRFYVx0Ih4vFAqMi45Fo5iR+p3iOG4iFNSK8Tt3dKJAo7a3txuTY5NaOg/5h4e1KNDd3W2y1WZ+wz868s30t+sPHhaLxeafsV3W6LhQIGjGGLlMMx7y+YZ8viabloCq1erpvr5QIKgoinmgRDyOitlslnHRPM832uC7TJblSDh89Nix6ejVN7aJabEs2z8wEL99u3HxYQKpqjo3M/vPixfzCwskSeJ1AgBjn41XSuU3UhCes2LRKOOiq9UqXnMd4QChA6GZwIMhy0DoOJvNZk3am1/yOEBokzftCx2JoqjtKfuB0C41f3RXFGXI5zNPbw1IFMW9ss9ewlv4poC0AGjSmOf5IZ8PJV1LNPV63eCiCP8HwEqpXCmVrV6r+wcGrEYmg8CoqmooGNzMb1jtF6nnwx47gWRZjkyFsWkAgPF4rDZxHqyM5AAZyQDIQ7vvJ5OtDCAIwkwsZhtQ6/p9a8uSvQUgSZLuJ5OWXn0EQVh/8LAtQJIkfXTmLABQFGWyiYd2B8Ys/0VknDo0mpW1VY7jtMpcLveJf/ht463CNjrUPnteAQBLC8gU0NM/nl6fu3ay51QjDQCwLIuGtFfGLsuk0/7Rkc38hu0vL++U8QxNhIKfX7lCUdRsLJbOZLQbj6HL2gXU2dkJAB+fP3997lrmyZNLg4Ooft9chkSS5MraauTrKbzHXvNysr2RHCAjOUBGcoCM5AAZ6cAB/QfE7HDG+8GILwAAAABJRU5ErkJggg==) ekrandan girilen n değerine göre işlem sonucunu ekrana yazdıran kodu hazırlayınız. \n",
        "\n",
        "Sonucu kontrol etmek için ![image.png](data:image/png;base64,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) kullanabilirsiniz"
      ],
      "metadata": {
        "id": "dcVYafuEikWL"
      }
    },
    {
      "cell_type": "code",
      "source": [
        "n = int(input(\"n değerini giriniz: \"))\n",
        "toplam = 0\n",
        "for sayi in range(1,n+1):\n",
        "  toplam = toplam + sayi\n",
        "  #toplam += sayi\n",
        "print(toplam)\n",
        "\n",
        "toplam2 = sayi*(sayi+1)/2 #bölme işlemi varsa sonucu float yazdırır\n",
        "print(toplam2)"
      ],
      "metadata": {
        "colab": {
          "base_uri": "https://localhost:8080/"
        },
        "id": "kPx0ufwuxWPa",
        "outputId": "0f6510f9-be52-4ea8-8675-cbe9b2fb38fc"
      },
      "execution_count": null,
      "outputs": [
        {
          "output_type": "stream",
          "name": "stdout",
          "text": [
            "n değerini giriniz: 6\n",
            "21\n",
            "21.0\n"
          ]
        }
      ]
    },
    {
      "cell_type": "markdown",
      "source": [
        "![image.png](data:image/png;base64,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)  işlemin Sonucunu hesaplayan python kodunuz yazınız"
      ],
      "metadata": {
        "id": "t9R-044tiwNT"
      }
    },
    {
      "cell_type": "code",
      "source": [
        "toplam = 0\n",
        "for sayi in range(-20,22):\n",
        "  toplam = toplam + (sayi*sayi*sayi)\n",
        "  #toplam = toplam + pow(sayi,3)  sayi üstü 3 kuvveti alma\n",
        "  #toplam = toplam + sayi**3\n",
        "print(toplam)"
      ],
      "metadata": {
        "colab": {
          "base_uri": "https://localhost:8080/"
        },
        "id": "10OTOTNxy2To",
        "outputId": "9e581f1b-739d-4f4b-b75c-ac43daa87d3f"
      },
      "execution_count": null,
      "outputs": [
        {
          "output_type": "stream",
          "name": "stdout",
          "text": [
            "9261\n"
          ]
        }
      ]
    },
    {
      "cell_type": "markdown",
      "source": [
        "![image.png](data:image/png;base64,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) işleminin sonucu hesaplayan python kodunu yazınız"
      ],
      "metadata": {
        "id": "QACHIUGJjMxW"
      }
    },
    {
      "cell_type": "code",
      "source": [
        "toplam = 0\n",
        "for x in range(1,31):\n",
        "  toplam += (x-1)*(x+2)\n",
        "print(toplam)"
      ],
      "metadata": {
        "colab": {
          "base_uri": "https://localhost:8080/"
        },
        "id": "Lbw1H-q006gh",
        "outputId": "b4fb57ae-32ee-429b-f182-c71bc808e1a6"
      },
      "execution_count": null,
      "outputs": [
        {
          "output_type": "stream",
          "name": "stdout",
          "text": [
            "9860\n"
          ]
        }
      ]
    },
    {
      "cell_type": "markdown",
      "source": [
        "Ekrandan istenen 10 adet sayının ortalamasını ve toplamını yazdıran kodu hazırlayınız."
      ],
      "metadata": {
        "id": "7qO7Gk0Xolij"
      }
    },
    {
      "cell_type": "code",
      "source": [
        "toplam = 0\n",
        "for x in range(1,11):\n",
        "  sayi = int(input(\"Sayı giriniz: \"))\n",
        "  toplam += sayi\n",
        "print(\"Toplam: \" + str(toplam))\n",
        "print(\"Ortalama: \" + str(toplam/10))\n"
      ],
      "metadata": {
        "colab": {
          "base_uri": "https://localhost:8080/"
        },
        "id": "-ba-bRbS2Jsf",
        "outputId": "042b2d77-ec6a-4335-8765-bd1c348b691b"
      },
      "execution_count": null,
      "outputs": [
        {
          "output_type": "stream",
          "name": "stdout",
          "text": [
            "Sayı giriniz: 1\n",
            "Sayı giriniz: 2\n",
            "Sayı giriniz: 3\n",
            "Sayı giriniz: 4\n",
            "Sayı giriniz: 5\n",
            "Sayı giriniz: 6\n",
            "Sayı giriniz: 7\n",
            "Sayı giriniz: 8\n",
            "Sayı giriniz: 9\n",
            "Sayı giriniz: 10\n",
            "Toplam: 55\n",
            "Ortalama: 5.5\n"
          ]
        }
      ]
    },
    {
      "cell_type": "markdown",
      "source": [
        "Ekrandan istenen 10 adet sayının ortalamasını ve toplamını yazdıran kodu hazırlayınız. Çift ve tek sayıları sayıları ayrı hesaplayın."
      ],
      "metadata": {
        "id": "0Z4LEeBVjBqh"
      }
    },
    {
      "cell_type": "code",
      "source": [
        "tekToplam = 0\n",
        "ciftToplam = 0\n",
        "tekSayac = 0\n",
        "for x in range(1,11):\n",
        "  sayi = int(input(\"Sayı giriniz: \"))\n",
        "  if sayi%2 == 1:\n",
        "    tekToplam += sayi\n",
        "    tekSayac +=1\n",
        "  else:\n",
        "    ciftToplam += sayi\n",
        "  \n",
        "print(\"Tek sayılar toplamı: \" + str(tekToplam))\n",
        "print(\"Çift sayıların toplamı: \" + str(ciftToplam))\n",
        "\n",
        "if tekSayac > 0:\n",
        "  tekOrt = tekToplam / tekSayac\n",
        "  print(\"Tek sayılar ortalaması: \" + str(tekOrt))\n",
        "else:\n",
        "  print(\"Girilen değerlerde tek sayı yoktur\")\n",
        "if tekSayac == 10:\n",
        "  print(\"Girilen değerlerde tek sayı yoktur\")\n",
        "else:  \n",
        "  ciftOrt = ciftToplam / (10-tekSayac)\n",
        "  print(\"Çift sayıların ortalaması: \" + str(ciftOrt))\n",
        "\n"
      ],
      "metadata": {
        "colab": {
          "base_uri": "https://localhost:8080/"
        },
        "id": "YPkzdj384KPn",
        "outputId": "f2a48ed3-41ae-4d34-eb39-ad3dfdfb6c1d"
      },
      "execution_count": null,
      "outputs": [
        {
          "output_type": "stream",
          "name": "stdout",
          "text": [
            "Sayı giriniz: 2\n",
            "Sayı giriniz: 2\n",
            "Sayı giriniz: 2\n",
            "Sayı giriniz: 2\n",
            "Sayı giriniz: 2\n",
            "Sayı giriniz: 2\n",
            "Sayı giriniz: 2\n",
            "Sayı giriniz: 2\n",
            "Sayı giriniz: 2\n",
            "Sayı giriniz: 2\n",
            "Tek sayılar toplamı: 0\n",
            "Çift sayıların toplamı: 20\n",
            "Girilen değerlerde tek sayı yoktur\n",
            "Çift sayıların ortalaması: 2.0\n"
          ]
        }
      ]
    },
    {
      "cell_type": "markdown",
      "source": [
        "![image.png](data:image/png;base64,iVBORw0KGgoAAAANSUhEUgAAADkAAABKCAIAAACOzGu9AAADLklEQVRoge2aTUjbUBzAn2MXvfYsTW1nBIc7bDBRPBXZCvM4D7qqmzCZaCtss3Zs2KEIDlq1Fb2YEnHC6G7Vme3aurGLwpzdGtBW8KJgzu+YHR6UkNj68vH01eVHDuHl/V9+fX15eR+pkWUZVAk3rlpAB7YrGWxXMtiuZLDAVRTFz6mU+XIuxALXQqEQHg+NBYIexuVhXJ1eryiK5ovVYmUb+P33z8FRsbn59sjwsIXFlrDM9eXrV7W1tQCAB76HxcOCVcUqscy1rq7OqqLK8Z/1A5dGNbnW2ONXItiuZLhZ4ZokSffv3iN04y/fvrIsqysE69kSBGH0hTWvzTfv3j4bHDQYLOMxF4u5nQw6ent6MKNkWY5MTpYCg6MB/EAtuO2VbWoyWBkKWu60mAmvpmfLdiWD7aqTsUCw0+u9MBsVrphUk2uld+xVASHc3NgAADzq6kJzOAR1rhDCcGgil9tP8rxSFNDWBpDomXSW5Pn6+nrVVYrqtSS6EI87HA5tBorqNRya2EynQfnpOy2uxcNCLrefWF76+f0HerC00OLqcjd8SqV8Pt9IMBAeDx0fH2vz0OIKAEBt1N/X53I3JDlOm4EiV4TD4Xg+NLTGr+7u7qouUecKAHjc3d3a3haLRlXpVPRZ8/EFVcrH9XVtNhrrtRy2KxlsVzLYrmQw4np6cmK5Bw64rmI+XzovHhYkScIM3M5mS+d7v/bwzbRguQqCsLgQV6YsJhIX6kII5+fmlHtdm+n0uYMSTCqtaeKsv567RpnNZp/6+yoHklp/pYTr3g9cFdfRVRRFD+PKKjogA7yPRARBMBx+efUKIdw291MNugqCkOQ4CCF+yIfZWZPfFRhxRVtItxobVetN5UDtZ41fNXAvJbrnW0hU1ZMnOW5malqVs7W9DU2bWJY9OCoCADyMy5Qs5t5SPp93Oxm0WcWtrBjboHI7ma2tLWOxMv7+FmKNX/UP9M9MTeOPXSxEn2tieWkyEmltb1tMJJTpSY5DHzwpjye9vZaq6mwDmUxGluVMJuN2Mjs7O3r/xEttA4iOjg7/QH8sGtXVZ5nHHmeRwXYlg+1Khmpy/QdAvs83Sw9w2wAAAABJRU5ErkJggg==) ekrandan girilen n değerine göre hesaplamayı yapan kodu yazınız"
      ],
      "metadata": {
        "id": "oejjXvEIjdH5"
      }
    },
    {
      "cell_type": "code",
      "source": [
        "n = int(input(\"n değerini giriniz: \"))\n",
        "carpim = 1\n",
        "for k in range(1,n+1):\n",
        "  carpim *= k   # carpim = carpim*k\n",
        "\n",
        "print(carpim)\n"
      ],
      "metadata": {
        "colab": {
          "base_uri": "https://localhost:8080/"
        },
        "id": "dgANYKm-6cgG",
        "outputId": "28c0b038-efb6-41c6-9395-df546d532915"
      },
      "execution_count": null,
      "outputs": [
        {
          "output_type": "stream",
          "name": "stdout",
          "text": [
            "n değerini giriniz: 25\n",
            "15511210043330985984000000\n"
          ]
        }
      ]
    },
    {
      "cell_type": "markdown",
      "source": [
        "![carpim2.PNG](data:image/png;base64,iVBORw0KGgoAAAANSUhEUgAAAEQAAABOCAYAAACZiLDUAAAAAXNSR0IArs4c6QAAAARnQU1BAACxjwv8YQUAAAAJcEhZcwAADsMAAA7DAcdvqGQAAAKbSURBVHhe7ZtNjtowGIZ7k1bqTUY9xfQMbY8wPcH0AtMDTA/AAdizZ82aNVuqJ5NP43llAjGBYPw+kkWcH8ffg+04Rnzamw9YiGAhgoUIFiJYiGAhgoUIFxPy7/V1v16v+1w9XEzI189f9r9+/Ow+I/1+euqP3i4XFUJaLpddfrVadfnFYtHlb5WLCvnz/Nzn3mheyN+Xlz73hoVYyDsWIljInWAhgoUIFiKcJGS73XYD4hzp2oPw6BZCBXMVnzIxw+VLmIOiLkOF0wC+Pz72R8aTE7zb7fqj16dIiAYxpRDekKciyh7T2oqE8AabBjGlkCmXCCxEyAlh4Yr9h2hKCGVT181m0+VzNCMkZBzrPk0IiaVM6n2MJoRQP6ScUs8mhDBm0FXYZt8Q1Qlh0saTIr2G++cCjbJj3GB95tvDw+A4Up0QjhMUq/hBlKFSVAgyuVYXv1OqE5ILiEC5dijQU6l+DOHbjy7UpBAGSM5Jr4nUnJAYA+JcBMRUPPLnUpWQuK+u5jc7hsS53D+FbsT+5oRE4Ok5PH65/7FrT6W6QTUVQGJKThmx79xWUp2QQ0Q5FjIxFiJYiGAhgoUIFiJYiGAhQpEQDYI30FJ0OXDKnzJLKBLCbDANgjS0TjlE/EQQCbm8vc7FaCHaOiLR1MdK0dYRCeFzSTlJCIHmKn4o6XpFCn8IyF1zKPEFXJOiLnPPWIhgIUKREAbQc+YeQzBuzPnHo5sSEgNu9UJ4CvFkYQZbCmXEnKRqIQTCNsGUzh10blOtkJBBPgfH0kDTlJurVN1lmGJHwIiZgqqFUPEQMzQzHUP1LQRiKSAXRFNdhmADtqd4bb8bIRHIuS9i1Qq5ZyxEsBDBQgQLESxEsBDBQgQLESxEsJAP7Pf/AZ2hsrPJ+EWnAAAAAElFTkSuQmCC) ekrandan girilen n değerine göre hesaplamayı yapınız ![Capture.PNG](data:image/png;base64,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) bu formül ile sonuç karşılaştırması yapılabilir"
      ],
      "metadata": {
        "id": "8a8jkeC5ox0e"
      }
    },
    {
      "cell_type": "code",
      "source": [
        "n = int(input(\"n değerini giriniz: \"))\n",
        "a = int(input(\"a üstü değerini giriniz: \"))\n",
        "carpim = 1\n",
        "for k in range(1,n+1):\n",
        "  hesaplama = a**k\n",
        "  carpim *= hesaplama\n",
        "\n",
        "print(carpim)\n",
        "\n",
        "kontrol = a**((n*(n+1))*0.5) \n",
        "print(kontrol)"
      ],
      "metadata": {
        "colab": {
          "base_uri": "https://localhost:8080/"
        },
        "id": "tZIUX5zx7L_2",
        "outputId": "c537e882-a1c8-4c89-8c5d-fb4a8e149fca"
      },
      "execution_count": null,
      "outputs": [
        {
          "output_type": "stream",
          "name": "stdout",
          "text": [
            "n değerini giriniz: 3\n",
            "a üstü değerini giriniz: 5\n",
            "15625\n",
            "15625.0\n"
          ]
        }
      ]
    },
    {
      "cell_type": "markdown",
      "source": [
        "Ekrandan kaç adet sayı girmek istediği bilgisi alınmalı. İstenilen sayıda ekrandan sayı girişi yapması istenmeli. Girilen sayılardan kaç tanesinin pozitif kaç tanesinin negatif olduğu sonucu ekrana yazdırılmalı."
      ],
      "metadata": {
        "id": "kjzLB04cpMvO"
      }
    },
    {
      "cell_type": "code",
      "source": [
        "negatifSayi = 0\n",
        "pozitifSayi = 0\n",
        "sayi = int(input(\"Girmek istediğiniz sayı adedini giriniz: \"))\n",
        "for x in range(1, sayi+1):\n",
        "  sayi2 = int(input(\"Sayı giriniz: \"))  \n",
        "  if sayi2 < 0:\n",
        "    negatifSayi += 1\n",
        "  elif sayi2 > 0:\n",
        "    pozitifSayi += 1\n",
        "  else:\n",
        "    print(\"Sıfır girildi neagtif veya pozitif değil\")\n",
        "print(\"Negatif sayı: \" ,negatifSayi) # araya virgül konursa str ye çevirmeye gerek kalmaz\n",
        "print(\"Pozitif sayı: \" + str(pozitifSayi))\n"
      ],
      "metadata": {
        "colab": {
          "base_uri": "https://localhost:8080/"
        },
        "id": "Ez4w4Qqw-Bz1",
        "outputId": "9a9c2fa3-db93-498f-9f1b-4459313987a2"
      },
      "execution_count": null,
      "outputs": [
        {
          "output_type": "stream",
          "name": "stdout",
          "text": [
            "Girmek istediğiniz sayı adedini giriniz: 5\n",
            "Sayı giriniz: -1\n",
            "Sayı giriniz: 0\n",
            "Sıfır girildi neagtif veya pozitif değil\n",
            "Sayı giriniz: 5\n",
            "Sayı giriniz: 6\n",
            "Sayı giriniz: -4\n",
            "Negatif sayı:  2\n",
            "Pozitif sayı: 2\n"
          ]
        }
      ]
    },
    {
      "cell_type": "markdown",
      "source": [
        " Ekrandan kaç adet sayı girmek istediği bilgisi alınmalı. İstenilen sayıda ekrandan sayı girişi yapması istenmeli. Girilen sayılardan kaç tanesinin pozitif kaç tanesinin negatif olduğu sonucu ekrana yazdırılmalı. `Pozitif ve negatif sayıların ayrı ayrı ortalamaları ekrana yazdırılmalı `"
      ],
      "metadata": {
        "id": "jrhjslVaIHif"
      }
    },
    {
      "cell_type": "code",
      "source": [
        "negatifSayi = 0\n",
        "pozitifSayi = 0\n",
        "negToplam = 0\n",
        "pozToplam = 0\n",
        "sayi = int(input(\"Girmek istediğiniz sayı adedini giriniz: \"))\n",
        "for x in range(1, sayi+1):\n",
        "  sayi2 = int(input(\"Sayı giriniz: \"))  \n",
        "  if sayi2 < 0:\n",
        "    negatifSayi += 1\n",
        "    negToplam += sayi2\n",
        "  elif sayi2 > 0:\n",
        "    pozToplam += sayi2\n",
        "    pozitifSayi += 1\n",
        "  else:\n",
        "    print(\"Sıfır girildi neagtif veya pozitif değil\")\n",
        "print(\"Negatif sayı: \" ,negatifSayi) \n",
        "print(\"Pozitif sayı: \" + str(pozitifSayi))\n",
        "print(\"Negatif toplam: \" ,negToplam) \n",
        "print(\"Pozitif toplam: \" ,pozToplam)\n",
        "\n",
        "if negatifSayi > 0:\n",
        "  print(\"Negatif ortalama: \" ,negToplam/negatifSayi)\n",
        "if pozitifSayi >0:\n",
        "  print(\"Pozitif toplam: \" ,pozToplam/pozitifSayi)\n"
      ],
      "metadata": {
        "colab": {
          "base_uri": "https://localhost:8080/"
        },
        "id": "e4cnrnZEIBxP",
        "outputId": "3aa8f612-5398-4ba2-ecd5-8d5b4b0024ec"
      },
      "execution_count": null,
      "outputs": [
        {
          "output_type": "stream",
          "name": "stdout",
          "text": [
            "Girmek istediğiniz sayı adedini giriniz: 5\n",
            "Sayı giriniz: 8\n",
            "Sayı giriniz: 9\n",
            "Sayı giriniz: -5\n",
            "Sayı giriniz: -6\n",
            "Sayı giriniz: 6\n",
            "Negatif sayı:  2\n",
            "Pozitif sayı: 3\n",
            "Negatif toplam:  -11\n",
            "Pozitif toplam:  23\n",
            "Negatif ortalama:  -5.5\n",
            "Pozitif toplam:  7.666666666666667\n"
          ]
        }
      ]
    },
    {
      "cell_type": "markdown",
      "source": [
        "A Ülkesinin bugünkü nüfusu 10 milyon ve yıllık nüfus artış hızı %25, B ülkesinin bugünkü nüfusu 40 milyon ve yıllık nüfus artış hızı %12'dir. Bu bilgilere göre, A ülkesinin B ülkesinin nüfusunu kaç yıl sonra geçeceğini hesaplayan kodu tasarlayınız. Bunu tasarlarken her yıl A ve B ülkelerinin nüfus sayılarını ekrana yazdırınız."
      ],
      "metadata": {
        "id": "7Ztt50mjmVmv"
      }
    },
    {
      "cell_type": "code",
      "source": [
        "aUlke = 10\n",
        "bUlke = 40\n",
        "aHiz = 0.25\n",
        "bHiz = 0.12\n",
        "yil = 0\n",
        "while aUlke < bUlke:\n",
        "  yil += 1\n",
        "  aUlke += (aUlke * aHiz)\n",
        "  bUlke += (bUlke * bHiz)\n",
        "  print(\"A nufüs \", aUlke, yil)\n",
        "  print(\"B nüfus \", bUlke, yil)\n",
        "\n",
        "print(yil, \"sonra A'nın nüfusu B'nin nüfusunu geçer\")"
      ],
      "metadata": {
        "colab": {
          "base_uri": "https://localhost:8080/"
        },
        "id": "-8EyIs8pJRCg",
        "outputId": "ab1899d6-d656-4063-d567-e8d01db6c288"
      },
      "execution_count": null,
      "outputs": [
        {
          "output_type": "stream",
          "name": "stdout",
          "text": [
            "A nufüs  12.5 1\n",
            "B nüfus  44.8 1\n",
            "A nufüs  15.625 2\n",
            "B nüfus  50.175999999999995 2\n",
            "A nufüs  19.53125 3\n",
            "B nüfus  56.19711999999999 3\n",
            "A nufüs  24.4140625 4\n",
            "B nüfus  62.94077439999999 4\n",
            "A nufüs  30.517578125 5\n",
            "B nüfus  70.49366732799999 5\n",
            "A nufüs  38.14697265625 6\n",
            "B nüfus  78.95290740735999 6\n",
            "A nufüs  47.6837158203125 7\n",
            "B nüfus  88.42725629624319 7\n",
            "A nufüs  59.604644775390625 8\n",
            "B nüfus  99.03852705179237 8\n",
            "A nufüs  74.50580596923828 9\n",
            "B nüfus  110.92315029800746 9\n",
            "A nufüs  93.13225746154785 10\n",
            "B nüfus  124.23392833376835 10\n",
            "A nufüs  116.41532182693481 11\n",
            "B nüfus  139.14199973382054 11\n",
            "A nufüs  145.51915228366852 12\n",
            "B nüfus  155.83903970187902 12\n",
            "A nufüs  181.89894035458565 13\n",
            "B nüfus  174.5397244661045 13\n",
            "13 sonra A'nın nüfusu B'nin nüfusunu geçer\n"
          ]
        }
      ]
    },
    {
      "cell_type": "markdown",
      "source": [
        "Bir parfümeride satılan ojeler Kırmızı, Yeşil, Sarı ve Siyah renktedir. Ürün kodları sırasıyla 1,2,3 ve 4'tür. Parfümeri, hangi renk ojeden kaç tane satıldığını bilmek istemektedir. Ekrandan ürün kodu istenmelidir ve hata denetimi yapmalıdır. Girdiyi sonlandırmak için 111 kodu girilmelidir. Örnek çıktı: Kod giriniz (1,2,3, 4 ya da çıkmak için 111) : 1 Kod giriniz (1,2,3, 4 ya da çıkmak için 111) : 1 Kod giriniz (1,2,3, 4 ya da çıkmak için 111) : 5 Hata!! Lütfen geçerli bir kod giriniz Kod giriniz (1,2,3, 4 ya da çıkmak için 111) : 3 Kod giriniz (1,2,3, 4 ya da çıkmak için 111) : 111 Gün Sonu Satış Raporu: 2Kırmızı, 0 Yeşil, 1 Sarı ve 0 Siyah oje satılmıştır. Toplam satılan ürün sayısı : 3"
      ],
      "metadata": {
        "id": "WjWknaXYmbcT"
      }
    },
    {
      "cell_type": "code",
      "source": [
        "kirmizi = 0\n",
        "yesil = 0\n",
        "sari = 0\n",
        "siyah = 0\n",
        "kod = input(\"Kod giriniz(1,2,3, 4 ya da çıkmak için 111) : \")\n",
        "while kod != '111':\n",
        "  kod = input(\"Kod giriniz(1,2,3, 4 ya da çıkmak için 111) : \")\n",
        "  if kod == '1':\n",
        "    kirmizi += 1\n",
        "  elif kod == '2':\n",
        "    yesil += 1\n",
        "  elif kod == '3':\n",
        "    sari += 1\n",
        "  elif kod == '4':\n",
        "    siyah += 1\n",
        "  else:\n",
        "    print('Hatalı kod girdiniz!!!')\n",
        "toplam = kirmizi+yesil+sari+siyah\n",
        "print(\"Gün Sonu Satış Raporu:\")\n",
        "print(kirmizi,\" Kırmızı\", yesil,\"Yeşil\", sari,\"Sarı\",siyah,\"Siyah\")\n",
        "print(\"Toplam Satılan Ürün: \",toplam)"
      ],
      "metadata": {
        "colab": {
          "base_uri": "https://localhost:8080/"
        },
        "id": "GTLwuBNOMRkY",
        "outputId": "9f7249ca-f2ef-475b-bb3f-4b88f2af7de0"
      },
      "execution_count": null,
      "outputs": [
        {
          "output_type": "stream",
          "name": "stdout",
          "text": [
            "Kod giriniz(1,2,3, 4 ya da çıkmak için 111) : 1\n",
            "Kod giriniz(1,2,3, 4 ya da çıkmak için 111) : 2\n",
            "Kod giriniz(1,2,3, 4 ya da çıkmak için 111) : 3\n",
            "Kod giriniz(1,2,3, 4 ya da çıkmak için 111) : 4\n",
            "Kod giriniz(1,2,3, 4 ya da çıkmak için 111) : 2\n",
            "Kod giriniz(1,2,3, 4 ya da çıkmak için 111) : 1\n",
            "Kod giriniz(1,2,3, 4 ya da çıkmak için 111) : 111\n",
            "Hatalı kod girdiniz!!!\n",
            "Gün Sonu Satış Raporu:\n",
            "1  Kırmızı 2 Yeşil 1 Sarı 1 Siyah\n",
            "Toplam Satılan Ürün:  5\n"
          ]
        }
      ]
    },
    {
      "cell_type": "code",
      "source": [
        "range(10) #sadece bitişi\n",
        "range(10,20) #başlangıç ve bitiş\n",
        "range(10,20,3)  #başlangıç,bitiş ve artış miktarı"
      ],
      "metadata": {
        "colab": {
          "base_uri": "https://localhost:8080/"
        },
        "id": "I-nqLvuASbPj",
        "outputId": "915e925b-5933-44b7-cb9f-ffbd79cd51b9"
      },
      "execution_count": null,
      "outputs": [
        {
          "output_type": "execute_result",
          "data": {
            "text/plain": [
              "range(0, 10)"
            ]
          },
          "metadata": {},
          "execution_count": 11
        }
      ]
    },
    {
      "cell_type": "code",
      "source": [
        "for i in range(10,20,3):\n",
        "  print(i)"
      ],
      "metadata": {
        "colab": {
          "base_uri": "https://localhost:8080/"
        },
        "id": "xslHXyGxSvRD",
        "outputId": "03eeaac5-c85a-4068-d70e-5ccadd1249cb"
      },
      "execution_count": null,
      "outputs": [
        {
          "output_type": "stream",
          "name": "stdout",
          "text": [
            "10\n",
            "13\n",
            "16\n",
            "19\n"
          ]
        }
      ]
    },
    {
      "cell_type": "markdown",
      "source": [
        "# **Fonksiyonlar Giriş**"
      ],
      "metadata": {
        "id": "krwNt77UppZi"
      }
    },
    {
      "cell_type": "code",
      "source": [
        "def foksiyonAdi(parametreler):\n",
        "  print(parametreler, \"Mc\")"
      ],
      "metadata": {
        "id": "FmZKqqDSR6aU"
      },
      "execution_count": null,
      "outputs": []
    },
    {
      "cell_type": "code",
      "source": [
        "foksiyonAdi('Merhaba')"
      ],
      "metadata": {
        "colab": {
          "base_uri": "https://localhost:8080/"
        },
        "id": "CdWJswJJSILk",
        "outputId": "9aaa55a8-8a0d-4098-f66a-911693b3dd35"
      },
      "execution_count": null,
      "outputs": [
        {
          "output_type": "stream",
          "name": "stdout",
          "text": [
            "Merhaba Mc\n"
          ]
        }
      ]
    }
  ]
}