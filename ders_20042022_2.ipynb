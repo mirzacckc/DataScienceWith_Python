{
  "nbformat": 4,
  "nbformat_minor": 0,
  "metadata": {
    "colab": {
      "name": "ders_20042022_2.ipynb",
      "provenance": [],
      "collapsed_sections": []
    },
    "kernelspec": {
      "name": "python3",
      "display_name": "Python 3"
    },
    "language_info": {
      "name": "python"
    }
  },
  "cells": [
    {
      "cell_type": "markdown",
      "source": [
        "## **Python Collections**"
      ],
      "metadata": {
        "id": "KXerxvDbVCIN"
      }
    },
    {
      "cell_type": "markdown",
      "source": [
        "List, Tuple, Set ve Dictionary :\n",
        "\n",
        "\n",
        "*   List, elemanları sıralanabilir, güncellenebilir ayrıca her bir eleman liste içerisinde birden fazla tekrarlanabilir.\n",
        "*   Tuple, elemanları sıralanabilir ancak güncellenemez ve her bir eleman liste içerisinde birden fazla tekrarlanabilir.\n",
        "\n",
        "*   Set, elemanları sıralanamaz ve indekslenemez ayrıca her bir eleman liste içerisinde sadece bir tane olabilir.\n",
        "*   Dictionary, key ve value şeklinde değer alırlar. Aynı key bilgisiyle birden fazla eleman olamaz."
      ],
      "metadata": {
        "id": "6RTqMm6CVDA8"
      }
    },
    {
      "cell_type": "markdown",
      "source": [
        "# **List**"
      ],
      "metadata": {
        "id": "nOWoMBSKVJnw"
      }
    },
    {
      "cell_type": "markdown",
      "source": [
        "• Liste (List) tanımlama işlemi\n",
        "\n",
        "degiskenAdi= [deger1, deger2,...]"
      ],
      "metadata": {
        "id": "TKL1x5I6VKbx"
      }
    },
    {
      "cell_type": "markdown",
      "source": [
        "Alınan notların not ortalamasına göre listedeki kişilerin geçtiğini veya kaldığını gösteren program"
      ],
      "metadata": {
        "id": "MhV4mseHUxz4"
      }
    },
    {
      "cell_type": "code",
      "execution_count": null,
      "metadata": {
        "colab": {
          "base_uri": "https://localhost:8080/"
        },
        "id": "vSYaCD7EyBgJ",
        "outputId": "2fd786b3-ba98-4be7-e2b0-5a1d44a441ec"
      },
      "outputs": [
        {
          "output_type": "stream",
          "name": "stdout",
          "text": [
            "Merve geçti\n",
            "Elif kaldı\n",
            "Ali kaldı\n",
            "Veli geçti\n"
          ]
        }
      ],
      "source": [
        "isimler=[\"Merve\",\"Elif\",\"Ali\",\"Veli\"]\n",
        "vizeler=[45,54,13,75]\n",
        "finaller=[85,65,95,85]\n",
        "\n",
        "for i in range(0,len(isimler)):\n",
        "  hesap=(vizeler[i]*0.6)+(finaller[i]*0.4)\n",
        "  if hesap >= 60:\n",
        "    print(isimler[i], \"geçti\")\n",
        "  else:\n",
        "    print(isimler[i], \"kaldı\")"
      ]
    },
    {
      "cell_type": "markdown",
      "source": [
        "Liste Güncelleme\n",
        "\n",
        "list1=[‘deger1’, ‘deger2’, ‘deger3’ ]\n",
        "\n",
        "list1[0]=‘deger0’\n"
      ],
      "metadata": {
        "id": "XJKqhF4WVTcS"
      }
    },
    {
      "cell_type": "code",
      "source": [
        "isimler[0]=\"Leyla\" #indekse göre ekleme\n",
        "isimler"
      ],
      "metadata": {
        "colab": {
          "base_uri": "https://localhost:8080/"
        },
        "id": "hXWdSqg00kN3",
        "outputId": "809dd732-fb4c-4118-b40d-bd49a9047b55"
      },
      "execution_count": null,
      "outputs": [
        {
          "output_type": "execute_result",
          "data": {
            "text/plain": [
              "['Leyla', 'Elif', 'Ali', 'Veli']"
            ]
          },
          "metadata": {},
          "execution_count": 13
        }
      ]
    },
    {
      "cell_type": "markdown",
      "source": [
        "• Liste sonuna Ekleme\n",
        "\n",
        "list1=[‘deger1’, ‘deger2’, ‘deger3’ ]\n",
        "\n",
        "list1.append(‘deger4’)\n",
        "\n",
        "• Liste farklı index alanlarına Ekleme\n",
        "\n",
        "list1=[‘deger1’, ‘deger2’, ‘deger3’ ]\n",
        "\n",
        "list1.insert(0, ‘deger4’)"
      ],
      "metadata": {
        "id": "gaqC2SGsVUcF"
      }
    },
    {
      "cell_type": "code",
      "source": [
        "isimler.append('Kazım')  #Sonuna ekler\n",
        "isimler\n",
        "\n",
        "isimler.insert(1,'Kemal')  #Belirli indekse ekler\n",
        "isimler"
      ],
      "metadata": {
        "colab": {
          "base_uri": "https://localhost:8080/"
        },
        "id": "7q_Z-IEB0L-i",
        "outputId": "cc5d417a-0578-440c-fef1-89c61d54258e"
      },
      "execution_count": null,
      "outputs": [
        {
          "output_type": "execute_result",
          "data": {
            "text/plain": [
              "['Leyla', 'Kemal', 'Elif', 'Ali', 'Veli', 'Kazım']"
            ]
          },
          "metadata": {},
          "execution_count": 14
        }
      ]
    },
    {
      "cell_type": "markdown",
      "source": [
        "Belirli indexten silme\n",
        "\n",
        "list1=[‘deger1’, ‘deger2’, ‘deger3’ ]\n",
        "\n",
        "del(list1[0])"
      ],
      "metadata": {
        "id": "xwXV5RftVqWT"
      }
    },
    {
      "cell_type": "code",
      "source": [
        "del(isimler[0]) #listeden değer silme\n",
        "isimler"
      ],
      "metadata": {
        "colab": {
          "base_uri": "https://localhost:8080/"
        },
        "id": "WE8JjE3A0tgP",
        "outputId": "d7abc347-2997-46e8-9a88-43d42898b508"
      },
      "execution_count": null,
      "outputs": [
        {
          "output_type": "execute_result",
          "data": {
            "text/plain": [
              "['Kemal', 'Elif', 'Ali', 'Veli', 'Kazım']"
            ]
          },
          "metadata": {},
          "execution_count": 15
        }
      ]
    },
    {
      "cell_type": "markdown",
      "source": [
        "Değer bilgisi ile silme\n",
        "\n",
        "list1=[‘deger1’, ‘deger2’, ‘deger3’ ]\n",
        "\n",
        "list1.remove(‘deger2’)\n"
      ],
      "metadata": {
        "id": "OxGhwyl2VvUW"
      }
    },
    {
      "cell_type": "code",
      "source": [
        "isimler.remove(\"Elif\")\n",
        "isimler"
      ],
      "metadata": {
        "colab": {
          "base_uri": "https://localhost:8080/"
        },
        "id": "T8Eez7Qy-0cf",
        "outputId": "ada9a4a6-566d-4c24-e163-6cff889cf935"
      },
      "execution_count": null,
      "outputs": [
        {
          "output_type": "execute_result",
          "data": {
            "text/plain": [
              "['Kemal', 'Ali', 'Veli', 'Kazım']"
            ]
          },
          "metadata": {},
          "execution_count": 16
        }
      ]
    },
    {
      "cell_type": "code",
      "source": [
        "isimler += [\"Leyla\"]  #bu şekilde de ekleme yapılabilir\n",
        "isimler"
      ],
      "metadata": {
        "colab": {
          "base_uri": "https://localhost:8080/"
        },
        "id": "xX5xG9yf_F5h",
        "outputId": "14c538d7-26c6-4314-8653-38c5ba8abe00"
      },
      "execution_count": null,
      "outputs": [
        {
          "output_type": "execute_result",
          "data": {
            "text/plain": [
              "['Kemal', 'Ali', 'Veli', 'Kazım', 'Leyla']"
            ]
          },
          "metadata": {},
          "execution_count": 17
        }
      ]
    },
    {
      "cell_type": "markdown",
      "source": [
        "Sıralama\n",
        "\n",
        "list1=[3, 5,1 ]\n",
        "\n",
        "list1.sort()\n",
        "\n",
        "list1.sort(reverse=true)\n",
        "\n",
        "print(sorted(list1))\n",
        "\n",
        "print(list1)"
      ],
      "metadata": {
        "id": "ywuDWNe_gNEh"
      }
    },
    {
      "cell_type": "code",
      "source": [
        "vizeler\n"
      ],
      "metadata": {
        "id": "paZKcWqx_kvP",
        "outputId": "bf92960c-b5cd-4ec3-d2c7-a7969d8756b9",
        "colab": {
          "base_uri": "https://localhost:8080/"
        }
      },
      "execution_count": null,
      "outputs": [
        {
          "output_type": "execute_result",
          "data": {
            "text/plain": [
              "[45, 54, 13, 75]"
            ]
          },
          "metadata": {},
          "execution_count": 18
        }
      ]
    },
    {
      "cell_type": "code",
      "source": [
        "vizeler.sort()    #değiştirip atama yapar.Aslını değiştirir.\n",
        "vizeler"
      ],
      "metadata": {
        "id": "sETsuszV_n_J",
        "colab": {
          "base_uri": "https://localhost:8080/"
        },
        "outputId": "b4a50032-14e8-4d75-bdaf-807840074e56"
      },
      "execution_count": null,
      "outputs": [
        {
          "output_type": "execute_result",
          "data": {
            "text/plain": [
              "[13, 45, 54, 75]"
            ]
          },
          "metadata": {},
          "execution_count": 19
        }
      ]
    },
    {
      "cell_type": "code",
      "source": [
        "finaller"
      ],
      "metadata": {
        "colab": {
          "base_uri": "https://localhost:8080/"
        },
        "id": "PZwnaXqB_8XI",
        "outputId": "351d8c4c-603d-485e-d474-5590338d1a56"
      },
      "execution_count": null,
      "outputs": [
        {
          "output_type": "execute_result",
          "data": {
            "text/plain": [
              "[85, 65, 95, 85]"
            ]
          },
          "metadata": {},
          "execution_count": 20
        }
      ]
    },
    {
      "cell_type": "code",
      "source": [
        "sorted(finaller)   #.sort() dan farklı olarak değiştirip atama yapmaz.Aslını değiştirmez"
      ],
      "metadata": {
        "colab": {
          "base_uri": "https://localhost:8080/"
        },
        "id": "VyDk2x04_-3v",
        "outputId": "09fbc92e-244b-4b35-8aa0-1e99fd8aba1d"
      },
      "execution_count": null,
      "outputs": [
        {
          "output_type": "execute_result",
          "data": {
            "text/plain": [
              "[65, 85, 85, 95]"
            ]
          },
          "metadata": {},
          "execution_count": 21
        }
      ]
    },
    {
      "cell_type": "code",
      "source": [
        "finaller "
      ],
      "metadata": {
        "colab": {
          "base_uri": "https://localhost:8080/"
        },
        "id": "0M4wT8v2AElp",
        "outputId": "e9b486a7-3083-4dee-d20a-abfefcc80915"
      },
      "execution_count": null,
      "outputs": [
        {
          "output_type": "execute_result",
          "data": {
            "text/plain": [
              "[85, 65, 95, 85]"
            ]
          },
          "metadata": {},
          "execution_count": 22
        }
      ]
    },
    {
      "cell_type": "markdown",
      "source": [
        "Listeyi ters çevirme\n",
        "\n",
        "list1=[‘deger3’, ‘deger5’, ‘deger1’ ]\n",
        "\n",
        "list1.reverse()"
      ],
      "metadata": {
        "id": "sCPiZNnUgUt9"
      }
    },
    {
      "cell_type": "code",
      "source": [
        "vizeler1=[45,84,12,9,78]\n",
        "vizeler1.sort(reverse=True)  #Sıralar fakat tersten sıralar\n",
        "vizeler1"
      ],
      "metadata": {
        "colab": {
          "base_uri": "https://localhost:8080/"
        },
        "id": "btdOQcEUAiWp",
        "outputId": "4d68ec6c-32a9-4346-ae19-ca1c034b3445"
      },
      "execution_count": null,
      "outputs": [
        {
          "output_type": "execute_result",
          "data": {
            "text/plain": [
              "[84, 78, 45, 12, 9]"
            ]
          },
          "metadata": {},
          "execution_count": 31
        }
      ]
    },
    {
      "cell_type": "code",
      "source": [
        "vizeler1=[45,84,12,9,78] #diziyi ters çevirir indeks bazında\n",
        "vizeler1.reverse()\n",
        "vizeler1"
      ],
      "metadata": {
        "colab": {
          "base_uri": "https://localhost:8080/"
        },
        "id": "SaGfSnE2BVwg",
        "outputId": "0e80915e-2683-4d44-f5ec-592a07162848"
      },
      "execution_count": null,
      "outputs": [
        {
          "output_type": "execute_result",
          "data": {
            "text/plain": [
              "[78, 9, 12, 84, 45]"
            ]
          },
          "metadata": {},
          "execution_count": 30
        }
      ]
    },
    {
      "cell_type": "markdown",
      "source": [
        "listenin eleman sayısı için len(list1)"
      ],
      "metadata": {
        "id": "cAI3B79EgYXr"
      }
    },
    {
      "cell_type": "code",
      "source": [
        "len(vizeler1)"
      ],
      "metadata": {
        "colab": {
          "base_uri": "https://localhost:8080/"
        },
        "id": "SlAyIARrB5ka",
        "outputId": "c8c1e0a4-a1ae-44a4-a319-7926143ddefa"
      },
      "execution_count": null,
      "outputs": [
        {
          "output_type": "execute_result",
          "data": {
            "text/plain": [
              "5"
            ]
          },
          "metadata": {},
          "execution_count": 32
        }
      ]
    },
    {
      "cell_type": "markdown",
      "source": [
        "range(startValue, endValue, stepValue)\n",
        "\n",
        "numbers = list(range(2,11,2))\n"
      ],
      "metadata": {
        "id": "vyZNoZfWggen"
      }
    },
    {
      "cell_type": "code",
      "source": [
        "numbers=list(range(2,11)) #str(), int(), float() gibi list()\n",
        "numbers"
      ],
      "metadata": {
        "colab": {
          "base_uri": "https://localhost:8080/"
        },
        "id": "froUX763CAA4",
        "outputId": "4ed12033-b89d-432c-ccbf-a971b43ac682"
      },
      "execution_count": null,
      "outputs": [
        {
          "output_type": "execute_result",
          "data": {
            "text/plain": [
              "[2, 3, 4, 5, 6, 7, 8, 9, 10]"
            ]
          },
          "metadata": {},
          "execution_count": 54
        }
      ]
    },
    {
      "cell_type": "markdown",
      "source": [
        "Liste min, max, sum"
      ],
      "metadata": {
        "id": "IfvRz9VQgoBz"
      }
    },
    {
      "cell_type": "code",
      "source": [
        "min(numbers)  #listedeki en küçük elemanı bulur"
      ],
      "metadata": {
        "colab": {
          "base_uri": "https://localhost:8080/"
        },
        "id": "3d_fO157CcXJ",
        "outputId": "ce0af9ca-5b87-42c6-e981-9fd0ae8900d4"
      },
      "execution_count": null,
      "outputs": [
        {
          "output_type": "execute_result",
          "data": {
            "text/plain": [
              "2"
            ]
          },
          "metadata": {},
          "execution_count": 55
        }
      ]
    },
    {
      "cell_type": "code",
      "source": [
        "max(numbers)   #listedeki en büyük elemanı bulur"
      ],
      "metadata": {
        "colab": {
          "base_uri": "https://localhost:8080/"
        },
        "id": "ZgH6_KqhCesa",
        "outputId": "58365f0a-622a-42a0-b4d2-ef9b73fc12bd"
      },
      "execution_count": null,
      "outputs": [
        {
          "output_type": "execute_result",
          "data": {
            "text/plain": [
              "10"
            ]
          },
          "metadata": {},
          "execution_count": 56
        }
      ]
    },
    {
      "cell_type": "code",
      "source": [
        "sum(numbers)   #listedeki elemanları toplar"
      ],
      "metadata": {
        "colab": {
          "base_uri": "https://localhost:8080/"
        },
        "id": "FaNj-Rk9Chag",
        "outputId": "1a371194-519e-4756-cc38-4d4279b71e51"
      },
      "execution_count": null,
      "outputs": [
        {
          "output_type": "execute_result",
          "data": {
            "text/plain": [
              "54"
            ]
          },
          "metadata": {},
          "execution_count": 57
        }
      ]
    },
    {
      "cell_type": "code",
      "source": [
        "print(numbers[1:3])    #ilk dahil ikinci sayı dahil değil aralıkta\n",
        "print(numbers[:3])\n",
        "print(numbers[1:])\n",
        "print(numbers[:-1])   #Baştan başla son elemana kafar yazdır\n",
        "print(numbers[4])\n",
        "print(len(numbers))"
      ],
      "metadata": {
        "colab": {
          "base_uri": "https://localhost:8080/"
        },
        "id": "tGU9qg_QC55h",
        "outputId": "b3647b71-94d0-4e2f-c970-0c2898c3a026"
      },
      "execution_count": null,
      "outputs": [
        {
          "output_type": "stream",
          "name": "stdout",
          "text": [
            "[3, 4]\n",
            "[2, 3, 4]\n",
            "[3, 4, 5, 6, 7, 8, 9, 10]\n",
            "[2, 3, 4, 5, 6, 7, 8, 9]\n",
            "6\n",
            "9\n"
          ]
        }
      ]
    },
    {
      "cell_type": "code",
      "source": [
        "sum(numbers[:3])"
      ],
      "metadata": {
        "colab": {
          "base_uri": "https://localhost:8080/"
        },
        "id": "UAch5k25DyN5",
        "outputId": "9ae9a076-49e5-42d1-9c7c-2c5c747254ba"
      },
      "execution_count": null,
      "outputs": [
        {
          "output_type": "execute_result",
          "data": {
            "text/plain": [
              "9"
            ]
          },
          "metadata": {},
          "execution_count": 59
        }
      ]
    },
    {
      "cell_type": "code",
      "source": [
        "print((sum(numbers[-2:]))-min(numbers[:3]))"
      ],
      "metadata": {
        "colab": {
          "base_uri": "https://localhost:8080/"
        },
        "id": "wd4LtHZHFHJ7",
        "outputId": "21385ef1-0655-4c8f-d7ff-8bc5fc764fa1"
      },
      "execution_count": null,
      "outputs": [
        {
          "output_type": "stream",
          "name": "stdout",
          "text": [
            "17\n"
          ]
        }
      ]
    },
    {
      "cell_type": "code",
      "source": [
        "x=max(numbers)\n",
        "print(numbers.index(x))\n",
        "numbers"
      ],
      "metadata": {
        "colab": {
          "base_uri": "https://localhost:8080/"
        },
        "id": "8jNwWv8rFnyj",
        "outputId": "3fd89ec9-58ee-459f-ea23-6b660c5d0c41"
      },
      "execution_count": null,
      "outputs": [
        {
          "output_type": "stream",
          "name": "stdout",
          "text": [
            "8\n"
          ]
        },
        {
          "output_type": "execute_result",
          "data": {
            "text/plain": [
              "[2, 3, 4, 5, 6, 7, 8, 9, 10]"
            ]
          },
          "metadata": {},
          "execution_count": 61
        }
      ]
    },
    {
      "cell_type": "markdown",
      "source": [
        "Listeyi birleştirme"
      ],
      "metadata": {
        "id": "vzoUAphgGTcq"
      }
    },
    {
      "cell_type": "code",
      "source": [
        "numbers\n",
        "numbers += [54,87,95]\n",
        "numbers"
      ],
      "metadata": {
        "colab": {
          "base_uri": "https://localhost:8080/"
        },
        "id": "KpFFd7MDGVVT",
        "outputId": "0f3258ee-e177-416e-fd86-7176e800bbf6"
      },
      "execution_count": null,
      "outputs": [
        {
          "output_type": "execute_result",
          "data": {
            "text/plain": [
              "[2, 3, 4, 5, 6, 7, 8, 9, 10, 54, 87, 95]"
            ]
          },
          "metadata": {},
          "execution_count": 62
        }
      ]
    },
    {
      "cell_type": "code",
      "source": [
        "n2=[47,58,69,\"Num\"]\n",
        "numbers += n2\n",
        "numbers"
      ],
      "metadata": {
        "colab": {
          "base_uri": "https://localhost:8080/"
        },
        "id": "ucRrUwAhGeMy",
        "outputId": "93ba93f9-dfc1-4126-b112-aef805ee7cb9"
      },
      "execution_count": null,
      "outputs": [
        {
          "output_type": "execute_result",
          "data": {
            "text/plain": [
              "[2, 3, 4, 5, 6, 7, 8, 9, 10, 54, 87, 95, 47, 58, 69, 'Num']"
            ]
          },
          "metadata": {},
          "execution_count": 63
        }
      ]
    },
    {
      "cell_type": "markdown",
      "source": [
        "Döngülerle listenin kullanımı"
      ],
      "metadata": {
        "id": "XBpKzWYPHBd5"
      }
    },
    {
      "cell_type": "code",
      "source": [
        "n1=[1,5,7,9]\n",
        "for i in n1:\n",
        "  print(i)"
      ],
      "metadata": {
        "colab": {
          "base_uri": "https://localhost:8080/"
        },
        "id": "NdJJ5Mt6G-t3",
        "outputId": "b83127ff-2836-476a-95f3-7acc61724fa3"
      },
      "execution_count": null,
      "outputs": [
        {
          "output_type": "stream",
          "name": "stdout",
          "text": [
            "1\n",
            "5\n",
            "7\n",
            "9\n"
          ]
        }
      ]
    },
    {
      "cell_type": "code",
      "source": [
        "for isim in isimler:\n",
        "  print(isim)"
      ],
      "metadata": {
        "colab": {
          "base_uri": "https://localhost:8080/"
        },
        "id": "xwa_5WjsHOFb",
        "outputId": "d4e61c59-f54e-4838-b6cc-8070b8c9199e"
      },
      "execution_count": null,
      "outputs": [
        {
          "output_type": "stream",
          "name": "stdout",
          "text": [
            "Kemal\n",
            "Ali\n",
            "Veli\n",
            "Kazım\n",
            "Leyla\n"
          ]
        }
      ]
    },
    {
      "cell_type": "code",
      "source": [
        "while 'Veli' in isimler:\n",
        "  isimler.remove('Veli')\n",
        "\n",
        "isimler"
      ],
      "metadata": {
        "colab": {
          "base_uri": "https://localhost:8080/"
        },
        "id": "86hQ4r3-HVdj",
        "outputId": "7afbd061-1d79-4354-a9bd-2feb838b53c2"
      },
      "execution_count": null,
      "outputs": [
        {
          "output_type": "execute_result",
          "data": {
            "text/plain": [
              "['Kemal', 'Ali', 'Kazım', 'Leyla']"
            ]
          },
          "metadata": {},
          "execution_count": 66
        }
      ]
    },
    {
      "cell_type": "code",
      "source": [
        "number=list(range(2,11,2))\n",
        "number"
      ],
      "metadata": {
        "colab": {
          "base_uri": "https://localhost:8080/"
        },
        "id": "OOxTlifuHoho",
        "outputId": "ab36b653-dbca-4062-ed7f-f721bb5fae81"
      },
      "execution_count": null,
      "outputs": [
        {
          "output_type": "execute_result",
          "data": {
            "text/plain": [
              "[2, 4, 6, 8, 10]"
            ]
          },
          "metadata": {},
          "execution_count": 68
        }
      ]
    },
    {
      "cell_type": "markdown",
      "source": [
        "İç içe liste kullanımı"
      ],
      "metadata": {
        "id": "_caevG8XH1Ci"
      }
    },
    {
      "cell_type": "code",
      "source": [
        "notBilgileri=[['Merve',45,85],['Elif',54,65],['Ali',13,95],[\"Veli\",75,85]]"
      ],
      "metadata": {
        "id": "NJJw3tmbH4_r"
      },
      "execution_count": null,
      "outputs": []
    },
    {
      "cell_type": "code",
      "source": [
        "notBilgileri"
      ],
      "metadata": {
        "colab": {
          "base_uri": "https://localhost:8080/"
        },
        "id": "uq96l_9UIVlu",
        "outputId": "4571095b-fc37-43d4-ee8a-65ab6915d4b6"
      },
      "execution_count": null,
      "outputs": [
        {
          "output_type": "execute_result",
          "data": {
            "text/plain": [
              "[['Merve', 45, 85], ['Elif', 54, 65], ['Ali', 13, 95], ['Veli', 75, 85]]"
            ]
          },
          "metadata": {},
          "execution_count": 2
        }
      ]
    },
    {
      "cell_type": "code",
      "source": [
        "liste1=list(range(2,21,2))\n",
        "print(liste1)\n",
        "liste2=[]\n",
        "for i in range(2,21,2): \n",
        "    liste2.append(i)  \n",
        "print(liste2)"
      ],
      "metadata": {
        "colab": {
          "base_uri": "https://localhost:8080/"
        },
        "id": "rLo7Xnyvi_2s",
        "outputId": "3195af36-b741-4ef2-c46d-d9e8a532cf06"
      },
      "execution_count": null,
      "outputs": [
        {
          "output_type": "stream",
          "name": "stdout",
          "text": [
            "[2, 4, 6, 8, 10, 12, 14, 16, 18, 20]\n",
            "[2, 4, 6, 8, 10, 12, 14, 16, 18, 20]\n"
          ]
        }
      ]
    },
    {
      "cell_type": "code",
      "source": [
        "liste3=[]\n",
        "liste4=[]\n",
        "for i in range(1,30):\n",
        "  if i%2==0 and i%3==0:\n",
        "    liste3.append(i)\n",
        "  if i%2==0 or i%3==0:\n",
        "    liste4.append(i)\n",
        "print(liste3)\n",
        "print(liste4)"
      ],
      "metadata": {
        "colab": {
          "base_uri": "https://localhost:8080/"
        },
        "id": "wNhnhwNZkYyW",
        "outputId": "8a249dca-e195-43d6-fcfa-b879b93d2167"
      },
      "execution_count": null,
      "outputs": [
        {
          "output_type": "stream",
          "name": "stdout",
          "text": [
            "[6, 12, 18, 24]\n",
            "[2, 3, 4, 6, 8, 9, 10, 12, 14, 15, 16, 18, 20, 21, 22, 24, 26, 27, 28]\n"
          ]
        }
      ]
    },
    {
      "cell_type": "code",
      "source": [
        "liste5=list(range(1,21,2))\n",
        "print(liste5)\n",
        "liste6=[i for i in range(1,21,2)]\n",
        "print(liste6)"
      ],
      "metadata": {
        "colab": {
          "base_uri": "https://localhost:8080/"
        },
        "id": "APQm0ASjlQsH",
        "outputId": "ab74d041-6b01-4387-ef5b-74cbb38bdf94"
      },
      "execution_count": null,
      "outputs": [
        {
          "output_type": "stream",
          "name": "stdout",
          "text": [
            "[1, 3, 5, 7, 9, 11, 13, 15, 17, 19]\n",
            "[1, 3, 5, 7, 9, 11, 13, 15, 17, 19]\n"
          ]
        }
      ]
    },
    {
      "cell_type": "code",
      "source": [
        "liste7=[a for a in range(1,30) if a%2==0 or a%3==0]\n",
        "print(liste7)"
      ],
      "metadata": {
        "colab": {
          "base_uri": "https://localhost:8080/"
        },
        "id": "f0kA6wqHm18a",
        "outputId": "3df41544-40a4-47f3-9869-874c1a1b3015"
      },
      "execution_count": null,
      "outputs": [
        {
          "output_type": "stream",
          "name": "stdout",
          "text": [
            "[2, 3, 4, 6, 8, 9, 10, 12, 14, 15, 16, 18, 20, 21, 22, 24, 26, 27, 28]\n"
          ]
        }
      ]
    },
    {
      "cell_type": "code",
      "source": [
        "liste8=[a for a in range(1,101) if a%9==0 and a%2!=0]\n",
        "print(liste8)"
      ],
      "metadata": {
        "colab": {
          "base_uri": "https://localhost:8080/"
        },
        "id": "imnGFnOxnI0n",
        "outputId": "c27baa21-4015-4c2f-c931-600f4e331514"
      },
      "execution_count": null,
      "outputs": [
        {
          "output_type": "stream",
          "name": "stdout",
          "text": [
            "[9, 27, 45, 63, 81, 99]\n"
          ]
        }
      ]
    },
    {
      "cell_type": "code",
      "source": [
        "liste9=[a+100 for a in range(1,101) if a%3==0 and a%4==0 ]\n",
        "print(liste9)"
      ],
      "metadata": {
        "colab": {
          "base_uri": "https://localhost:8080/"
        },
        "id": "fILqIqXbnkAu",
        "outputId": "cb6a8507-0561-43fe-8460-4a1de710728e"
      },
      "execution_count": null,
      "outputs": [
        {
          "output_type": "stream",
          "name": "stdout",
          "text": [
            "[112, 124, 136, 148, 160, 172, 184, 196]\n"
          ]
        }
      ]
    },
    {
      "cell_type": "code",
      "source": [
        "liste10=[a**2 for a in range(1,101) if a%3==0 and a%4==0 ]\n",
        "print(liste10)"
      ],
      "metadata": {
        "colab": {
          "base_uri": "https://localhost:8080/"
        },
        "id": "dPaoDIMCoDE2",
        "outputId": "4e529afa-5dde-4572-8482-17cea6b32c64"
      },
      "execution_count": null,
      "outputs": [
        {
          "output_type": "stream",
          "name": "stdout",
          "text": [
            "[144, 576, 1296, 2304, 3600, 5184, 7056, 9216]\n"
          ]
        }
      ]
    },
    {
      "cell_type": "code",
      "source": [
        "metin = \"Merhaba\"\n",
        "liste11=[]\n",
        "for i in range(len(metin)):\n",
        "  liste11.append(metin[i])\n",
        "print(liste11)"
      ],
      "metadata": {
        "colab": {
          "base_uri": "https://localhost:8080/"
        },
        "id": "NPhHEBHgobqg",
        "outputId": "9daf58df-e38b-49aa-cb39-f098c64ae0b6"
      },
      "execution_count": null,
      "outputs": [
        {
          "output_type": "stream",
          "name": "stdout",
          "text": [
            "['M', 'e', 'r', 'h', 'a', 'b', 'a']\n"
          ]
        }
      ]
    },
    {
      "cell_type": "code",
      "source": [
        "liste12=[i for i in metin]\n",
        "liste12"
      ],
      "metadata": {
        "colab": {
          "base_uri": "https://localhost:8080/"
        },
        "id": "WS0j83G_o4eG",
        "outputId": "3798783c-a6d5-4692-92ad-3460eb4ab7a4"
      },
      "execution_count": null,
      "outputs": [
        {
          "output_type": "execute_result",
          "data": {
            "text/plain": [
              "['M', 'e', 'r', 'h', 'a', 'b', 'a']"
            ]
          },
          "metadata": {},
          "execution_count": 29
        }
      ]
    },
    {
      "cell_type": "code",
      "source": [
        "liste13=list(metin)\n",
        "liste13"
      ],
      "metadata": {
        "colab": {
          "base_uri": "https://localhost:8080/"
        },
        "id": "u-iPGRDFpDOz",
        "outputId": "a9b5e96f-1bf7-4756-f4f6-9341430e3ec5"
      },
      "execution_count": null,
      "outputs": [
        {
          "output_type": "execute_result",
          "data": {
            "text/plain": [
              "['M', 'e', 'r', 'h', 'a', 'b', 'a']"
            ]
          },
          "metadata": {},
          "execution_count": 30
        }
      ]
    },
    {
      "cell_type": "code",
      "source": [
        "metin2=\"kdjfdkdfdkjfjf 878 sdjsdhjsdsdhjsdh87jsdshdhsj5hsd 5kasjs\"\n",
        "liste14=[0,1,2,3,4,5,6,7,8,9]\n",
        "listeYeni=[]\n",
        "for harf in metin2:\n",
        "  for i in liste14:\n",
        "    if harf==str(i):\n",
        "      listeYeni.append(harf)\n",
        "print(listeYeni)"
      ],
      "metadata": {
        "colab": {
          "base_uri": "https://localhost:8080/"
        },
        "id": "gcJxiPKqphDP",
        "outputId": "d951449b-f843-4ab4-ee1c-e06cc420f67b"
      },
      "execution_count": null,
      "outputs": [
        {
          "output_type": "stream",
          "name": "stdout",
          "text": [
            "['8', '7', '8', '8', '7', '5', '5']\n"
          ]
        }
      ]
    },
    {
      "cell_type": "code",
      "source": [
        "liste15=[int(i) for i in metin2 if i.isnumeric()]\n",
        "liste15"
      ],
      "metadata": {
        "colab": {
          "base_uri": "https://localhost:8080/"
        },
        "id": "j-nNXqZjrmWO",
        "outputId": "c78ee5f4-3c53-4c77-85fd-051d7f601948"
      },
      "execution_count": null,
      "outputs": [
        {
          "output_type": "execute_result",
          "data": {
            "text/plain": [
              "[8, 7, 8, 8, 7, 5, 5]"
            ]
          },
          "metadata": {},
          "execution_count": 3
        }
      ]
    },
    {
      "cell_type": "code",
      "source": [
        "sum(liste15)"
      ],
      "metadata": {
        "colab": {
          "base_uri": "https://localhost:8080/"
        },
        "id": "C4SyyP4yw3uq",
        "outputId": "6945690b-555e-40df-94f8-bd74b64bead3"
      },
      "execution_count": null,
      "outputs": [
        {
          "output_type": "execute_result",
          "data": {
            "text/plain": [
              "48"
            ]
          },
          "metadata": {},
          "execution_count": 4
        }
      ]
    },
    {
      "cell_type": "code",
      "source": [
        "aList=[\"PYnative\",[4,8,12,16]]\n",
        "print(aList[0][1])\n",
        "print(aList[1][3])"
      ],
      "metadata": {
        "colab": {
          "base_uri": "https://localhost:8080/"
        },
        "id": "1KOCC9Y6xny6",
        "outputId": "f8921342-8eac-4c34-fab4-f8de31f43cd0"
      },
      "execution_count": null,
      "outputs": [
        {
          "output_type": "stream",
          "name": "stdout",
          "text": [
            "Y\n",
            "16\n"
          ]
        }
      ]
    },
    {
      "cell_type": "code",
      "source": [
        "resList= [x+y for x in ['Hello ', 'Good '] for y in ['Dear', 'Bye']]\n",
        "print(resList)"
      ],
      "metadata": {
        "colab": {
          "base_uri": "https://localhost:8080/"
        },
        "id": "g8cRDUrFyF8c",
        "outputId": "cbaa5d74-85f1-4d53-c37d-7d6358561f81"
      },
      "execution_count": null,
      "outputs": [
        {
          "output_type": "stream",
          "name": "stdout",
          "text": [
            "['Hello Dear', 'Hello Bye', 'Good Dear', 'Good Bye']\n"
          ]
        }
      ]
    },
    {
      "cell_type": "code",
      "source": [
        "liste16=[]\n",
        "for x in ['Hello ', 'Good ']:\n",
        "  for y in ['Dear', 'Bye']:\n",
        "    liste16.append(x+y)\n",
        "print(liste16)"
      ],
      "metadata": {
        "colab": {
          "base_uri": "https://localhost:8080/"
        },
        "id": "jc8s0b5myey6",
        "outputId": "6517e7a1-02da-4302-e62a-5c6c18ffa82e"
      },
      "execution_count": null,
      "outputs": [
        {
          "output_type": "stream",
          "name": "stdout",
          "text": [
            "['Hello Dear', 'Hello Bye', 'Good Dear', 'Good Bye']\n"
          ]
        }
      ]
    },
    {
      "cell_type": "code",
      "source": [
        "liste17=['xyz','zara','PYnative']\n",
        "print(max(liste17))   #z harfi baş harflerden alfabedeki sırası daha ileri olan ondan dolayı onu aldı"
      ],
      "metadata": {
        "colab": {
          "base_uri": "https://localhost:8080/"
        },
        "id": "O1xbF8zrzARz",
        "outputId": "33f98966-045d-4b6e-c471-d30ce30813ff"
      },
      "execution_count": null,
      "outputs": [
        {
          "output_type": "stream",
          "name": "stdout",
          "text": [
            "zara\n"
          ]
        }
      ]
    },
    {
      "cell_type": "code",
      "source": [
        "sampleList=[10,20,30,40,50]\n",
        "sampleList.pop()\n",
        "print(sampleList)    #alttakilere geçerken sol haline göre silme yapıyor\n",
        "\n",
        "sampleList.pop(2)\n",
        "print(sampleList)\n"
      ],
      "metadata": {
        "colab": {
          "base_uri": "https://localhost:8080/"
        },
        "id": "l93lD2IAzNLh",
        "outputId": "06f3f38c-a7c0-4d7d-9bb0-cb49cff01343"
      },
      "execution_count": null,
      "outputs": [
        {
          "output_type": "stream",
          "name": "stdout",
          "text": [
            "[10, 20, 30, 40]\n",
            "[10, 20, 40]\n"
          ]
        }
      ]
    },
    {
      "cell_type": "code",
      "source": [
        "del(sampleList[0])\n",
        "print(sampleList)"
      ],
      "metadata": {
        "colab": {
          "base_uri": "https://localhost:8080/"
        },
        "id": "uprZBhpGzfgi",
        "outputId": "f87e02d5-fed8-4812-b427-0058072f328d"
      },
      "execution_count": null,
      "outputs": [
        {
          "output_type": "stream",
          "name": "stdout",
          "text": [
            "[20, 40]\n"
          ]
        }
      ]
    },
    {
      "cell_type": "code",
      "source": [
        "listeSayi=[]\n",
        "listeHarf=[]\n",
        "sayilar=[0,1,2,3,4,5,6,7,8,9]\n",
        "metin3=\"hsdjsdh2589634jdjshdsdsd45698732kjdshdhsdh45skdjskdj78sndbjsd96hgds\"\n",
        "for harf in metin3:\n",
        "  for i in sayilar:\n",
        "    if harf==str(i):\n",
        "      listeSayi.append(int(harf))\n",
        "  if harf.isnumeric()==False:\n",
        "   listeHarf.append(harf)\n",
        "\n",
        "print(listeSayi)\n",
        "print(listeHarf)\n",
        "\n",
        "listecopy=listeSayi.copy()\n",
        "print(listecopy)\n",
        "\n",
        "for x in listecopy:\n",
        "  if x%2==0:\n",
        "    listeSayi.remove(x)\n",
        "\n",
        "print(listeSayi)\n"
      ],
      "metadata": {
        "colab": {
          "base_uri": "https://localhost:8080/"
        },
        "id": "4eST7Dojz01c",
        "outputId": "3e00f6ef-1fea-4b4c-8c90-6428a9a47bed"
      },
      "execution_count": 4,
      "outputs": [
        {
          "output_type": "stream",
          "name": "stdout",
          "text": [
            "[2, 5, 8, 9, 6, 3, 4, 4, 5, 6, 9, 8, 7, 3, 2, 4, 5, 7, 8, 9, 6]\n",
            "['h', 's', 'd', 'j', 's', 'd', 'h', 'j', 'd', 'j', 's', 'h', 'd', 's', 'd', 's', 'd', 'k', 'j', 'd', 's', 'h', 'd', 'h', 's', 'd', 'h', 's', 'k', 'd', 'j', 's', 'k', 'd', 'j', 's', 'n', 'd', 'b', 'j', 's', 'd', 'h', 'g', 'd', 's']\n",
            "[2, 5, 8, 9, 6, 3, 4, 4, 5, 6, 9, 8, 7, 3, 2, 4, 5, 7, 8, 9, 6]\n",
            "[5, 9, 3, 5, 9, 7, 3, 5, 7, 9]\n"
          ]
        }
      ]
    },
    {
      "cell_type": "markdown",
      "source": [
        "Veya alttaki gibi olabilir."
      ],
      "metadata": {
        "id": "S3bK--kSirOn"
      }
    },
    {
      "cell_type": "code",
      "source": [
        "listeSayi=[int(x) for x in metin3 if x.isnumeric()]\n",
        "print(listeSayi)\n",
        "print(listeHarf)\n",
        "\n",
        "boyut=len(listeSayi)\n",
        "listeCopy=listeSayi.copy()\n",
        "for i in range(0,boyut):\n",
        "  if listeSayi[i]%2==0:\n",
        "    listeCopy.remove(listeSayi[i])\n",
        "\n",
        "listeSayilar=listeCopy\n",
        "print(listeSayilar)"
      ],
      "metadata": {
        "id": "4uczvC8A2_Og",
        "colab": {
          "base_uri": "https://localhost:8080/"
        },
        "outputId": "b8a28c0c-4229-4d4a-bceb-ffdcdffe5cc0"
      },
      "execution_count": 5,
      "outputs": [
        {
          "output_type": "stream",
          "name": "stdout",
          "text": [
            "[2, 5, 8, 9, 6, 3, 4, 4, 5, 6, 9, 8, 7, 3, 2, 4, 5, 7, 8, 9, 6]\n",
            "['h', 's', 'd', 'j', 's', 'd', 'h', 'j', 'd', 'j', 's', 'h', 'd', 's', 'd', 's', 'd', 'k', 'j', 'd', 's', 'h', 'd', 'h', 's', 'd', 'h', 's', 'k', 'd', 'j', 's', 'k', 'd', 'j', 's', 'n', 'd', 'b', 'j', 's', 'd', 'h', 'g', 'd', 's']\n",
            "[5, 9, 3, 5, 9, 7, 3, 5, 7, 9]\n"
          ]
        }
      ]
    }
  ]
}