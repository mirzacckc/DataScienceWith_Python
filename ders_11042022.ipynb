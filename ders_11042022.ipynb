{
  "nbformat": 4,
  "nbformat_minor": 0,
  "metadata": {
    "colab": {
      "name": "ders_11042022.ipynb",
      "provenance": [],
      "collapsed_sections": []
    },
    "kernelspec": {
      "name": "python3",
      "display_name": "Python 3"
    },
    "language_info": {
      "name": "python"
    }
  },
  "cells": [
    {
      "cell_type": "markdown",
      "source": [
        "# **Döngüler Örnekler**"
      ],
      "metadata": {
        "id": "7bC9bQqCqqnZ"
      }
    },
    {
      "cell_type": "code",
      "execution_count": null,
      "metadata": {
        "colab": {
          "base_uri": "https://localhost:8080/"
        },
        "id": "gD0YijiGLC0S",
        "outputId": "d9d5e064-0dc5-42bc-c5e2-c42e79ed5c6f"
      },
      "outputs": [
        {
          "output_type": "stream",
          "name": "stdout",
          "text": [
            "2\n",
            "4\n",
            "6\n",
            "8\n",
            "10\n",
            "12\n",
            "14\n",
            "16\n",
            "18\n"
          ]
        }
      ],
      "source": [
        "for i in range(2,20,2):\n",
        "  print(i)"
      ]
    },
    {
      "cell_type": "code",
      "source": [
        "sayi = 10\n",
        "while sayi > 1:\n",
        "  if sayi%2 == 0:\n",
        "    print('Çift sayı', sayi)\n",
        "  else:\n",
        "     print('Tek sayı', sayi)\n",
        "  sayi -= 1"
      ],
      "metadata": {
        "colab": {
          "base_uri": "https://localhost:8080/"
        },
        "id": "H9Rr9-slLi86",
        "outputId": "5e9142e2-4747-4d2a-b907-d93a4ef33a60"
      },
      "execution_count": null,
      "outputs": [
        {
          "output_type": "stream",
          "name": "stdout",
          "text": [
            "Çift sayı 10\n",
            "Tek sayı 9\n",
            "Çift sayı 8\n",
            "Tek sayı 7\n",
            "Çift sayı 6\n",
            "Tek sayı 5\n",
            "Çift sayı 4\n",
            "Tek sayı 3\n",
            "Çift sayı 2\n"
          ]
        }
      ]
    },
    {
      "cell_type": "markdown",
      "source": [
        "Bir kırtasiyecinin sattığı kalemlerin kodları ve birim fiyatları aşağıdaki gibidir.\n",
        "\n",
        "\n",
        "*   Kalem Rengi, Ürün kodu, Birim Fiyatı\n",
        "*   Kırmızı, 11,  5.50TL\n",
        "*   Lacivert, 12,  7.50TL\n",
        "*   Beyaz, 13,  4.50TL\n",
        "*   Mavi, 14,  7.45TL\n",
        "*   Sarı, 15,  5.25TL\n",
        "\n",
        "Kırtasiyeci hergünün sonunda kaç adet kalem sattığını ve toplam kaç lira para kazandığını bilmek istiyor.Günlük girdi bitimi için 111, her alışveriş bitimi için 222 kodu girilmelidir. Her alışveriş için ekrandan girilen ürün kodundan kaç adet satın alındığını sorarak işlem yapınız. Her işlemde ara tutarı ekrana yazdırınız.\n",
        "\n"
      ],
      "metadata": {
        "id": "pj2hqTCyr-Cb"
      }
    },
    {
      "cell_type": "code",
      "source": [
        "kirmizi=0\n",
        "lacivert=0\n",
        "beyaz=0\n",
        "mavi=0\n",
        "sari=0\n",
        "tutar=0\n",
        "genelToplam=0\n",
        "\n",
        "urunKodu = int(input('Ürün kodu giriniz: '))\n",
        "while urunKodu != 111:\n",
        "  if urunKodu == 222:\n",
        "    print(\"Alışverişin toplam tutarı: \",tutar)\n",
        "    genelToplam += tutar\n",
        "    tutar=0\n",
        "  else:\n",
        "    adet = int(input('Adet giriniz: '))    \n",
        "    if urunKodu == 11:\n",
        "      kirmizi += adet\n",
        "      tutar += (5.5*adet)\n",
        "    elif urunKodu == 12:\n",
        "      lacivert += adet\n",
        "      tutar += (7.5*adet)\n",
        "    elif urunKodu == 13:\n",
        "      beyaz += adet\n",
        "      tutar += (4.5*adet)\n",
        "    elif urunKodu == 14:\n",
        "      mavi += adet\n",
        "      tutar += (7.45*adet)\n",
        "    elif urunKodu == 15:\n",
        "      sari += adet\n",
        "      tutar += (5.25*adet)\n",
        "    else:\n",
        "      print('Hatalı kod girdiniz!!')\n",
        "  urunKodu = int(input('Ürün kodu giriniz: '))\n",
        "print(\"Gün sonu toplam: \", genelToplam)\n",
        "print(\"Kırmızı: \",kirmizi,\"Lacivert: \",lacivert,\"Beyaz: \",beyaz,\"Mavi: \",mavi,\"Sarı: \",sari,\"Toplam kalem adedi: \", (kirmizi+lacivert+beyaz+sari+mavi))"
      ],
      "metadata": {
        "colab": {
          "base_uri": "https://localhost:8080/"
        },
        "id": "DgaoAwW_MOJD",
        "outputId": "20b4a815-9b37-4d36-f981-66738a79bcd4"
      },
      "execution_count": null,
      "outputs": [
        {
          "output_type": "stream",
          "name": "stdout",
          "text": [
            "Ürün kodu giriniz: 11\n",
            "Adet giriniz: 2\n",
            "Ürün kodu giriniz: 12\n",
            "Adet giriniz: 3\n",
            "Ürün kodu giriniz: 13\n",
            "Adet giriniz: 2\n",
            "Ürün kodu giriniz: 14\n",
            "Adet giriniz: 1\n",
            "Ürün kodu giriniz: 222\n",
            "Alışverişin toplam tutarı:  49.95\n",
            "Ürün kodu giriniz: 111\n",
            "Gün sonu toplam:  49.95\n",
            "Kırmızı:  2 Lacivert:  3 Beyaz:  2 Mavi:  1 Sarı:  0 Toplam kalem adedi:  8\n"
          ]
        }
      ]
    },
    {
      "cell_type": "markdown",
      "source": [
        "Bir ithalat ihracat şirketi için kar zarar hesaplamasında kullanılacak olan bir fonksiyon tasarlayınız. Ekrandan girilecek olan birbirinden farklı alış ve satış değerlerine göre \n",
        "\n",
        "> **Kar/Zarar Oranı= (satış fiyatı - Alış Fiyatı)/Alış Fİyatı**\n",
        "\n",
        "yukarıdaki formülle hesaplanmalı. Program alış veya satış fiyatının herhangi birine 0 girerlerse fonksiyon sonlanıp, kaç satıştan kar veya zarar ettiği bilgisini ekrana yazdırmalıdır.\n"
      ],
      "metadata": {
        "id": "X9vgs5tUsItk"
      }
    },
    {
      "cell_type": "code",
      "source": [
        "sayacKar=0\n",
        "sayacZarar=0\n",
        "zararMiktari=0\n",
        "karMiktari=0\n",
        "alisFiyati = float(input(\"Satış Fiyatını Giriniz: \"))\n",
        "satisFiyati = float(input(\"Alış Fiyatını Giriniz: \"))\n",
        "\n",
        "while satisFiyati != 0 and alisFiyati != 0:\n",
        "  karZararOrani = (satisFiyati - alisFiyati)/alisFiyati\n",
        "  if karZararOrani < 0:\n",
        "    sayacZarar += 1\n",
        "    zararMiktari += (alisFiyati-satisFiyati)\n",
        "  else:\n",
        "    sayacKar += 1\n",
        "    karMiktari += (satisFiyati-alisFiyati)\n",
        "  alisFiyati = float(input(\"Satış Fiyatını Giriniz: \"))\n",
        "  satisFiyati = float(input(\"Alış Fiyatını Giriniz: \"))\n",
        "\n",
        "print(\"Yapılan karlı satış miktarı: \",sayacKar)\n",
        "print(\"Yapılan zararlı satış miktarı: \",sayacKar)\n",
        "print(\"Kar miktarı: \",karMiktari)\n",
        "print(\"Zarar miktarı: \",zararMiktari)\n",
        "\n",
        "\n"
      ],
      "metadata": {
        "colab": {
          "base_uri": "https://localhost:8080/"
        },
        "id": "H4kvtg_8Tkt_",
        "outputId": "a6191394-3423-484c-b01c-d04c4e4cf934"
      },
      "execution_count": null,
      "outputs": [
        {
          "output_type": "stream",
          "name": "stdout",
          "text": [
            "Satış Fiyatını Giriniz: 100\n",
            "Alış Fiyatını Giriniz: 20\n",
            "Satış Fiyatını Giriniz: 30\n",
            "Alış Fiyatını Giriniz: 25\n",
            "Satış Fiyatını Giriniz: 50\n",
            "Alış Fiyatını Giriniz: 70\n",
            "Satış Fiyatını Giriniz: 70\n",
            "Alış Fiyatını Giriniz: 55\n",
            "Satış Fiyatını Giriniz: 0\n",
            "Alış Fiyatını Giriniz: 0\n",
            "Yapılan karlı satış miktarı:  1\n",
            "Yapılan zararlı satış miktarı:  1\n",
            "Kar miktarı:  20.0\n",
            "Zarar miktarı:  100.0\n"
          ]
        }
      ]
    },
    {
      "cell_type": "markdown",
      "source": [
        "# **Fonksiyonlar Örnekler**"
      ],
      "metadata": {
        "id": "wz5Gohv-q1mo"
      }
    },
    {
      "cell_type": "markdown",
      "source": [
        "Bir otoparkta ücretlendirme araç tipine ve otoparkta kalınan süreye göre ücret çarpanı ve saatlik ücreti çarpılarak hesaplanmaktadır. Ücret çarpanları ve saat ücretleri;\n",
        "\n",
        "\n",
        "*   Araç tipi, Araç kodu , Ücret Çarpanı\n",
        "*   Motosiklet, 1, 0.5\n",
        "*   Otomobil, 2, 1\n",
        "*   Minibüs, 3, 1.5\n",
        "\n",
        "Kalınan Saat, Ücret hesaplama tablosu; \n",
        "\n",
        "*   0-3 saat, 15TL\n",
        "*   4-6 saat, 25TL\n",
        "*   7-10 saat, 35 TL\n",
        "*   11 saat ve üstü, 40TL\n",
        "\n",
        "Otopark işletmecisi hergünün sonunda her araçtan kaç adet geldiğini ve toplam kaç lira kazandığını ekranda görmelidir. Ayrıca her araç tipi için ayrı ayrı otoparkta ortalama kalma süreleri verilmelidir. Günlük girdi bildirimini almak için 111 girilmelidir.\n",
        "\n"
      ],
      "metadata": {
        "id": "ypAOYZwlsPfG"
      }
    },
    {
      "cell_type": "code",
      "source": [
        "def kontrol(ucretCarpani):\n",
        "  if sure > 0 and sure <= 3:\n",
        "      tutar=15*ucretCarpani\n",
        "  elif sure >= 4 and sure <= 6:\n",
        "      tutar=25*ucretCarpani\n",
        "  elif sure >= 7 and sure <= 10:\n",
        "      tutar=35*ucretCarpani\n",
        "  elif sure >= 11:\n",
        "      tutar=40*ucretCarpani\n",
        "  else:\n",
        "    print(\"Kalınan Süre hatalı Giriş\")\n",
        "  return tutar"
      ],
      "metadata": {
        "id": "uTJcq4i2cT69"
      },
      "execution_count": null,
      "outputs": []
    },
    {
      "cell_type": "code",
      "source": [
        "def sifiraBolmeKontrol(mesaj,sure,sayac):\n",
        "  if sayac >0:\n",
        "    print(mesaj,(sure/sayac))\n",
        "  else:\n",
        "    print(\"Bu araç tipi hiç kullanılmamıştır\")"
      ],
      "metadata": {
        "id": "gHtSgowWk6Q-"
      },
      "execution_count": null,
      "outputs": []
    },
    {
      "cell_type": "code",
      "source": [
        "motorsiklet=0\n",
        "otomobil=0\n",
        "minibus=0\n",
        "mS=0\n",
        "oS=0\n",
        "miS=0\n",
        "tutar=0\n",
        "toplamTutar=0\n",
        "aracKodu = int(input(\"Araç kodunu giriniz(Motosiklet=1, Otomobil=2, Minibüs=3): \"))\n",
        "sure = int(input(\"Kalacağınız süreyi giriniz: \"))\n",
        "while aracKodu != 111:\n",
        "  if aracKodu == 1:\n",
        "    motorsiklet += 1\n",
        "    mS += sure\n",
        "    tutar = kontrol(0.5)\n",
        "    # if sure > 0 and sure <= 3:\n",
        "    #   tutar=15*0.5\n",
        "    # elif sure >= 4 and sure <= 6:\n",
        "    #   tutar=25*0.5\n",
        "    # elif sure >= 7 and sure <= 10:\n",
        "    #   tutar=35*0.5\n",
        "    # elif sure >= 11:\n",
        "    #   tutar=40*0.5\n",
        "  elif aracKodu == 2:\n",
        "    otomobil += 1\n",
        "    oS += sure    \n",
        "    tutar = kontrol(1)\n",
        "    # if sure > 0 and sure <= 3:\n",
        "    #   tutar=15\n",
        "    # elif sure >= 4 and sure <= 6:\n",
        "    #   tutar=25\n",
        "    # elif sure >= 7 and sure <= 10:\n",
        "    #   tutar=35*0.5\n",
        "    # elif sure >= 11:\n",
        "    #   tutar=40\n",
        "  elif aracKodu == 3:\n",
        "    minibus += 1\n",
        "    miS += sure    \n",
        "    tutar = kontrol(1.5)\n",
        "    # if sure > 0 and sure <= 3:\n",
        "    #   tutar=15*1.5\n",
        "    # elif sure >= 4 and sure <= 6:\n",
        "    #   tutar=25*1.5\n",
        "    # elif sure >= 7 and sure <= 10:\n",
        "    #   tutar=35*1.5\n",
        "    # elif sure >= 11:\n",
        "    #   tutar=40*1.5\n",
        "  else:\n",
        "    print(\"Hatalı Kod Girdiniz!!\")\n",
        "  aracKodu = int(input(\"Araç kodunu giriniz(Motosiklet=1, Otomobil=2, Minibüs=3): \"))\n",
        "  sure = int(input(\"Kalacağınız süreyi giriniz: \"))\n",
        "  toplamTutar += tutar\n",
        "print(toplamTutar)\n",
        "print(\"Motorsiklet\",motorsiklet,\"Otomobil\",otomobil,\"Minibüs\",minibus, \"Toplam Araç Sayısı: \",(motorsiklet+otomobil+minibus))\n",
        "sifiraBolmeKontrol(\"Motorsiklet ortalama süre: \",mS,motorsiklet)\n",
        "sifiraBolmeKontrol(\"Otomobil ortalama süre: \",oS,otomobil)\n",
        "sifiraBolmeKontrol(\"Minibüs ortalama süre: \",miS,minibus)\n",
        "# print(\"Motorsiklet ortalama süre: \",(mS/motorsiklet))\n",
        "# print(\"Otomobil ortalama süre: \",(oS/otomobil))\n",
        "# print(\"Minibüs ortalama süre: \",(miS/minibus))"
      ],
      "metadata": {
        "colab": {
          "base_uri": "https://localhost:8080/"
        },
        "id": "dE_bsVqiXx8O",
        "outputId": "297a8c51-fa41-40a1-e943-512684373964"
      },
      "execution_count": null,
      "outputs": [
        {
          "output_type": "stream",
          "name": "stdout",
          "text": [
            "Araç kodunu giriniz(Motosiklet=1, Otomobil=2, Minibüs=3): 1\n",
            "Kalacağınız süreyi giriniz: 5\n",
            "Araç kodunu giriniz(Motosiklet=1, Otomobil=2, Minibüs=3): 2\n",
            "Kalacağınız süreyi giriniz: 6\n",
            "Araç kodunu giriniz(Motosiklet=1, Otomobil=2, Minibüs=3): 111\n",
            "Kalacağınız süreyi giriniz: 11\n",
            "37.5\n",
            "Motorsiklet 1 Otomobil 1 Minibüs 0 Toplam Araç Sayısı:  2\n",
            "Motorsiklet ortalama süre:  5.0\n",
            "Otomobil ortalama süre:  6.0\n",
            "Bu araç tipi hiç kullanılmamıştır\n"
          ]
        }
      ]
    },
    {
      "cell_type": "markdown",
      "source": [
        "Eğer herhangi bir atama yapılmazsa default olarak fonksiyonda belirtilen değeri alır."
      ],
      "metadata": {
        "id": "z6H3eJCbtTLr"
      }
    },
    {
      "cell_type": "code",
      "source": [
        "def fonk1 (mesaj, sayac=14): #deger atamalı olan fonksiyonda atamasız olandan sonra olmalı\n",
        "  print(sayac, ' ',mesaj)\n",
        "\n",
        "for i in range(1,5):\n",
        "  fonk1('mumdur',i)\n",
        "fonk1('mumdur')\n",
        "fonk1(sayac=5,mesaj='mudur')\n",
        "fonk1(5,'mudur')"
      ],
      "metadata": {
        "colab": {
          "base_uri": "https://localhost:8080/"
        },
        "id": "sdQ9_b7rmVGG",
        "outputId": "b6041e78-b41b-4891-ea5f-82677faa9766"
      },
      "execution_count": null,
      "outputs": [
        {
          "output_type": "stream",
          "name": "stdout",
          "text": [
            "1   mumdur\n",
            "2   mumdur\n",
            "3   mumdur\n",
            "4   mumdur\n",
            "14   mumdur\n",
            "5   mudur\n",
            "mudur   5\n"
          ]
        }
      ]
    },
    {
      "cell_type": "markdown",
      "source": [
        "Klavyeden girilen 10 değer arasından en büyük iki değeri ekrana yazdıran fonksiyonu tasarlayınız"
      ],
      "metadata": {
        "id": "igt6x7jzsgaq"
      }
    },
    {
      "cell_type": "code",
      "source": [
        "enBuyuk = int(input('1. sayıyı giriniz: '))\n",
        "sonrakiEnBuyuk = 0\n",
        "for i in range(2,11):  \n",
        "  sayi = int(input(str(i) + '. sayıyı giriniz: '))\n",
        "  if sayi > sonrakiEnBuyuk:\n",
        "    sonrakiEnBuyuk = sayi\n",
        "  if sonrakiEnBuyuk >  enBuyuk:\n",
        "     x = enBuyuk\n",
        "     enBuyuk = sonrakiEnBuyuk\n",
        "     sonrakiEnBuyuk = x\n",
        "\n",
        "\n",
        "\n",
        "print(enBuyuk, 'En büyük sayı')\n",
        "print(sonrakiEnBuyuk, 'İkinci En büyük sayı')"
      ],
      "metadata": {
        "colab": {
          "base_uri": "https://localhost:8080/"
        },
        "id": "NysysQphnkVV",
        "outputId": "bb40364f-12fd-449d-af03-3ae3f58fcc91"
      },
      "execution_count": null,
      "outputs": [
        {
          "output_type": "stream",
          "name": "stdout",
          "text": [
            "1. sayıyı giriniz: 5\n",
            "2. sayıyı giriniz: 9\n",
            "3. sayıyı giriniz: 2\n",
            "4. sayıyı giriniz: 3\n",
            "5. sayıyı giriniz: 11\n",
            "6. sayıyı giriniz: 7\n",
            "7. sayıyı giriniz: 4\n",
            "8. sayıyı giriniz: 8\n",
            "9. sayıyı giriniz: 10\n",
            "10. sayıyı giriniz: 21\n",
            "21 En büyük sayı\n",
            "11 İkinci En büyük sayı\n"
          ]
        }
      ]
    },
    {
      "cell_type": "markdown",
      "source": [
        "4913 ilginç bir sayıdır. Şöyleki 4913= (4+9+1+3)^3. Bu özelliğe sahip 4 basamaklı bir sayı daha vardır. Bu sayıyı bulan fonksiyonu hazırlayınız"
      ],
      "metadata": {
        "id": "ULJJBpRLsoCN"
      }
    },
    {
      "cell_type": "code",
      "source": [
        "for i in range(1000,10000):\n",
        "  birler=i%10\n",
        "  onlar=(i%100)//10\n",
        "  yuzler=(i//100)%10\n",
        "  binler=i//1000\n",
        "  if i == (birler+onlar+yuzler+binler)**3:\n",
        "    print(i)"
      ],
      "metadata": {
        "colab": {
          "base_uri": "https://localhost:8080/"
        },
        "id": "7j_kJXkCrVhM",
        "outputId": "b6a91b59-7546-45b1-9b84-299eed635434"
      },
      "execution_count": null,
      "outputs": [
        {
          "output_type": "stream",
          "name": "stdout",
          "text": [
            "4913\n",
            "5832\n"
          ]
        }
      ]
    },
    {
      "cell_type": "code",
      "source": [
        "def fonk2():\n",
        "  for i in range(1000,10000):\n",
        "    birler=i%10\n",
        "    onlar=(i%100)//10\n",
        "    yuzler=(i//100)%10\n",
        "    binler=i//1000\n",
        "    if i == (birler+onlar+yuzler+binler)**3:\n",
        "      print(i)\n",
        "\n",
        "fonk2()"
      ],
      "metadata": {
        "colab": {
          "base_uri": "https://localhost:8080/"
        },
        "id": "H5vFkdxzsxv0",
        "outputId": "77813ce9-8096-4940-938e-2da03a60ee6d"
      },
      "execution_count": null,
      "outputs": [
        {
          "output_type": "stream",
          "name": "stdout",
          "text": [
            "4913\n",
            "5832\n"
          ]
        }
      ]
    },
    {
      "cell_type": "markdown",
      "source": [
        "40585 sayısı daha ilginç bir sayıdır. Şöyleki basamaklarınındaki rakamların faktöriyellerinin toplamı kendisine eşittir. 40585=4!+0!+5!+8!+5! bu özelliğe sahip 3 basamaklı bir sayı daha vardır. Bu sayıyı bulan fonksiyonu tasarlayınız."
      ],
      "metadata": {
        "id": "Nhnzx0ElsvAM"
      }
    },
    {
      "cell_type": "code",
      "source": [
        "def faktoriyelHesapla(sayi):\n",
        "  faktoriyel = 1\n",
        "  for i in range(1,sayi+1):\n",
        "    faktoriyel *= i\n",
        "  return faktoriyel"
      ],
      "metadata": {
        "id": "1EJsgND0vLqM"
      },
      "execution_count": null,
      "outputs": []
    },
    {
      "cell_type": "code",
      "source": [
        "for i in range(100,1000):\n",
        "  birler=i%10\n",
        "  onlar=(i%100)//10\n",
        "  yuzler=(i//100)%10\n",
        "  toplam = 0\n",
        "\n",
        "  toplam += faktoriyelHesapla(birler)\n",
        "  toplam += faktoriyelHesapla(onlar)\n",
        "  toplam += faktoriyelHesapla(yuzler)\n",
        "  if toplam == i:\n",
        "    print(i)"
      ],
      "metadata": {
        "colab": {
          "base_uri": "https://localhost:8080/"
        },
        "id": "5IYKb7qStIpr",
        "outputId": "50306794-c8cc-4122-ed28-8bd298b84d8c"
      },
      "execution_count": null,
      "outputs": [
        {
          "output_type": "stream",
          "name": "stdout",
          "text": [
            "145\n"
          ]
        }
      ]
    },
    {
      "cell_type": "markdown",
      "source": [
        "Yukarıdaki yerin fonksiyon olmadan hali bir alttaki kısım."
      ],
      "metadata": {
        "id": "R6qiKKZlypfd"
      }
    },
    {
      "cell_type": "code",
      "source": [
        "for i in range(100,1000):\n",
        "  birler=i%10\n",
        "  onlar=(i%100)//10\n",
        "  yuzler=(i//100)%10\n",
        "  deger1=1\n",
        "  deger2=1\n",
        "  deger3=1\n",
        "  for k in range(1,birler+1):\n",
        "    deger1 *= k\n",
        "  for k in range(1,onlar+1):\n",
        "    deger2 *= k\n",
        "  for k in range(1,yuzler+1):\n",
        "    deger3 *= k\n",
        "  if i == (deger1+deger2+deger3):\n",
        "    print(i)"
      ],
      "metadata": {
        "colab": {
          "base_uri": "https://localhost:8080/"
        },
        "id": "fyJk9ExQwhEz",
        "outputId": "ad6dc7cb-66f3-4423-a776-7b5c336375b9"
      },
      "execution_count": null,
      "outputs": [
        {
          "output_type": "stream",
          "name": "stdout",
          "text": [
            "145\n"
          ]
        }
      ]
    },
    {
      "cell_type": "markdown",
      "source": [
        "Hangi 4 basamaklı sayının rakamları kendi kuvvetlerine gönderilip toplanırsa yine aynı sayıyı verir? \n",
        "\n",
        "\n",
        "> örn sayi abcd olsun, abcd=a^a+ b^b+ c^c+ d^d"
      ],
      "metadata": {
        "id": "7MGNHCvVtCgN"
      }
    },
    {
      "cell_type": "code",
      "source": [
        "for i in range(1000,10000):\n",
        "    birler=i%10\n",
        "    onlar=(i%100)//10\n",
        "    yuzler=(i//100)%10\n",
        "    binler=i//1000\n",
        "    toplam = birler**birler + onlar**onlar + yuzler**yuzler + binler**binler\n",
        "    if toplam == i:\n",
        "      print(i)"
      ],
      "metadata": {
        "colab": {
          "base_uri": "https://localhost:8080/"
        },
        "id": "pCpYWi7rxJ-M",
        "outputId": "c58c04e0-e602-4e73-c95b-674d34d477b9"
      },
      "execution_count": null,
      "outputs": [
        {
          "output_type": "stream",
          "name": "stdout",
          "text": [
            "3435\n"
          ]
        }
      ]
    }
  ]
}