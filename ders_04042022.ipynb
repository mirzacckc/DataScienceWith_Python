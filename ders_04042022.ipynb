{
  "nbformat": 4,
  "nbformat_minor": 0,
  "metadata": {
    "colab": {
      "name": "ders_04042022.ipynb",
      "provenance": [],
      "collapsed_sections": []
    },
    "kernelspec": {
      "name": "python3",
      "display_name": "Python 3"
    },
    "language_info": {
      "name": "python"
    }
  },
  "cells": [
    {
      "cell_type": "code",
      "execution_count": null,
      "metadata": {
        "colab": {
          "base_uri": "https://localhost:8080/"
        },
        "id": "Qg0iCPjTP7bQ",
        "outputId": "17aaceaf-52bd-4ce7-b4b7-e89f25e994cd"
      },
      "outputs": [
        {
          "output_type": "stream",
          "name": "stdout",
          "text": [
            "Hello world\n"
          ]
        }
      ],
      "source": [
        "print('Hello world')"
      ]
    },
    {
      "cell_type": "markdown",
      "source": [
        "Değişken Tanımlama Kuralları\n",
        "\n",
        "1. Türkçe karakter kullanmayınız.\n",
        "2. İsimlendirme sayı ile başlamaz.\n",
        "3. Boşluk ve özel karakjter kullanılmaz.(alt tire harici)\n",
        "4. Büyük harfle başlanmaması önerilir."
      ],
      "metadata": {
        "id": "f5d0_g7KQbYY"
      }
    },
    {
      "cell_type": "code",
      "source": [
        "a=2+5\n",
        "print(a)\n",
        "b='2'+'5'\n",
        "print(b)"
      ],
      "metadata": {
        "colab": {
          "base_uri": "https://localhost:8080/"
        },
        "id": "gX_31t-ZQbjR",
        "outputId": "267e6959-3cb3-4f95-f67d-b1f9de551b28"
      },
      "execution_count": null,
      "outputs": [
        {
          "output_type": "stream",
          "name": "stdout",
          "text": [
            "7\n",
            "25\n"
          ]
        }
      ]
    },
    {
      "cell_type": "code",
      "source": [
        "isim='Mc'\n",
        "print(\"Hoşgeldin \" + isim)"
      ],
      "metadata": {
        "colab": {
          "base_uri": "https://localhost:8080/"
        },
        "id": "9XJ2IfsORVZq",
        "outputId": "b5e16bba-fe00-491e-bf59-5def7760993e"
      },
      "execution_count": null,
      "outputs": [
        {
          "output_type": "stream",
          "name": "stdout",
          "text": [
            "Hoşgeldin Mc\n"
          ]
        }
      ]
    },
    {
      "cell_type": "code",
      "source": [
        "a=2+5\n",
        "b=2*8\n",
        "c=2-1\n",
        "d=8/2\n",
        "\n",
        "print(a)\n",
        "print(b)\n",
        "print(c)\n",
        "print(d)"
      ],
      "metadata": {
        "colab": {
          "base_uri": "https://localhost:8080/"
        },
        "id": "nBvWrHKZRxs5",
        "outputId": "590b489e-89b6-470c-d300-97f92a4e2b84"
      },
      "execution_count": null,
      "outputs": [
        {
          "output_type": "stream",
          "name": "stdout",
          "text": [
            "7\n",
            "16\n",
            "1\n",
            "4.0\n"
          ]
        }
      ]
    },
    {
      "cell_type": "code",
      "source": [
        "isim=input('İsminizi Giriniz: ')\n",
        "cinsiyet = input('Cinsiyetinizi Giriniz (E / K): ')\n",
        "if cinsiyet == 'E':\n",
        "  print('Hoşgeldin ' + isim + ' Bey')\n",
        "#else:\n",
        "  #print('Hoşgeldin ' + isim + ' Hanım')\n",
        "elif cinsiyet == 'K':\n",
        "  print('Hoşgeldin ' + isim + ' Hanım')"
      ],
      "metadata": {
        "colab": {
          "base_uri": "https://localhost:8080/"
        },
        "id": "MHeHBoEkSrv4",
        "outputId": "e15d4bda-9f95-4a13-836b-006ae46db5d6"
      },
      "execution_count": null,
      "outputs": [
        {
          "output_type": "stream",
          "name": "stdout",
          "text": [
            "İsminizi Giriniz: Ahmet\n",
            "Cinsiyetinizi Giriniz (E / K): E\n",
            "Hoşgeldin Ahmet Bey\n"
          ]
        }
      ]
    },
    {
      "cell_type": "code",
      "source": [
        "sayi1= int(input('Sayı 1 giriniz: '))\n",
        "sayi2=int(input('Sayı 2 giriniz: '))\n",
        "toplam = sayi1 + sayi2\n",
        "print(toplam)\n"
      ],
      "metadata": {
        "colab": {
          "base_uri": "https://localhost:8080/"
        },
        "id": "TmlCIW2QTmMZ",
        "outputId": "f363394b-da6d-4451-8c6d-dcd7aadce949"
      },
      "execution_count": null,
      "outputs": [
        {
          "output_type": "stream",
          "name": "stdout",
          "text": [
            "Sayı 1 giriniz: 2\n",
            "Sayı 2 giriniz: 3\n",
            "5\n"
          ]
        }
      ]
    },
    {
      "cell_type": "markdown",
      "source": [
        "Convert yerine donusturmek istediğiniz degiskenin turunu basına yazıyoruz integer = int string = str"
      ],
      "metadata": {
        "id": "zwq6cmvieeAW"
      }
    },
    {
      "cell_type": "code",
      "source": [
        "sayi3=int(input()) #integer\n",
        "sayi4=input() #string\n",
        "toplam2 = sayi3 + int(sayi4)\n",
        "print(toplam2)"
      ],
      "metadata": {
        "colab": {
          "base_uri": "https://localhost:8080/"
        },
        "id": "UEjGdgcvU50R",
        "outputId": "34384d39-e729-4af5-82c9-2eb3c5f9513d"
      },
      "execution_count": null,
      "outputs": [
        {
          "output_type": "stream",
          "name": "stdout",
          "text": [
            "3\n",
            "2\n",
            "5\n"
          ]
        }
      ]
    },
    {
      "cell_type": "code",
      "source": [
        "toplam3 = str(sayi3) + sayi4\n",
        "print(toplam3)"
      ],
      "metadata": {
        "colab": {
          "base_uri": "https://localhost:8080/"
        },
        "id": "jv6mrlaDVjJB",
        "outputId": "eef6b2cd-f652-4c5a-f180-3de73ae1367a"
      },
      "execution_count": null,
      "outputs": [
        {
          "output_type": "stream",
          "name": "stdout",
          "text": [
            "32\n"
          ]
        }
      ]
    },
    {
      "cell_type": "markdown",
      "source": [
        "İki farklı türdeki değişken toplma vb. işlemi yapılamaz.Float ve int birlikte hata vermeyebilir bazı derleyiciler hariç.\n",
        "\n",
        "---\n",
        "\n"
      ],
      "metadata": {
        "id": "phRqCaBYVvxw"
      }
    },
    {
      "cell_type": "code",
      "source": [
        "bolme= sayi3/sayi2\n",
        "bolme #print(bolme) = bolme"
      ],
      "metadata": {
        "colab": {
          "base_uri": "https://localhost:8080/"
        },
        "id": "yycCHGiOV9h4",
        "outputId": "8da09308-e9da-4cb0-9ef3-4dfd067d7cbf"
      },
      "execution_count": null,
      "outputs": [
        {
          "output_type": "execute_result",
          "data": {
            "text/plain": [
              "1.0"
            ]
          },
          "metadata": {},
          "execution_count": 19
        }
      ]
    },
    {
      "cell_type": "code",
      "source": [
        "virgulluSayi = input('Bir sayı giriniz: ') #string\n",
        "virgulluSayi1 = float(input('Bir sayı giriniz: ')) #float\n",
        "print(virgulluSayi)\n",
        "print(virgulluSayi1)"
      ],
      "metadata": {
        "colab": {
          "base_uri": "https://localhost:8080/"
        },
        "id": "Qsa3k1R4e1IV",
        "outputId": "fb766a97-6283-42ea-d9a3-8d5f63949fc8"
      },
      "execution_count": null,
      "outputs": [
        {
          "output_type": "stream",
          "name": "stdout",
          "text": [
            "Bir sayı giriniz: 15.4\n",
            "Bir sayı giriniz: 17.8\n",
            "15.4\n",
            "17.8\n"
          ]
        }
      ]
    },
    {
      "cell_type": "code",
      "source": [
        "carpma = virgulluSayi * 2\n",
        "print(carpma)"
      ],
      "metadata": {
        "colab": {
          "base_uri": "https://localhost:8080/"
        },
        "id": "ld674Qhkfged",
        "outputId": "9d13d417-4f09-4375-da5a-f178af5671b2"
      },
      "execution_count": null,
      "outputs": [
        {
          "output_type": "stream",
          "name": "stdout",
          "text": [
            "15.415.4\n"
          ]
        }
      ]
    },
    {
      "cell_type": "code",
      "source": [
        "carpma = virgulluSayi1 * 2\n",
        "print(carpma)"
      ],
      "metadata": {
        "colab": {
          "base_uri": "https://localhost:8080/"
        },
        "id": "vsc0Y6eYfx_7",
        "outputId": "48947fee-a180-48c5-f3da-ca6e013b5222"
      },
      "execution_count": null,
      "outputs": [
        {
          "output_type": "stream",
          "name": "stdout",
          "text": [
            "35.6\n"
          ]
        }
      ]
    },
    {
      "cell_type": "code",
      "source": [
        "#Vize, final notu ile ortalama hesaplama\n",
        "vize = int(input('Vize puanını gir: '))\n",
        "final = float(input('Final puanını gir: '))\n"
      ],
      "metadata": {
        "colab": {
          "base_uri": "https://localhost:8080/"
        },
        "id": "6zZ6MSzBgDXC",
        "outputId": "de09c198-3772-4e80-c5c8-a71e3da8e72f"
      },
      "execution_count": null,
      "outputs": [
        {
          "name": "stdout",
          "output_type": "stream",
          "text": [
            "Vize puanını gir: 80\n",
            "Final puanını gir: 70\n"
          ]
        }
      ]
    },
    {
      "cell_type": "code",
      "source": [
        "ort = vize * 0.6 + final * 0.4\n",
        "print(ort)"
      ],
      "metadata": {
        "colab": {
          "base_uri": "https://localhost:8080/"
        },
        "id": "OhLJ4GNOggcN",
        "outputId": "c477a5f0-b560-40c4-92bf-248e889b467e"
      },
      "execution_count": null,
      "outputs": [
        {
          "output_type": "stream",
          "name": "stdout",
          "text": [
            "76.0\n"
          ]
        }
      ]
    },
    {
      "cell_type": "code",
      "source": [
        "#Ortalama notunu harf notuna dönüştürme\n",
        "if ort >= 96:\n",
        "  print('AA')\n",
        "elif ort < 96 and ort >= 85:\n",
        "  print('BA')\n",
        "elif ort >75 and ort < 85:\n",
        "  print('BB')\n",
        "elif ort >= 60 and ort < 75:\n",
        "  print('CB')\n",
        "else:\n",
        "  print('FF')"
      ],
      "metadata": {
        "colab": {
          "base_uri": "https://localhost:8080/"
        },
        "id": "wbWA_MVkmQbF",
        "outputId": "73ff0b51-a1ca-4e8c-9f15-92aa7835877d"
      },
      "execution_count": null,
      "outputs": [
        {
          "output_type": "stream",
          "name": "stdout",
          "text": [
            "BB\n"
          ]
        }
      ]
    },
    {
      "cell_type": "code",
      "source": [
        "#Vücut Kitle İndeksi hesaplaması\n",
        "boy = float(input('Boyunzu Giriniz (m): '))\n",
        "kilo = float(input('Kilonuzu Giriniz (kg): '))\n",
        "\n",
        "vki = kilo/(boy*boy)\n",
        "print(vki)"
      ],
      "metadata": {
        "colab": {
          "base_uri": "https://localhost:8080/"
        },
        "id": "9MhcXaXkhmP1",
        "outputId": "9a08ec30-1396-44fd-a6b6-977e5a68c907"
      },
      "execution_count": null,
      "outputs": [
        {
          "output_type": "stream",
          "name": "stdout",
          "text": [
            "Boyunzu Giriniz (m): 1.88\n",
            "Kilonuzu Giriniz (kg): 105\n",
            "29.708012675418743\n"
          ]
        }
      ]
    },
    {
      "cell_type": "code",
      "source": [
        "if vki <= 18.4:\n",
        "  print('Zayıf')\n",
        "elif vki <= 24.9 and vki > 18.4:\n",
        "  print('Normal')\n",
        "elif vki <= 29.9 and vki >24.9:\n",
        "  print('Fazla Kilolu')\n",
        "elif vki < 34.9 and vki >29.9:\n",
        "  print('Şişman')\n",
        "else:\n",
        "  print('Aşırı Şişman')\n"
      ],
      "metadata": {
        "colab": {
          "base_uri": "https://localhost:8080/"
        },
        "id": "oIyqi3bIjQ_l",
        "outputId": "a8ba5aa7-f382-42b3-d3c3-ccfb58e44fc9"
      },
      "execution_count": null,
      "outputs": [
        {
          "output_type": "stream",
          "name": "stdout",
          "text": [
            "Fazla Kilolu\n"
          ]
        }
      ]
    }
  ]
}